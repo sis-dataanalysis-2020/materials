{
 "cells": [
  {
   "cell_type": "markdown",
   "metadata": {},
   "source": [
    "# データ分析演習 第4週講義資料\n",
    "- 担当: 川嶋，山本，湯本\n",
    "\n",
    "## この週の目的\n",
    "1. GitHubを用いたデータの取得，課題の提出ができる\n",
    "2. Markdown記法に慣れる\n",
    "\n",
    "## 演習課題\n",
    "- この週から課題の提出方法が**大きく**変わります． 今週を含め以降の週では，今日説明する方法で課題の提出を行います．"
   ]
  },
  {
   "cell_type": "code",
   "execution_count": null,
   "metadata": {},
   "outputs": [],
   "source": [
    "#"
   ]
  }
 ],
 "metadata": {
  "kernelspec": {
   "display_name": "Python 3",
   "language": "python",
   "name": "python3"
  },
  "language_info": {
   "codemirror_mode": {
    "name": "ipython",
    "version": 3
   },
   "file_extension": ".py",
   "mimetype": "text/x-python",
   "name": "python",
   "nbconvert_exporter": "python",
   "pygments_lexer": "ipython3",
   "version": "3.6.9"
  }
 },
 "nbformat": 4,
 "nbformat_minor": 2
}
