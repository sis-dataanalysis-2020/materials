{
 "cells": [
  {
   "cell_type": "markdown",
   "metadata": {},
   "source": [
    "# データ分析演習 week07 演習課題\n",
    "- 氏名： 氏名に置き換えてください\n",
    "- 学生番号： 学生番号に置き換えてください"
   ]
  },
  {
   "cell_type": "markdown",
   "metadata": {},
   "source": [
    "## はじめに\n",
    "1. このファイルの名前の(JBxxxxxx)を自分の学生番号にしてください．\n",
    "2. 上記の氏名と学生番号を忘れずに記入してください．"
   ]
  },
  {
   "cell_type": "markdown",
   "metadata": {},
   "source": [
    "## 提出方法\n",
    "- GitHub Desktopを通じてGitHubへ提出\n",
    "- 締切: **6月18日（木）**"
   ]
  },
  {
   "cell_type": "markdown",
   "metadata": {},
   "source": [
    "## この演習資料の進め方\n",
    "1. 教科書「東京大学のデータサインティスト育成講座」 ch2.5，および教科書サポートページからダウンロードしたノートブック（Chapter2.ipynbの2.5）を一通り学習してください．本資料前半の補足も参考にしてください．\n",
    "2. 以下の演習課題を解いてください．\n",
    "---"
   ]
  },
  {
   "cell_type": "markdown",
   "metadata": {},
   "source": [
    "はじめに，本日の演習で使うモジュールをインポートしておきます．以下のセルを実行してください．\n",
    "- 教科書とは異なり， `sns.set() ` という行を追加しています．詳しくは本日の講義資料を参照してください．"
   ]
  },
  {
   "cell_type": "code",
   "execution_count": null,
   "metadata": {},
   "outputs": [],
   "source": [
    "# Matplotlib と Seabornの読み込み\n",
    "# Seabornはきれいに図示できる\n",
    "import matplotlib as mpl\n",
    "import seaborn as sns\n",
    "sns.set() # デザインをseabornの初期設定にする（講義資料pdfの補足参照）\n",
    "\n",
    "# pyplotにはpltの別名で実行できるようにする\n",
    "import matplotlib.pyplot as plt\n",
    "\n",
    "# Jupyter Notebook上でグラフを表示させるために必要なマジックコマンド\n",
    "%matplotlib inline"
   ]
  },
  {
   "cell_type": "code",
   "execution_count": null,
   "metadata": {},
   "outputs": [],
   "source": [
    "import numpy as np # Numpyの読み込み\n",
    "from numpy import random\n",
    "\n",
    "# 小数第3位まで表示\n",
    "%precision 3"
   ]
  },
  {
   "cell_type": "markdown",
   "metadata": {},
   "source": [
    "## 教科書の補足\n",
    "\n",
    "matplotlibの使い方というよりも，乱数でxとyのデータを作成しているため，xとyに何が入っているのか理解しにくいところがありますので，補足しておきます．"
   ]
  },
  {
   "cell_type": "markdown",
   "metadata": {},
   "source": [
    "## ch.2.5.2 1つめの例"
   ]
  },
  {
   "cell_type": "markdown",
   "metadata": {},
   "source": [
    "ch.2.5.1の散布図の例は少しややこしいですが，最小限の情報だけで散布図を書くと，以下の様なコードで描けます．\n",
    "- なお，補足すると， 3番目の引数に'o'と指定することで， `plot()`は点間を直線で繋がずにデータだけ表示し，結果として散布図になります． たとえば， 3番目の引数を消すとどうなるか試して見てください．"
   ]
  },
  {
   "cell_type": "code",
   "execution_count": null,
   "metadata": {
    "scrolled": true
   },
   "outputs": [],
   "source": [
    "x = np.array([30, 20, 50, 40, 25]) # x のデータ\n",
    "y = np.array([20, 10, 40, 35, 25]) # y のデータ\n",
    "plt.figure(figsize=(20,6))\n",
    "plt.plot(x, y, 'o') # 散布図を書く． \n",
    "plt.grid(True) #  grid（グラフの中にある縦線と横線）の表示　（sns.set()を行えば，デフォルトでTrueになる）"
   ]
  },
  {
   "cell_type": "markdown",
   "metadata": {},
   "source": [
    "散布図の書き方は上の通りなのですが，教科書 ch.2.5.2 の1つめの例にある， xとyのデータの用意の仕方がちょっと一見では分かりづらいと思いますので，補足します．\n",
    "  - なお， 以下のセルは Raw NBConvert という種類のセルで，文字をそのまま表示するためのセルです．ですので，実行しても何も起こりませんので注意してください．"
   ]
  },
  {
   "cell_type": "raw",
   "metadata": {},
   "source": [
    "# x軸のデータ\n",
    "x = np.random.randn(30)\n",
    "\n",
    "# y軸のデータ\n",
    "y = np.sin(x) + np.random.randn(30)"
   ]
  },
  {
   "cell_type": "markdown",
   "metadata": {},
   "source": [
    "まず， `np.random.randn(30)` ですが，　これは標準正規分布に従う乱数を30個生成しています．"
   ]
  },
  {
   "cell_type": "code",
   "execution_count": null,
   "metadata": {
    "scrolled": false
   },
   "outputs": [],
   "source": [
    "x = np.random.randn(30) # 標準正規分布 N(0, 1) に従う値を30個生成\n",
    "x # x　を表示"
   ]
  },
  {
   "cell_type": "markdown",
   "metadata": {},
   "source": [
    "次の `y = np.sin(x) + np.random.randn(30)`  ですが， 一つずつ説明します．\n",
    "\n",
    "まず， `np.sin(x)` ですが，これはxの各要素にsin関数を適用しています．"
   ]
  },
  {
   "cell_type": "code",
   "execution_count": null,
   "metadata": {
    "scrolled": false
   },
   "outputs": [],
   "source": [
    "y = np.sin(x) # x の各要素にsin関数を適用\n",
    "y # y を表示"
   ]
  },
  {
   "cell_type": "markdown",
   "metadata": {},
   "source": [
    "このyの結果は，先ほど作成した変数 $x$ の各要素 $x_i$ に対して， sin($x_i$) を実行した結果となっています．  \n",
    "\n",
    "`np.sin(x)` の動作についてもう少し分かりやすくみるために， $x=0$ と $x=\\frac{\\pi}{2}$ に対する $\\sin(x)$ の結果を見てみましょう．   なお，以下のコードの `np.pi` は $\\pi=3.141492...$ を表します．"
   ]
  },
  {
   "cell_type": "code",
   "execution_count": null,
   "metadata": {
    "scrolled": true
   },
   "outputs": [],
   "source": [
    "y = np.sin(np.array([0, np.pi / 2])) # sin(0) と sin(π/2) の結果を計算\n",
    "y # yを表示"
   ]
  },
  {
   "cell_type": "markdown",
   "metadata": {},
   "source": [
    "$\\sin(0)=0$, $\\sin(\\frac{\\pi}{2})=1$ となっていることが分かりますね．\n",
    "- 参考: `np.sin()`のように，numpyが提供する関数の中には，ndarray型に対して関数を実行すると， 自動的に各要素に関数を適用し，その結果をndarray型として返す処理を行ってくれます． このような機能を備えたnumpyの関数をユニバーサル関数と呼びます．教科書の5章にもユニバーサル関数に関する説明が少しあります．"
   ]
  },
  {
   "cell_type": "markdown",
   "metadata": {},
   "source": [
    "さて， `np.sin(x) + np.random.randn(30)` ですが， これは， `np.sin(x)` の結果それぞれの要素に対して， `np.random.randn()` で発生させた乱数を足しています．\n",
    "たとえば， `np.sin(x) + np.random.randn(30)` の結果の1番目の要素は，  xの1番目の要素に対する $\\sin(x_1)$の結果に 標準正規分布に従う乱数を足したものになっています． よく分からなければ，以下の2つのベクトル"
   ]
  },
  {
   "cell_type": "code",
   "execution_count": null,
   "metadata": {
    "scrolled": false
   },
   "outputs": [],
   "source": [
    "np.sin(x) "
   ]
  },
  {
   "cell_type": "markdown",
   "metadata": {},
   "source": [
    "と"
   ]
  },
  {
   "cell_type": "code",
   "execution_count": null,
   "metadata": {
    "scrolled": true
   },
   "outputs": [],
   "source": [
    "np.random.randn(30)"
   ]
  },
  {
   "cell_type": "markdown",
   "metadata": {},
   "source": [
    "を要素ごとに足したベクトルが `np.sin(x) + np.random.randn(30)` の結果と解釈してもらった方が分かりやすいかもしれません．"
   ]
  },
  {
   "cell_type": "markdown",
   "metadata": {},
   "source": [
    "## ch. 2.5.2  2つめの例"
   ]
  },
  {
   "cell_type": "markdown",
   "metadata": {},
   "source": [
    "この例も，以下のコードが一見理解しづらいと思います． \n",
    " -  以下のセルも Raw NBConvert という種類のセルです．実行しても何も起こりません．"
   ]
  },
  {
   "cell_type": "raw",
   "metadata": {},
   "source": [
    "# データの範囲\n",
    "numpy_data_x = np.arange(1000)\n",
    "\n",
    "# 乱数の発生と積み上げ\n",
    "numpy_random_data_y = np.random.randn(1000).cumsum()"
   ]
  },
  {
   "cell_type": "markdown",
   "metadata": {},
   "source": [
    "まず， `np.arange(1000)` ですが， `np.arange(n)`は0からn-1まで1ずつ増えていくndarray型の配列を作成する関数です\n",
    "- 参考: 数の初期値や増え方なども指定できます．デフォルトでは1ずつ増えていきます．"
   ]
  },
  {
   "cell_type": "code",
   "execution_count": null,
   "metadata": {
    "scrolled": true
   },
   "outputs": [],
   "source": [
    "x = np.arange(100) # 0　から 99 までの配列を作成\n",
    "x # x を表示"
   ]
  },
  {
   "cell_type": "markdown",
   "metadata": {},
   "source": [
    "次の `np.random.randn(1000).cumsum()` ですが， `cumsum()` は， 配列の累積和を求める関数です． たとえば，"
   ]
  },
  {
   "cell_type": "code",
   "execution_count": null,
   "metadata": {
    "scrolled": true
   },
   "outputs": [],
   "source": [
    "y = np.array([1,2,3,4,5]) \n",
    "y = y.cumsum() # y の累積和を計算して yに代入\n",
    "y # y　を表示"
   ]
  },
  {
   "cell_type": "markdown",
   "metadata": {},
   "source": [
    "yの2番目の要素は3となっていますが， これは， xの1番目の要素と2番目の要素を足した結果であり， yの3番目の結果は，その結果にさらにxの3番目の要素を足した結果になっていますね．"
   ]
  },
  {
   "cell_type": "markdown",
   "metadata": {},
   "source": [
    "さて， `np.random.randn(1000).cumsum()` に戻ると，これは，  `np.random.randn(1000)`  の累積和を求めていることが分かります．  `randn()`は平均0，標準偏差1の正規分布に従う乱数です．それらの累積和を求めるということは， 直感的には，\n",
    "$\\frac{1}{2}$の確率で正の方向に進み， $\\frac{1}{2}$の確率で負の方向に進む操作を1000回繰り返したと考えることができます．\n",
    "その結果，株価のような上がったり下がったりするようなデータが生成されているわけですね．"
   ]
  },
  {
   "cell_type": "code",
   "execution_count": null,
   "metadata": {
    "scrolled": false
   },
   "outputs": [],
   "source": [
    "y = np.random.randn(100) # 標準正規分布に従う乱数100個生成\n",
    "y # y を表示"
   ]
  },
  {
   "cell_type": "code",
   "execution_count": null,
   "metadata": {
    "scrolled": true
   },
   "outputs": [],
   "source": [
    "y = y.cumsum() # 標準正規分布に従う乱数100個生成\n",
    "y # y を表示 一つ前のセルの結果と比べてみると良い．"
   ]
  },
  {
   "cell_type": "markdown",
   "metadata": {},
   "source": [
    "というわけで，教科書ｃｈ．2.5.1の2つめの例を簡単にまとめると， 以下のようになります．（データの数は100個にしています）"
   ]
  },
  {
   "cell_type": "code",
   "execution_count": null,
   "metadata": {
    "scrolled": false
   },
   "outputs": [],
   "source": [
    "x = np.arange(100) # 0　から 99 までの配列を作成\n",
    "y = np.random.randn(100).cumsum() # 標準正規分布に従う乱数100個生成し累積和を計算\n",
    "plt.figure(figsize=(20,6))\n",
    "plt.plot(x, y) # x と y　を表示\n",
    "plt.grid(True) #  grid（グラフの中にある縦線と横線）の表示　（sns.set()を行えば，デフォルトでTrueになる）"
   ]
  },
  {
   "cell_type": "markdown",
   "metadata": {},
   "source": [
    "なお， `plt.plot(x, y)` を `plt.plot(x, y, 'o')`  とすると，ｘとyの点のみが描画されます．"
   ]
  },
  {
   "cell_type": "code",
   "execution_count": null,
   "metadata": {
    "scrolled": true
   },
   "outputs": [],
   "source": [
    "plt.figure(figsize=(20,6))\n",
    "plt.plot(x, y, 'o') # さきほどと同じ x と y　を，今度は点だけ表示\n",
    "plt.grid(True) #  grid（グラフの中にある縦線と横線）の表示　（sns.set()を行えば，デフォルトでTrueになる）"
   ]
  },
  {
   "cell_type": "markdown",
   "metadata": {},
   "source": [
    "## ch.2.5.3 複数のグラフを重ねて表示する\n",
    "\n",
    "ch.2.5.3では，グラフを複数表示する方法について説明されています． 他にも，1つの領域に複数のグラフを重ねて表示する方法もありますので，ここで説明しておきます．\n",
    "\n",
    "今からする説明は 教科書の 練習問題 2-11 に対する解答となっています． 練習問題 2-11 は以下の内容です．"
   ]
  },
  {
   "cell_type": "markdown",
   "metadata": {},
   "source": [
    "> 「$y = sin(x)$」と「$y = cos(x)$」のグラフを重ねて描いてください（$x$は-10から10の値）"
   ]
  },
  {
   "cell_type": "markdown",
   "metadata": {},
   "source": [
    "まずは， x の値と， sin(x) と cos(x) の結果を用意します．"
   ]
  },
  {
   "cell_type": "code",
   "execution_count": null,
   "metadata": {},
   "outputs": [],
   "source": [
    "x = np.linspace(-10, 10, 100)  # -10 から 10　の区間を100等分した数字の配列を作成\n",
    "y1 = np.sin(x)  # xの各要素に対して， sin(x) を適用\n",
    "y2 = np.cos(x) # xの各要素に対して， cos(x) を適用"
   ]
  },
  {
   "cell_type": "markdown",
   "metadata": {},
   "source": [
    "複数のグラフを重ねて表示するには，1つのセル中に複数の`plot()`を描けばグラフが重ねて表示されます．"
   ]
  },
  {
   "cell_type": "code",
   "execution_count": null,
   "metadata": {},
   "outputs": [],
   "source": [
    "plt.plot(x, np.sin(x))  # sin(x) を描画\n",
    "plt.plot(x, np.cos(x))  #  cos(x) をさら描画\n",
    "plt.grid(True) #  grid（グラフの中にある縦線と横線）の表示　（sns.set()を行えば，デフォルトでTrueになる）"
   ]
  },
  {
   "cell_type": "markdown",
   "metadata": {},
   "source": [
    "このように，2つのグラフが重ねて表示されます．\n",
    "\n",
    "上記グラフは，どちらが`sin(x)`でどちらが`cos(x)`か分かりにくいので，凡例も表示してみましょう．"
   ]
  },
  {
   "cell_type": "code",
   "execution_count": null,
   "metadata": {
    "scrolled": true
   },
   "outputs": [],
   "source": [
    "plt.plot(x, np.sin(x), label=\"sin(x)\")  # 凡例に表示する用のラベル名を設定\n",
    "plt.plot(x, np.cos(x), label=\"cos(x)\")  # 凡例に表示する用のラベル名を設定\n",
    "plt.legend() # 凡例を表示\n",
    "plt.grid(True) #  grid（グラフの中にある縦線と横線）の表示　（sns.set()を行えば，デフォルトでTrueになる）"
   ]
  },
  {
   "cell_type": "markdown",
   "metadata": {},
   "source": [
    "## ここから演習課題"
   ]
  },
  {
   "cell_type": "markdown",
   "metadata": {},
   "source": [
    "- [ここにコードを書く] の箇所を修正してセルを完成していってください．\n",
    "- 出力がなんか変だな，と思ったら メニューの Kernel -> Restart & Clean outputをしてノートブックの一番上からセルを順次実行していってみてください．"
   ]
  },
  {
   "cell_type": "markdown",
   "metadata": {},
   "source": [
    "## 課題その1 散布図の描画\n",
    "\n"
   ]
  },
  {
   "cell_type": "markdown",
   "metadata": {},
   "source": [
    "20名の学生に対して数学と英語の試験を実施した．数学と英語の成績をそれぞれ `math`, `english` という変数名にndarrayとして格納した．"
   ]
  },
  {
   "cell_type": "code",
   "execution_count": null,
   "metadata": {},
   "outputs": [],
   "source": [
    "math = np.array([75, 70, 63, 67, 57, 72, 63, 53, 68, 53, 64, 63, 69, 56, 52, 48, 65, 64, 58, 62])\n",
    "english = np.array([80, 82, 77, 80, 69, 86, 86, 79, 79, 63, 85, 84, 86, 73, 66, 71, 73, 79, 72, 71])"
   ]
  },
  {
   "cell_type": "markdown",
   "metadata": {},
   "source": [
    "この数学と英語の成績を散布図として表示せよ． x軸を数学の成績，y軸を英語の成績とし， x軸の座標名は `math`， y軸の座標名は`english` とせよ．"
   ]
  },
  {
   "cell_type": "code",
   "execution_count": null,
   "metadata": {
    "scrolled": true
   },
   "outputs": [],
   "source": [
    "plt.figure(figsize=(20,6))\n",
    "[ここにコードを書く] # 散布図を書く ch.2.5.2 参照． なお， 'o' の部分を 'x'  や 'rx' に変えるとマーカがいろいろ変わります\n",
    "[ここにコードを書く] #x軸の座標名に math と表示する． ch.2.5.2 参照． \n",
    "[ここにコードを書く] # y軸の座標名に english と表示するch.2.5.2 参照． \n",
    "plt.grid(True) #  grid（グラフの中にある縦線と横線）の表示　（sns.set()を行えば，デフォルトでTrueになる）"
   ]
  },
  {
   "cell_type": "markdown",
   "metadata": {},
   "source": [
    "`plot()`の3番目の引数に`'o'`という文字列を指定したと思いますが，ここでマーカの形や色，線の種類を指定することができます．興味がある人は以下のページの**Markers** 以降を参照してみてください．\n",
    " - https://matplotlib.org/3.2.1/api/_as_gen/matplotlib.pyplot.plot.html"
   ]
  },
  {
   "cell_type": "markdown",
   "metadata": {},
   "source": [
    "演習とは関係ありませんが，数学と英語の相関係数についても求めてみましょう．2つのデータの相関係数を計算する方法はnumpy，scipy，pandasを使う方法さまざまありますが，ここでは，scipyの `stats.pearsonr()`関数を使用します． （教科書3.3.7.2 でも紹介されています）"
   ]
  },
  {
   "cell_type": "code",
   "execution_count": null,
   "metadata": {
    "scrolled": true
   },
   "outputs": [],
   "source": [
    "import scipy as sp\n",
    "sp.stats.pearsonr(math, english) # 数学と英語のピアソンの積率相関係数を計算する"
   ]
  },
  {
   "cell_type": "markdown",
   "metadata": {},
   "source": [
    "なお， `stats.pearsonr()` 結果の返り値は `(相関係数, p値)`の組（tuple）となっています．ここでのp値は無相関の検定に対するp値です．  math と english の相関係数だけ取り出すには，"
   ]
  },
  {
   "cell_type": "code",
   "execution_count": null,
   "metadata": {},
   "outputs": [],
   "source": [
    "sp.stats.pearsonr(math, english)[0]"
   ]
  },
  {
   "cell_type": "markdown",
   "metadata": {},
   "source": [
    "とします． "
   ]
  },
  {
   "cell_type": "markdown",
   "metadata": {},
   "source": [
    "## 課題その2 関数の描画"
   ]
  },
  {
   "cell_type": "markdown",
   "metadata": {},
   "source": [
    "$f(x) = x^2 - 4x + 3$ のグラフをかけ． $x$ の範囲は $-1 \\leq x \\leq 5$ とせよ．"
   ]
  },
  {
   "cell_type": "markdown",
   "metadata": {},
   "source": [
    "week05 の演習課題では， $f(x) = x^2 - 4x + 3$ について，$f(x)=0$ となる $x$ をニュートン法により求めました．今回は，この関数 $f(x)$ をグラフで書いてみましょう．\n",
    "まず， $f(x) = x^2 - 4x + 3$ を `my_function()` として 定義します． これは，week05の演習課題そのままです．"
   ]
  },
  {
   "cell_type": "code",
   "execution_count": null,
   "metadata": {
    "scrolled": false
   },
   "outputs": [],
   "source": [
    "def my_function(x):\n",
    "    return [ここにコードを書く] # f(x)を定義 (ch.2.3.3参照)"
   ]
  },
  {
   "cell_type": "markdown",
   "metadata": {},
   "source": [
    "次に，グラフを書くときの $x$ の範囲について定義しましょう． $f(x)=0$の解は $x=1$ と $x=3$の2つですので，それらを含んだ範囲として， $-1 \\leq x \\leq 5$ の範囲でグラフを描画することを考えてみます．\n",
    "`np.linspace()` という関数を使えば，ある範囲の等間隔な数字の配列を生成することができます． たとえば，  0から1を10等分した数字の配列を作成したければ，以下のようにします．"
   ]
  },
  {
   "cell_type": "code",
   "execution_count": null,
   "metadata": {
    "scrolled": true
   },
   "outputs": [],
   "source": [
    "x = np.linspace(0, 1, 10) # 0 から 1　の区間を10等分した数字の配列を作成\n",
    "x # x を表示"
   ]
  },
  {
   "cell_type": "markdown",
   "metadata": {},
   "source": [
    "-1 から 1　へ 100等分したければ，  `np.linspace(-1, 1, 100)` のようにします．"
   ]
  },
  {
   "cell_type": "code",
   "execution_count": null,
   "metadata": {
    "scrolled": true
   },
   "outputs": [],
   "source": [
    "x = np.linspace(-1, 1, 100) # -1 から 1　の区間を100等分した数字の配列を作成\n",
    "x # x を表示"
   ]
  },
  {
   "cell_type": "markdown",
   "metadata": {},
   "source": [
    "さて，今回は  xの範囲を$-1$から$5$とします．区間は100等にしてみましょう．"
   ]
  },
  {
   "cell_type": "code",
   "execution_count": null,
   "metadata": {
    "scrolled": false
   },
   "outputs": [],
   "source": [
    "[ここにコードを書く] # -1 から 5　の区間を100等分した数字の配列を作成\n",
    "x # x を表示"
   ]
  },
  {
   "cell_type": "markdown",
   "metadata": {},
   "source": [
    "参考までに，この $x$ に対して， `my_function(x)` を実行した結果についても見てみます．"
   ]
  },
  {
   "cell_type": "code",
   "execution_count": null,
   "metadata": {
    "scrolled": true
   },
   "outputs": [],
   "source": [
    "y = my_function(x) # x に対して my_function() を実行\n",
    "y # y を表示"
   ]
  },
  {
   "cell_type": "markdown",
   "metadata": {},
   "source": [
    "さて， これで x と y の用意はできたのでグラフを描画してみます． x軸とy軸の座標名も設定してみましょう．"
   ]
  },
  {
   "cell_type": "code",
   "execution_count": null,
   "metadata": {
    "scrolled": true
   },
   "outputs": [],
   "source": [
    "plt.figure(figsize=(20,6))\n",
    "[ここにコードを書く]  # f(x)を描画 ch.2.5.4　参照\n",
    "plt.hlines(y=0, xmin=-1, xmax=5, colors=\"r\", linestyles=\"dashed\") # y=0 に赤い補助線を引いてみる． hlines() は横線を引くための関数\n",
    "[ここにコードを書く] # X軸の座標名に x と書く\n",
    "[ここにコードを書く] # y軸の座標名に f(x) と書く\n",
    "plt.grid(True) #  grid（グラフの中にある縦線と横線）の表示　（sns.set()を行えば，デフォルトでTrueになる）"
   ]
  },
  {
   "cell_type": "markdown",
   "metadata": {},
   "source": [
    "図が表示されましたでしょうか？ 図の結果からも $f(x)=0$ の解が $x=1$と$x=3$ であることが分かりますね．"
   ]
  },
  {
   "cell_type": "markdown",
   "metadata": {},
   "source": [
    "なお， いまは x を $-1$ から $5$ の区間で100分割しましたが， もっと少ない分割でグラフを書いてみると，  `plot()`の挙動がよく分かります． ここでは，10分割してみまよう．"
   ]
  },
  {
   "cell_type": "code",
   "execution_count": null,
   "metadata": {
    "scrolled": true
   },
   "outputs": [],
   "source": [
    "x = np.linspace(-1, 5, 10) # -1 から 5　の区間を10等分した数字の配列を作成\n",
    "x # x を表示"
   ]
  },
  {
   "cell_type": "code",
   "execution_count": null,
   "metadata": {
    "scrolled": false
   },
   "outputs": [],
   "source": [
    "plt.figure(figsize=(20,6))\n",
    "plt.plot(x, my_function(x), 'o-')  # f(x)を描画．　点を丸で表示し，点同士を直線で繋げる\n",
    "plt.hlines(y=0, xmin=-1, xmax=5, colors=\"r\", linestyles=\"dashed\") # y=0 に補助線を引いてみる． hlines() は横線を引くための関数\n",
    "[ここにコードを書く] # X軸のラベルに x と書く\n",
    "[ここにコードを書く] # y軸のラベルに f(x) と書く\n",
    "plt.grid(True)"
   ]
  },
  {
   "cell_type": "markdown",
   "metadata": {},
   "source": [
    "先ほどの図とは異なり，ガタガタに見えるのではないでしょうか．これは， `plot()`は各点を順次繋いでいっているだけですので， 区間が粗いとこのような表示になります．"
   ]
  },
  {
   "cell_type": "markdown",
   "metadata": {},
   "source": [
    "## 課題3. ヒストグラムの表示"
   ]
  },
  {
   "cell_type": "markdown",
   "metadata": {},
   "source": [
    "課題3-1. 標準正規分布に従う乱数を10,000個作成し，ヒストグラムとして表示せよ．なお，ビンの個数は50個とし，表示するデータの範囲は-3から+3とせよ．"
   ]
  },
  {
   "cell_type": "code",
   "execution_count": null,
   "metadata": {
    "scrolled": false
   },
   "outputs": [],
   "source": [
    "[ここにコードを書く] # 標準正規分布（平均0，分散1）に従う乱数を10,000個作成しxに代入 (ch.2.2.3)\n",
    "x[:100] # x を先頭の100個だけ表示"
   ]
  },
  {
   "cell_type": "code",
   "execution_count": null,
   "metadata": {
    "scrolled": true
   },
   "outputs": [],
   "source": [
    "plt.figure(figsize=(20,6))\n",
    "[ここにコードを書く] # ヒストグラムを書く． ch2.5.5参照． ビンの個数は50，範囲は-3から3とせよ．\n",
    "plt.xlabel(\"x\") # x軸の座標名をxに設定\n",
    "plt.ylabel(\"Freq.\") #y軸の座標名をFreq.に設定\n",
    "plt.grid(True) #  grid（グラフの中にある縦線と横線）の表示　（sns.set()を行えば，デフォルトでTrueになる）"
   ]
  },
  {
   "cell_type": "markdown",
   "metadata": {},
   "source": [
    "乱数を10,000個も生成しているので，かなり正規分布に近い形になるのではと思います．"
   ]
  },
  {
   "cell_type": "markdown",
   "metadata": {},
   "source": [
    "課題3-2. 標準正規分布に従う乱数を今度は100個作成し，ヒストグラムとして表示せよ．"
   ]
  },
  {
   "cell_type": "markdown",
   "metadata": {},
   "source": [
    "ためしに，100個の乱数からヒストグラムを描いて見ましょう．　下記のセルを完成させ，実行する度にどのように変わるか確認してみてください．"
   ]
  },
  {
   "cell_type": "code",
   "execution_count": null,
   "metadata": {
    "scrolled": false
   },
   "outputs": [],
   "source": [
    "[ここにコードを書く] # 標準正規分布（平均0，分散1）に従う乱数を100個作成しxに代入 (ch.2.2.3)\n",
    "plt.figure(figsize=(20,6))\n",
    "[ここにコードを書く] # ヒストグラムを書く． ビンの個数は50， 範囲は-3から3とせよ．\n",
    "plt.xlabel(\"x\") # x軸の座標名をｘに設定\n",
    "plt.ylabel(\"Freq.\") #y軸の座標名をFreq.に設定\n",
    "plt.grid(True) #  grid（グラフの中にある縦線と横線）の表示　（sns.set()を行えば，デフォルトでTrueになる）"
   ]
  },
  {
   "cell_type": "markdown",
   "metadata": {},
   "source": [
    "今週の演習は以上です．  単にデータを与えるだけでなく，マーカの形，軸の座標名やx軸の範囲など，「可視化の手続きをプログラムで記述する」というグラフをプログラムで描くことのイメージをつかんでもらえたらと思います． \n",
    "\n",
    "可視化のライブラリはmatplotlibだけでなく，この教科書でも使われているseabornを始め様々なものがあります． たとえば， [plotly](https://plotly.com/)というライブラリを使えば，インタラクティブに動くグラフを簡単に作成することができます． 興味があればいろいろと調べてみてください．"
   ]
  }
 ],
 "metadata": {
  "kernelspec": {
   "display_name": "Python 3",
   "language": "python",
   "name": "python3"
  },
  "language_info": {
   "codemirror_mode": {
    "name": "ipython",
    "version": 3
   },
   "file_extension": ".py",
   "mimetype": "text/x-python",
   "name": "python",
   "nbconvert_exporter": "python",
   "pygments_lexer": "ipython3",
   "version": "3.7.6"
  }
 },
 "nbformat": 4,
 "nbformat_minor": 2
}
