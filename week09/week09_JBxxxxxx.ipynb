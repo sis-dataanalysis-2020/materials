{
 "cells": [
  {
   "cell_type": "markdown",
   "metadata": {},
   "source": [
    "# データ分析演習 week09 演習課題\n",
    "- 氏名：<氏名に置き換えてください>\n",
    "- 学生番号：<学生番号に置き換えてください>"
   ]
  },
  {
   "cell_type": "markdown",
   "metadata": {},
   "source": [
    "## はじめに\n",
    "\n",
    "1. このファイルの名前の(JBxxxxxx)を自分の学生番号にしてください．\n",
    "2. 上記の氏名と学生番号を忘れずに記入してください．"
   ]
  },
  {
   "cell_type": "markdown",
   "metadata": {},
   "source": [
    "## 提出方法\n",
    "\n",
    "- GitHub Desktopを通じてGitHubへ提出\n",
    "- 締切: **7月1日（木）**\n",
    "  - 遅れる場合はできるだけ早く提出してください．7月8日（木）14:30 を超える場合は連絡してください．"
   ]
  },
  {
   "cell_type": "markdown",
   "metadata": {},
   "source": [
    "## この演習資料の進め方\n",
    "\n",
    "1. 教科書「東京大学のデータサインティスト育成講座」 3.1（3章1節）〜 3.4（3章4節），および教科書サポートページからダウンロードしたノートブック（Chapter3.ipynb）を参考にしてください．一通り学習しておくのをお勧めします．\n",
    " - サポートサイト: https://book.mynavi.jp/supportsite/detail/9784839965259.html\n",
    " - パスワードは書籍に記載してあります．\n",
    "2. その後，教科書を参考にしながら以下の演習課題を解いてください\n",
    " - なんかよく分からないエラーが起こったら，一旦Jupyter notebookのメニューの Kernel -> Restart & Clear Outputを実行し一回初期化して，再度上からセルを実行すると解決することもあります．\n",
    "---"
   ]
  },
  {
   "cell_type": "markdown",
   "metadata": {},
   "source": [
    "## （重要）教科書の訂正と補足\n",
    "\n",
    "### NumpyとPandasによる分散と標準偏差\n",
    "\n",
    "オプションを指定しない場合（デフォルトで）：\n",
    "\n",
    "- Numpy の `var()` や `std()` は不偏でない分散，標準偏差を返します ($n$で割る方)．\n",
    "    - しかし Numpy の `cov()` は不偏共分散を返します．（$\\leftarrow$ ここがややこしい）\n",
    "- Pandas は，基本的には R と同じく，不偏分散やそこから平方根で計算される標準偏差などを返します ($n-1$で割る方)．\n",
    "    - したがって `var()`, `std()`, `cov()`, `describe()`などで表示されるのは，不偏分散や，不偏分散平方根です．\n",
    "    \n",
    "以下のコードで，実際に試してみます．$n=3$で，分散は$n$で割れば$\\frac{2}{3}$，$n-1$で割れば$\\frac{2}{2} = 1$になります．"
   ]
  },
  {
   "cell_type": "code",
   "execution_count": 1,
   "metadata": {},
   "outputs": [
    {
     "name": "stdout",
     "output_type": "stream",
     "text": [
      "----- Numpy default -----\n",
      "numpy var(): 0.6666666666666666\n",
      "numpy std(): 0.816496580927726\n",
      "numpy cov():\n",
      " [[ 1. -1.]\n",
      " [-1.  1.]]\n",
      "\n",
      "----- Pandas default -----\n",
      "pandas var(): 1.0\n",
      "pandas std(): 1.0\n",
      "pandas cov():\n",
      "      x    y\n",
      "x  1.0 -1.0\n",
      "y -1.0  1.0\n",
      "pandas describe()\n",
      ":          x    y\n",
      "count  3.0  3.0\n",
      "mean   2.0  2.0\n",
      "std    1.0  1.0\n",
      "min    1.0  1.0\n",
      "25%    1.5  1.5\n",
      "50%    2.0  2.0\n",
      "75%    2.5  2.5\n",
      "max    3.0  3.0\n"
     ]
    }
   ],
   "source": [
    "import numpy as np\n",
    "import pandas as pd\n",
    "\n",
    "# デフォルト動作\n",
    "print('----- Numpy default -----')\n",
    "x = np.array([1, 2, 3])\n",
    "y = np.array([3, 2, 1])\n",
    "print('numpy var():', np.var(x))\n",
    "print('numpy std():', np.std(x))\n",
    "print('numpy cov():\\n', np.cov(x, y))\n",
    "\n",
    "print('\\n----- Pandas default -----')\n",
    "df_xy = pd.DataFrame({'x': x, 'y': y})\n",
    "print('pandas var():', df_xy['x'].var())\n",
    "print('pandas std():', df_xy['x'].std())\n",
    "print('pandas cov():\\n', df_xy.cov())\n",
    "print('pandas describe()\\n:', df_xy.describe())"
   ]
  },
  {
   "cell_type": "markdown",
   "metadata": {},
   "source": [
    "### 教科書の訂正\n",
    "\n",
    "**教科書の式3-3-1, 3-3-2, 3-3-4は $n$ で割っていますが，（第7版までの）教科書のコードだと $n-1$ で割った方が求まるため，誤りです．**\n",
    "\n",
    "**教科書第8版では，式ではなくコードの方がいくつか修正されているようです．**\n",
    "\n",
    "https://book.mynavi.jp/supportsite/detail/9784839965259.html\n",
    "\n",
    "- p.80: `student_data_math['absences'].var()` $\\rightarrow$ `student_data_math['absences'].var(ddof=0)` （出力値も変更必要）\n",
    "- p.81: `student_data_math['absences'].std()` $\\rightarrow$ `student_data_math['absences'].std(ddof=0)` （出力値も変更必要）\n",
    "\n",
    "**ただし，np.cov なども含め，もう少し修正が必要な箇所があります．**\n",
    "\n",
    "- p.81: `np.sqrt(student_data_math['absences'].var())` $\\rightarrow$ `np.sqrt(student_data_math['absences'].var(ddof=0))` （出力値も変更必要）\n",
    "- p.81: `describe()` の補足：このメソッドで求まる標準偏差 `std` は不偏分散の平方根（n-1で割る方）です．式3-3-3とは異なるので注意．`describe()` には `ddof`のオプションが指定できません．\n",
    "- p.81 ch.3-3-4-1 のタイトル: 四方位範囲を求める $\\rightarrow$ 四分位範囲を求める\n",
    "- p.81: 変動係数の計算用コードにて `student_data_math['absences'].std()` $\\rightarrow$ `student_data_math['absences'].std(ddof=0)` （出力値も変更必要）\n",
    "- p.82: `student_data_math.std()` $\\rightarrow$ `student_data_math.std(ddof=0)` （出力値も変更必要）\n",
    "- p.86: `np.cov(student_data_math['G1'], student_data_math['G3'])` $\\rightarrow$ `np.cov(student_data_math['G1'], student_data_math['G3'], ddof=0)`  （出力値，および「結果の行列の意味は・・」以下の値を変更必要）\n",
    "- p.86: `student_data_math['G1'].var()` $\\rightarrow$ `student_data_math['G1'].var(ddof=0)` （出力値も変更必要）\n",
    "- p.86: `student_data_math['G3'].var()` $\\rightarrow$ `student_data_math['G3'].var(ddof=0)` （出力値も変更必要）\n",
    "\n",
    "### 結局どうすればよいか\n",
    "\n",
    "このように，教科書であっても，分散が不偏かどうかで間違っているケースがあります．したがって，少なくとも Numpy で `var()`, `std()`, `cov()` を使うときは，以下のように **明示的に引数で `ddof=0` か `ddof=1` のどちらかを指定** することをお勧めします．\n",
    "**分散は $n-\\text{ddof}$ で割って計算されます．**\n",
    "\n",
    "一方で，Pandas は Rと同じく不偏分散で統一しているようなので，混乱は少ないと思います．ただし間違いが減らすために，ddofを指定すると分かりやすいかも．もしくは，コメントに`# 不偏分散を計算` のように一言入れておくのもありでしょう．"
   ]
  },
  {
   "cell_type": "code",
   "execution_count": 2,
   "metadata": {},
   "outputs": [
    {
     "name": "stdout",
     "output_type": "stream",
     "text": [
      "----- Numpy biased (nで割る) -----\n",
      "numpy var(): 0.6666666666666666\n",
      "numpy std(): 0.816496580927726\n",
      "numpy cov():\n",
      " [[ 0.66666667 -0.66666667]\n",
      " [-0.66666667  0.66666667]]\n",
      "----- Numpy unbiased (n-1で割る) -----\n",
      "numpy var(): 1.0\n",
      "numpy std(): 1.0\n",
      "numpy cov():\n",
      " [[ 1. -1.]\n",
      " [-1.  1.]]\n"
     ]
    }
   ],
   "source": [
    "# Numpy\n",
    "print('----- Numpy biased (nで割る) -----')\n",
    "print('numpy var():', np.var(x, ddof=0))\n",
    "print('numpy std():', np.std(x, ddof=0))\n",
    "print('numpy cov():\\n', np.cov(x, y, ddof=0))\n",
    "\n",
    "print('----- Numpy unbiased (n-1で割る) -----')\n",
    "print('numpy var():', np.var(x, ddof=1))\n",
    "print('numpy std():', np.std(x, ddof=1))\n",
    "print('numpy cov():\\n', np.cov(x, y, ddof=1))"
   ]
  },
  {
   "cell_type": "code",
   "execution_count": 3,
   "metadata": {},
   "outputs": [
    {
     "name": "stdout",
     "output_type": "stream",
     "text": [
      "----- Pandas biased (nで割る) -----\n",
      "pandas var(): 0.6666666666666666\n",
      "pandas std(): 0.816496580927726\n",
      "\n",
      "----- Pandas unbiased (n-1で割る) defaultこちら -----\n",
      "pandas var(): 1.0\n",
      "pandas std(): 1.0\n"
     ]
    }
   ],
   "source": [
    "# Pandas\n",
    "print('----- Pandas biased (nで割る) -----')\n",
    "print('pandas var():', df_xy['x'].var(ddof=0))\n",
    "print('pandas std():', df_xy['x'].std(ddof=0))\n",
    "\n",
    "print('\\n----- Pandas unbiased (n-1で割る) defaultこちら -----')\n",
    "print('pandas var():', df_xy['x'].var(ddof=1))\n",
    "print('pandas std():', df_xy['x'].std(ddof=1))\n",
    "# Pandas の describe() や cov() は常に不偏分散"
   ]
  },
  {
   "cell_type": "markdown",
   "metadata": {},
   "source": [
    "## ここから演習課題\n",
    "\n",
    "[ここにコードを書く] と書かれた箇所を修正して，セルを完成させていってください．"
   ]
  },
  {
   "cell_type": "markdown",
   "metadata": {},
   "source": [
    "### 準備1 モジュールのインポート (教科書 ch.3.1)\n",
    "\n",
    "まずは，この演習で使うモジュールをインポートしておきます．インポートについては，教科書ch3.1.2も参照してください．"
   ]
  },
  {
   "cell_type": "code",
   "execution_count": 4,
   "metadata": {},
   "outputs": [
    {
     "data": {
      "text/plain": [
       "'%.3f'"
      ]
     },
     "execution_count": 4,
     "metadata": {},
     "output_type": "execute_result"
    }
   ],
   "source": [
    "import numpy as np\n",
    "import scipy as sp\n",
    "import pandas as pd\n",
    "from sklearn import linear_model  # 単回帰分析で利用\n",
    "import matplotlib.pyplot as plt\n",
    "import seaborn as sns\n",
    "sns.set()\n",
    "%matplotlib inline\n",
    "%precision 3"
   ]
  },
  {
   "cell_type": "markdown",
   "metadata": {},
   "source": [
    "### 準備2 ファイルダウンロードと展開 (教科書 ch.3.2.1)"
   ]
  },
  {
   "cell_type": "markdown",
   "metadata": {},
   "source": [
    "これまでの Excel や R の回では，UCI Machine Learning Repository にあるデータ https://archive.ics.uci.edu/ml/datasets/Student+Performance の一部を使っていました．このリポジトリは講義でも何度か紹介していますが，統計や機械学習でよく使われるデータが共有されており，ダウンロードすることができます．\n",
    " - 教科書では，Wine（ワインの成分や品質）など他のデータも利用されています．\n",
    " - UCI は，カリフォルニア大学アーバイン校 (University of California, Irvine) の略です（大学のマスコットはオオアリクイ）．\n",
    " - 各データの提供主は様々で，今から利用するデータはポルトガルの大学が共有したものです．（だから数学とポルトガル語の成績データ）"
   ]
  },
  {
   "cell_type": "markdown",
   "metadata": {},
   "source": [
    "では教科書の方法を参考にデータをダウンロードしてみましょう．その前に，今いる場所を見ておきましょう．`pwd` は Python の関数ではなく，シェルスクリプトのコマンドの一つです．print working directory の略で，作業ディレクトリ（今いるフォルダ，カレントディレクトリと呼ばれることも多い）を表示します．"
   ]
  },
  {
   "cell_type": "code",
   "execution_count": 5,
   "metadata": {},
   "outputs": [
    {
     "data": {
      "text/plain": [
       "'/Users/tyamamot/Dropbox/Documents/docs/2020/Lectures/DataAnalysisPractice/git/materials/weeek09'"
      ]
     },
     "execution_count": 5,
     "metadata": {},
     "output_type": "execute_result"
    }
   ],
   "source": [
    "pwd"
   ]
  },
  {
   "cell_type": "markdown",
   "metadata": {},
   "source": [
    "教科書ではフォルダを新たに作成 (`mkdir`) し，移動 (`cd`) していますが，この演習ではフォルダ `data` の作成だけ行って，あとは相対パスを使ってファイルを指定しましょう．"
   ]
  },
  {
   "cell_type": "code",
   "execution_count": 6,
   "metadata": {},
   "outputs": [],
   "source": [
    "mkdir data"
   ]
  },
  {
   "cell_type": "markdown",
   "metadata": {},
   "source": [
    "ちなみにこの `mkdir` もシェルのコマンドです．Python でもフォルダを作成する関数がありますが，それは各自調べてみてください．では，このフォルダの中を見てみましょう．ファイルエクスプローラーからも確認してみるとよいでしょう．空っぽのはずです．"
   ]
  },
  {
   "cell_type": "code",
   "execution_count": 7,
   "metadata": {},
   "outputs": [],
   "source": [
    "ls data"
   ]
  },
  {
   "cell_type": "markdown",
   "metadata": {},
   "source": [
    "0 個のファイルになっているでしょうか．一方，2個のディレクトリ（フォルダ）となっていますが，`.` は今いるディレクトリ，`..`は一つ上のディレクトリのことですので，実質的にこの data フォルダは空っぽです．"
   ]
  },
  {
   "cell_type": "markdown",
   "metadata": {},
   "source": [
    "さて，zipファイルをダウンロードし，展開するところまでをPythonのプログラムで行います．この ipynb ファイルと同じ場所，つまり上の `pwd` で表示されたフォルダにダウンロードし，展開先を `data` にします．教科書では，新たに作成したフォルダに作業ディレクトリを移動していますが，この演習では作業ディレクトリは変更しません．"
   ]
  },
  {
   "cell_type": "code",
   "execution_count": 8,
   "metadata": {
    "scrolled": false
   },
   "outputs": [],
   "source": [
    "import requests, zipfile  # webからデータを取得したり、zipファイルを扱うためのライブラリ\n",
    "from io import StringIO\n",
    "import io\n",
    "\n",
    "# データがあるurlの指定\n",
    "url = 'http://archive.ics.uci.edu/ml/machine-learning-databases/00356/student.zip'\n",
    "\n",
    "# データをurlから取得する\n",
    "r = requests.get(url, stream=True)\n",
    "\n",
    "# zipfileを読み込み展開する\n",
    "z = zipfile.ZipFile(io.BytesIO(r.content))\n",
    "z.extractall('data')  # ここが教科書と違います．展開先のフォルダを指定しています．"
   ]
  },
  {
   "cell_type": "markdown",
   "metadata": {},
   "source": [
    "さて，もう一度 `data` の中身を確認してみましょう．展開されたファイルが表示されるでしょうか．ファイルエクスプローラーでも確認してみましょう．"
   ]
  },
  {
   "cell_type": "code",
   "execution_count": 9,
   "metadata": {},
   "outputs": [
    {
     "name": "stdout",
     "output_type": "stream",
     "text": [
      "student-mat.csv  student-merge.R  student-por.csv  student.txt\r\n"
     ]
    }
   ],
   "source": [
    "ls data"
   ]
  },
  {
   "cell_type": "markdown",
   "metadata": {},
   "source": [
    "ダウンロードしたzipファイル自体はどこへいったの？と思うかもしれませんが，上のコードでは，zipファイルを保存せず，メモリ上でファイルとして開いて展開しています．`io.BytesIO()` は，メモリ上にあるファイルをあたかもストレージ(HDDやSSD)にあるファイルのように開く際にしばしば使います．"
   ]
  },
  {
   "cell_type": "markdown",
   "metadata": {},
   "source": [
    "### 課題1 ファイルの読み込みと要約 (教科書 ch.3.2.2)\n",
    "\n",
    "student-mat.csv を df という名前のデータフレームとして読み込み，dfの内容（各列のはじめの5行と要約統計量）を表示する．\n",
    "\n",
    "課題1-1. `pd.read_csv()` にてファイルを相対パス `'data/student-mat.csv'` で指定して df へデータを読み込みなさい．\n",
    " - セパレータがカンマ`,`ではなくセミコロン`;`なので `sep=';'` が必要（セミコロンを文字として指定するのでシングルクォートで挟むのを忘れずに）\n",
    "\n",
    "課題1-2. df のはじめの5行を表示せよ．（`head()` を利用する）\n",
    "\n",
    "課題1-3. df の要約統計量を表示せよ．（`describe()` を利用する）"
   ]
  },
  {
   "cell_type": "code",
   "execution_count": 10,
   "metadata": {
    "scrolled": true
   },
   "outputs": [
    {
     "data": {
      "text/html": [
       "<div>\n",
       "<style scoped>\n",
       "    .dataframe tbody tr th:only-of-type {\n",
       "        vertical-align: middle;\n",
       "    }\n",
       "\n",
       "    .dataframe tbody tr th {\n",
       "        vertical-align: top;\n",
       "    }\n",
       "\n",
       "    .dataframe thead th {\n",
       "        text-align: right;\n",
       "    }\n",
       "</style>\n",
       "<table border=\"1\" class=\"dataframe\">\n",
       "  <thead>\n",
       "    <tr style=\"text-align: right;\">\n",
       "      <th></th>\n",
       "      <th>school</th>\n",
       "      <th>sex</th>\n",
       "      <th>age</th>\n",
       "      <th>address</th>\n",
       "      <th>famsize</th>\n",
       "      <th>Pstatus</th>\n",
       "      <th>Medu</th>\n",
       "      <th>Fedu</th>\n",
       "      <th>Mjob</th>\n",
       "      <th>Fjob</th>\n",
       "      <th>...</th>\n",
       "      <th>famrel</th>\n",
       "      <th>freetime</th>\n",
       "      <th>goout</th>\n",
       "      <th>Dalc</th>\n",
       "      <th>Walc</th>\n",
       "      <th>health</th>\n",
       "      <th>absences</th>\n",
       "      <th>G1</th>\n",
       "      <th>G2</th>\n",
       "      <th>G3</th>\n",
       "    </tr>\n",
       "  </thead>\n",
       "  <tbody>\n",
       "    <tr>\n",
       "      <th>0</th>\n",
       "      <td>GP</td>\n",
       "      <td>F</td>\n",
       "      <td>18</td>\n",
       "      <td>U</td>\n",
       "      <td>GT3</td>\n",
       "      <td>A</td>\n",
       "      <td>4</td>\n",
       "      <td>4</td>\n",
       "      <td>at_home</td>\n",
       "      <td>teacher</td>\n",
       "      <td>...</td>\n",
       "      <td>4</td>\n",
       "      <td>3</td>\n",
       "      <td>4</td>\n",
       "      <td>1</td>\n",
       "      <td>1</td>\n",
       "      <td>3</td>\n",
       "      <td>6</td>\n",
       "      <td>5</td>\n",
       "      <td>6</td>\n",
       "      <td>6</td>\n",
       "    </tr>\n",
       "    <tr>\n",
       "      <th>1</th>\n",
       "      <td>GP</td>\n",
       "      <td>F</td>\n",
       "      <td>17</td>\n",
       "      <td>U</td>\n",
       "      <td>GT3</td>\n",
       "      <td>T</td>\n",
       "      <td>1</td>\n",
       "      <td>1</td>\n",
       "      <td>at_home</td>\n",
       "      <td>other</td>\n",
       "      <td>...</td>\n",
       "      <td>5</td>\n",
       "      <td>3</td>\n",
       "      <td>3</td>\n",
       "      <td>1</td>\n",
       "      <td>1</td>\n",
       "      <td>3</td>\n",
       "      <td>4</td>\n",
       "      <td>5</td>\n",
       "      <td>5</td>\n",
       "      <td>6</td>\n",
       "    </tr>\n",
       "    <tr>\n",
       "      <th>2</th>\n",
       "      <td>GP</td>\n",
       "      <td>F</td>\n",
       "      <td>15</td>\n",
       "      <td>U</td>\n",
       "      <td>LE3</td>\n",
       "      <td>T</td>\n",
       "      <td>1</td>\n",
       "      <td>1</td>\n",
       "      <td>at_home</td>\n",
       "      <td>other</td>\n",
       "      <td>...</td>\n",
       "      <td>4</td>\n",
       "      <td>3</td>\n",
       "      <td>2</td>\n",
       "      <td>2</td>\n",
       "      <td>3</td>\n",
       "      <td>3</td>\n",
       "      <td>10</td>\n",
       "      <td>7</td>\n",
       "      <td>8</td>\n",
       "      <td>10</td>\n",
       "    </tr>\n",
       "    <tr>\n",
       "      <th>3</th>\n",
       "      <td>GP</td>\n",
       "      <td>F</td>\n",
       "      <td>15</td>\n",
       "      <td>U</td>\n",
       "      <td>GT3</td>\n",
       "      <td>T</td>\n",
       "      <td>4</td>\n",
       "      <td>2</td>\n",
       "      <td>health</td>\n",
       "      <td>services</td>\n",
       "      <td>...</td>\n",
       "      <td>3</td>\n",
       "      <td>2</td>\n",
       "      <td>2</td>\n",
       "      <td>1</td>\n",
       "      <td>1</td>\n",
       "      <td>5</td>\n",
       "      <td>2</td>\n",
       "      <td>15</td>\n",
       "      <td>14</td>\n",
       "      <td>15</td>\n",
       "    </tr>\n",
       "    <tr>\n",
       "      <th>4</th>\n",
       "      <td>GP</td>\n",
       "      <td>F</td>\n",
       "      <td>16</td>\n",
       "      <td>U</td>\n",
       "      <td>GT3</td>\n",
       "      <td>T</td>\n",
       "      <td>3</td>\n",
       "      <td>3</td>\n",
       "      <td>other</td>\n",
       "      <td>other</td>\n",
       "      <td>...</td>\n",
       "      <td>4</td>\n",
       "      <td>3</td>\n",
       "      <td>2</td>\n",
       "      <td>1</td>\n",
       "      <td>2</td>\n",
       "      <td>5</td>\n",
       "      <td>4</td>\n",
       "      <td>6</td>\n",
       "      <td>10</td>\n",
       "      <td>10</td>\n",
       "    </tr>\n",
       "  </tbody>\n",
       "</table>\n",
       "<p>5 rows × 33 columns</p>\n",
       "</div>"
      ],
      "text/plain": [
       "  school sex  age address famsize Pstatus  Medu  Fedu     Mjob      Fjob  ...  \\\n",
       "0     GP   F   18       U     GT3       A     4     4  at_home   teacher  ...   \n",
       "1     GP   F   17       U     GT3       T     1     1  at_home     other  ...   \n",
       "2     GP   F   15       U     LE3       T     1     1  at_home     other  ...   \n",
       "3     GP   F   15       U     GT3       T     4     2   health  services  ...   \n",
       "4     GP   F   16       U     GT3       T     3     3    other     other  ...   \n",
       "\n",
       "  famrel freetime  goout  Dalc  Walc health absences  G1  G2  G3  \n",
       "0      4        3      4     1     1      3        6   5   6   6  \n",
       "1      5        3      3     1     1      3        4   5   5   6  \n",
       "2      4        3      2     2     3      3       10   7   8  10  \n",
       "3      3        2      2     1     1      5        2  15  14  15  \n",
       "4      4        3      2     1     2      5        4   6  10  10  \n",
       "\n",
       "[5 rows x 33 columns]"
      ]
     },
     "execution_count": 10,
     "metadata": {},
     "output_type": "execute_result"
    }
   ],
   "source": [
    "df = pd.read_csv('data/student-mat.csv', sep=';')  # 1-1. df へデータを読み込む\n",
    "df.head()  # 1-2. dfの最初の方の行を表示"
   ]
  },
  {
   "cell_type": "code",
   "execution_count": 11,
   "metadata": {
    "scrolled": true
   },
   "outputs": [
    {
     "data": {
      "text/html": [
       "<div>\n",
       "<style scoped>\n",
       "    .dataframe tbody tr th:only-of-type {\n",
       "        vertical-align: middle;\n",
       "    }\n",
       "\n",
       "    .dataframe tbody tr th {\n",
       "        vertical-align: top;\n",
       "    }\n",
       "\n",
       "    .dataframe thead th {\n",
       "        text-align: right;\n",
       "    }\n",
       "</style>\n",
       "<table border=\"1\" class=\"dataframe\">\n",
       "  <thead>\n",
       "    <tr style=\"text-align: right;\">\n",
       "      <th></th>\n",
       "      <th>age</th>\n",
       "      <th>Medu</th>\n",
       "      <th>Fedu</th>\n",
       "      <th>traveltime</th>\n",
       "      <th>studytime</th>\n",
       "      <th>failures</th>\n",
       "      <th>famrel</th>\n",
       "      <th>freetime</th>\n",
       "      <th>goout</th>\n",
       "      <th>Dalc</th>\n",
       "      <th>Walc</th>\n",
       "      <th>health</th>\n",
       "      <th>absences</th>\n",
       "      <th>G1</th>\n",
       "      <th>G2</th>\n",
       "      <th>G3</th>\n",
       "    </tr>\n",
       "  </thead>\n",
       "  <tbody>\n",
       "    <tr>\n",
       "      <th>count</th>\n",
       "      <td>395.000000</td>\n",
       "      <td>395.000000</td>\n",
       "      <td>395.000000</td>\n",
       "      <td>395.000000</td>\n",
       "      <td>395.000000</td>\n",
       "      <td>395.000000</td>\n",
       "      <td>395.000000</td>\n",
       "      <td>395.000000</td>\n",
       "      <td>395.000000</td>\n",
       "      <td>395.000000</td>\n",
       "      <td>395.000000</td>\n",
       "      <td>395.000000</td>\n",
       "      <td>395.000000</td>\n",
       "      <td>395.000000</td>\n",
       "      <td>395.000000</td>\n",
       "      <td>395.000000</td>\n",
       "    </tr>\n",
       "    <tr>\n",
       "      <th>mean</th>\n",
       "      <td>16.696203</td>\n",
       "      <td>2.749367</td>\n",
       "      <td>2.521519</td>\n",
       "      <td>1.448101</td>\n",
       "      <td>2.035443</td>\n",
       "      <td>0.334177</td>\n",
       "      <td>3.944304</td>\n",
       "      <td>3.235443</td>\n",
       "      <td>3.108861</td>\n",
       "      <td>1.481013</td>\n",
       "      <td>2.291139</td>\n",
       "      <td>3.554430</td>\n",
       "      <td>5.708861</td>\n",
       "      <td>10.908861</td>\n",
       "      <td>10.713924</td>\n",
       "      <td>10.415190</td>\n",
       "    </tr>\n",
       "    <tr>\n",
       "      <th>std</th>\n",
       "      <td>1.276043</td>\n",
       "      <td>1.094735</td>\n",
       "      <td>1.088201</td>\n",
       "      <td>0.697505</td>\n",
       "      <td>0.839240</td>\n",
       "      <td>0.743651</td>\n",
       "      <td>0.896659</td>\n",
       "      <td>0.998862</td>\n",
       "      <td>1.113278</td>\n",
       "      <td>0.890741</td>\n",
       "      <td>1.287897</td>\n",
       "      <td>1.390303</td>\n",
       "      <td>8.003096</td>\n",
       "      <td>3.319195</td>\n",
       "      <td>3.761505</td>\n",
       "      <td>4.581443</td>\n",
       "    </tr>\n",
       "    <tr>\n",
       "      <th>min</th>\n",
       "      <td>15.000000</td>\n",
       "      <td>0.000000</td>\n",
       "      <td>0.000000</td>\n",
       "      <td>1.000000</td>\n",
       "      <td>1.000000</td>\n",
       "      <td>0.000000</td>\n",
       "      <td>1.000000</td>\n",
       "      <td>1.000000</td>\n",
       "      <td>1.000000</td>\n",
       "      <td>1.000000</td>\n",
       "      <td>1.000000</td>\n",
       "      <td>1.000000</td>\n",
       "      <td>0.000000</td>\n",
       "      <td>3.000000</td>\n",
       "      <td>0.000000</td>\n",
       "      <td>0.000000</td>\n",
       "    </tr>\n",
       "    <tr>\n",
       "      <th>25%</th>\n",
       "      <td>16.000000</td>\n",
       "      <td>2.000000</td>\n",
       "      <td>2.000000</td>\n",
       "      <td>1.000000</td>\n",
       "      <td>1.000000</td>\n",
       "      <td>0.000000</td>\n",
       "      <td>4.000000</td>\n",
       "      <td>3.000000</td>\n",
       "      <td>2.000000</td>\n",
       "      <td>1.000000</td>\n",
       "      <td>1.000000</td>\n",
       "      <td>3.000000</td>\n",
       "      <td>0.000000</td>\n",
       "      <td>8.000000</td>\n",
       "      <td>9.000000</td>\n",
       "      <td>8.000000</td>\n",
       "    </tr>\n",
       "    <tr>\n",
       "      <th>50%</th>\n",
       "      <td>17.000000</td>\n",
       "      <td>3.000000</td>\n",
       "      <td>2.000000</td>\n",
       "      <td>1.000000</td>\n",
       "      <td>2.000000</td>\n",
       "      <td>0.000000</td>\n",
       "      <td>4.000000</td>\n",
       "      <td>3.000000</td>\n",
       "      <td>3.000000</td>\n",
       "      <td>1.000000</td>\n",
       "      <td>2.000000</td>\n",
       "      <td>4.000000</td>\n",
       "      <td>4.000000</td>\n",
       "      <td>11.000000</td>\n",
       "      <td>11.000000</td>\n",
       "      <td>11.000000</td>\n",
       "    </tr>\n",
       "    <tr>\n",
       "      <th>75%</th>\n",
       "      <td>18.000000</td>\n",
       "      <td>4.000000</td>\n",
       "      <td>3.000000</td>\n",
       "      <td>2.000000</td>\n",
       "      <td>2.000000</td>\n",
       "      <td>0.000000</td>\n",
       "      <td>5.000000</td>\n",
       "      <td>4.000000</td>\n",
       "      <td>4.000000</td>\n",
       "      <td>2.000000</td>\n",
       "      <td>3.000000</td>\n",
       "      <td>5.000000</td>\n",
       "      <td>8.000000</td>\n",
       "      <td>13.000000</td>\n",
       "      <td>13.000000</td>\n",
       "      <td>14.000000</td>\n",
       "    </tr>\n",
       "    <tr>\n",
       "      <th>max</th>\n",
       "      <td>22.000000</td>\n",
       "      <td>4.000000</td>\n",
       "      <td>4.000000</td>\n",
       "      <td>4.000000</td>\n",
       "      <td>4.000000</td>\n",
       "      <td>3.000000</td>\n",
       "      <td>5.000000</td>\n",
       "      <td>5.000000</td>\n",
       "      <td>5.000000</td>\n",
       "      <td>5.000000</td>\n",
       "      <td>5.000000</td>\n",
       "      <td>5.000000</td>\n",
       "      <td>75.000000</td>\n",
       "      <td>19.000000</td>\n",
       "      <td>19.000000</td>\n",
       "      <td>20.000000</td>\n",
       "    </tr>\n",
       "  </tbody>\n",
       "</table>\n",
       "</div>"
      ],
      "text/plain": [
       "              age        Medu        Fedu  traveltime   studytime    failures  \\\n",
       "count  395.000000  395.000000  395.000000  395.000000  395.000000  395.000000   \n",
       "mean    16.696203    2.749367    2.521519    1.448101    2.035443    0.334177   \n",
       "std      1.276043    1.094735    1.088201    0.697505    0.839240    0.743651   \n",
       "min     15.000000    0.000000    0.000000    1.000000    1.000000    0.000000   \n",
       "25%     16.000000    2.000000    2.000000    1.000000    1.000000    0.000000   \n",
       "50%     17.000000    3.000000    2.000000    1.000000    2.000000    0.000000   \n",
       "75%     18.000000    4.000000    3.000000    2.000000    2.000000    0.000000   \n",
       "max     22.000000    4.000000    4.000000    4.000000    4.000000    3.000000   \n",
       "\n",
       "           famrel    freetime       goout        Dalc        Walc      health  \\\n",
       "count  395.000000  395.000000  395.000000  395.000000  395.000000  395.000000   \n",
       "mean     3.944304    3.235443    3.108861    1.481013    2.291139    3.554430   \n",
       "std      0.896659    0.998862    1.113278    0.890741    1.287897    1.390303   \n",
       "min      1.000000    1.000000    1.000000    1.000000    1.000000    1.000000   \n",
       "25%      4.000000    3.000000    2.000000    1.000000    1.000000    3.000000   \n",
       "50%      4.000000    3.000000    3.000000    1.000000    2.000000    4.000000   \n",
       "75%      5.000000    4.000000    4.000000    2.000000    3.000000    5.000000   \n",
       "max      5.000000    5.000000    5.000000    5.000000    5.000000    5.000000   \n",
       "\n",
       "         absences          G1          G2          G3  \n",
       "count  395.000000  395.000000  395.000000  395.000000  \n",
       "mean     5.708861   10.908861   10.713924   10.415190  \n",
       "std      8.003096    3.319195    3.761505    4.581443  \n",
       "min      0.000000    3.000000    0.000000    0.000000  \n",
       "25%      0.000000    8.000000    9.000000    8.000000  \n",
       "50%      4.000000   11.000000   11.000000   11.000000  \n",
       "75%      8.000000   13.000000   13.000000   14.000000  \n",
       "max     75.000000   19.000000   19.000000   20.000000  "
      ]
     },
     "execution_count": 11,
     "metadata": {},
     "output_type": "execute_result"
    }
   ],
   "source": [
    "df.describe()  # 1-3. dfの各列の要約統計量を表示 (stdは不偏分散の平方根です)"
   ]
  },
  {
   "cell_type": "markdown",
   "metadata": {},
   "source": [
    "### 課題2 データフレームの各列の型 (教科書 ch.3.2.3 および ch.2.4の復習)\n",
    "\n",
    "データフレーム df の各列の型や情報を表示する．\n",
    "\n",
    "課題2-1. dfの各列の型を確認せよ．データフレームの全列の型情報は `データフレーム名.dtypes` で一度に取得することができる．\n",
    "\n",
    "- 各列の型が `int64` であれば各要素は64bit整数，`object` であればこの場合は各要素が文字列である（文字列以外の場合もある）．\n",
    "\n",
    "課題2-2. 列'studytime'の型のみを表示せよ．ある一つの列の型を確認するには，`データフレーム名['列名'].dtype` で確認することができる\n",
    "\n",
    "- `データフレーム名['列名']` で，指定した列が Series として取り出される．\n",
    "- DataFrameではdtypesで全列の型を一度に取得，Seriesではdtypeでひとつの列の型を取得できる．\n",
    "\n",
    "課題2-3. `object`型と表示された列'school'について，各要素の型も確認せよ．\n",
    "\n",
    "- `type(データフレーム名['列名'][0])` のように一つ目の要素を確認できる．\n",
    "- この `type()` をある列(Series)の全要素に一度に適用するには，`データフレーム名['列名'].map(type)` のように書くことができる（次週の先取り）．\n",
    "\n",
    "課題2-4. `info()` を用いて各列の情報を表示せよ．\n",
    "\n",
    "課題2-5. 調べた情報をまとめよ．"
   ]
  },
  {
   "cell_type": "code",
   "execution_count": 12,
   "metadata": {},
   "outputs": [
    {
     "data": {
      "text/plain": [
       "school        object\n",
       "sex           object\n",
       "age            int64\n",
       "address       object\n",
       "famsize       object\n",
       "Pstatus       object\n",
       "Medu           int64\n",
       "Fedu           int64\n",
       "Mjob          object\n",
       "Fjob          object\n",
       "reason        object\n",
       "guardian      object\n",
       "traveltime     int64\n",
       "studytime      int64\n",
       "failures       int64\n",
       "schoolsup     object\n",
       "famsup        object\n",
       "paid          object\n",
       "activities    object\n",
       "nursery       object\n",
       "higher        object\n",
       "internet      object\n",
       "romantic      object\n",
       "famrel         int64\n",
       "freetime       int64\n",
       "goout          int64\n",
       "Dalc           int64\n",
       "Walc           int64\n",
       "health         int64\n",
       "absences       int64\n",
       "G1             int64\n",
       "G2             int64\n",
       "G3             int64\n",
       "dtype: object"
      ]
     },
     "execution_count": 12,
     "metadata": {},
     "output_type": "execute_result"
    }
   ],
   "source": [
    "df.dtypes  # 2-1. dtypes でDataFrameの各列の型情報を一度に表示"
   ]
  },
  {
   "cell_type": "code",
   "execution_count": 13,
   "metadata": {},
   "outputs": [
    {
     "data": {
      "text/plain": [
       "dtype('int64')"
      ]
     },
     "execution_count": 13,
     "metadata": {},
     "output_type": "execute_result"
    }
   ],
   "source": [
    "df['studytime'].dtype  # 2-2. dtype でSeries(一つの列)の型を表示"
   ]
  },
  {
   "cell_type": "code",
   "execution_count": 14,
   "metadata": {},
   "outputs": [
    {
     "data": {
      "text/plain": [
       "0      <class 'str'>\n",
       "1      <class 'str'>\n",
       "2      <class 'str'>\n",
       "3      <class 'str'>\n",
       "4      <class 'str'>\n",
       "           ...      \n",
       "390    <class 'str'>\n",
       "391    <class 'str'>\n",
       "392    <class 'str'>\n",
       "393    <class 'str'>\n",
       "394    <class 'str'>\n",
       "Name: school, Length: 395, dtype: object"
      ]
     },
     "execution_count": 14,
     "metadata": {},
     "output_type": "execute_result"
    }
   ],
   "source": [
    "type(df['school'][0])  # これだと一つ目の要素の型を取得できる（実行してみよう）\n",
    "df['school'].map(type)  # 2-3. 列'school'に対して map(type) で各要素の型を表示 (詳しくは次週)"
   ]
  },
  {
   "cell_type": "code",
   "execution_count": 15,
   "metadata": {
    "scrolled": true
   },
   "outputs": [
    {
     "name": "stdout",
     "output_type": "stream",
     "text": [
      "<class 'pandas.core.frame.DataFrame'>\n",
      "RangeIndex: 395 entries, 0 to 394\n",
      "Data columns (total 33 columns):\n",
      " #   Column      Non-Null Count  Dtype \n",
      "---  ------      --------------  ----- \n",
      " 0   school      395 non-null    object\n",
      " 1   sex         395 non-null    object\n",
      " 2   age         395 non-null    int64 \n",
      " 3   address     395 non-null    object\n",
      " 4   famsize     395 non-null    object\n",
      " 5   Pstatus     395 non-null    object\n",
      " 6   Medu        395 non-null    int64 \n",
      " 7   Fedu        395 non-null    int64 \n",
      " 8   Mjob        395 non-null    object\n",
      " 9   Fjob        395 non-null    object\n",
      " 10  reason      395 non-null    object\n",
      " 11  guardian    395 non-null    object\n",
      " 12  traveltime  395 non-null    int64 \n",
      " 13  studytime   395 non-null    int64 \n",
      " 14  failures    395 non-null    int64 \n",
      " 15  schoolsup   395 non-null    object\n",
      " 16  famsup      395 non-null    object\n",
      " 17  paid        395 non-null    object\n",
      " 18  activities  395 non-null    object\n",
      " 19  nursery     395 non-null    object\n",
      " 20  higher      395 non-null    object\n",
      " 21  internet    395 non-null    object\n",
      " 22  romantic    395 non-null    object\n",
      " 23  famrel      395 non-null    int64 \n",
      " 24  freetime    395 non-null    int64 \n",
      " 25  goout       395 non-null    int64 \n",
      " 26  Dalc        395 non-null    int64 \n",
      " 27  Walc        395 non-null    int64 \n",
      " 28  health      395 non-null    int64 \n",
      " 29  absences    395 non-null    int64 \n",
      " 30  G1          395 non-null    int64 \n",
      " 31  G2          395 non-null    int64 \n",
      " 32  G3          395 non-null    int64 \n",
      "dtypes: int64(16), object(17)\n",
      "memory usage: 102.0+ KB\n"
     ]
    }
   ],
   "source": [
    "df.info()  # 2-4. info() を用いてデータフレームの情報を表示（行数など，型情報以外も取得できる）"
   ]
  },
  {
   "cell_type": "markdown",
   "metadata": {},
   "source": [
    "#### 課題2-5 はここに記述すること\n",
    "\n",
    "データフレーム df の情報\n",
    "\n",
    "- 行数: \n",
    "- 列数: \n",
    "- 列'studytime'の型: "
   ]
  },
  {
   "cell_type": "markdown",
   "metadata": {},
   "source": [
    "### 課題3 条件判定と列の追加 (教科書 ch.2.4.5の復習)\n",
    "\n",
    "Excelの演習と同様に，以下の traveltime, studytime の列を使って，isfar (通学時間が30分以上か否か), homestudy (週の学習時間が5時間以上か否か) を新たな列として追加する．\n",
    "\n",
    "- traveltime - 通学時間: 1 (<15 min.), 2 (15 to 30 min.), 3 (30 min. to 1 hour),  4 (>1 hour)\n",
    "- studytime - 週の学習時間: 1 (<2 hours), 2 (2 to 5 hours), 3 (5 to 10 hours), 4 (>10 hours)\n",
    "\n",
    "課題3-1. 列 traveltime を用いて，通学時間が30分以上をTrue，30分未満をFalseとするような新たな列 isfar を追加せよ．\n",
    "- `df['traveltime'] >= 数値` のようにすると，列 traveltime の各要素に対して一度に「数値」との大小関係を判定でき，True / False を要素とするような Series として取得できる．\n",
    "- `df['isfar'] = 新たに作成したSeries` で新たな列 isfar をデータフレームdfへ追加できる．\n",
    "- 列 traveltime に入っている数値は通学時間（分）そのものではないことに注意\n",
    "\n",
    "課題3-2. 列 studytime を用いて，週の学習時間が5時間以上をTrue，5時間未満をFalseとするような新たな列 homestudy を追加せよ．\n",
    "- 列 studytime に入っている数値は学習時間（時間）そのものではないことに注意"
   ]
  },
  {
   "cell_type": "code",
   "execution_count": 16,
   "metadata": {
    "scrolled": true
   },
   "outputs": [
    {
     "data": {
      "text/plain": [
       "0      False\n",
       "1      False\n",
       "2      False\n",
       "3      False\n",
       "4      False\n",
       "       ...  \n",
       "390    False\n",
       "391    False\n",
       "392    False\n",
       "393     True\n",
       "394    False\n",
       "Name: isfar, Length: 395, dtype: bool"
      ]
     },
     "execution_count": 16,
     "metadata": {},
     "output_type": "execute_result"
    }
   ],
   "source": [
    "# 課題3-1\n",
    "df['traveltime'] >= 3  # いったんこれを実行してみよう\n",
    "df['isfar'] = df['traveltime'] >= 3  # 3-1. 'isfar'という名前の列として追加\n",
    "df['isfar'] # df['isfar'] を表示"
   ]
  },
  {
   "cell_type": "code",
   "execution_count": 17,
   "metadata": {},
   "outputs": [
    {
     "data": {
      "text/plain": [
       "0      False\n",
       "1      False\n",
       "2      False\n",
       "3       True\n",
       "4      False\n",
       "       ...  \n",
       "390    False\n",
       "391    False\n",
       "392    False\n",
       "393    False\n",
       "394    False\n",
       "Name: homestudy, Length: 395, dtype: bool"
      ]
     },
     "execution_count": 17,
     "metadata": {},
     "output_type": "execute_result"
    }
   ],
   "source": [
    "# 課題3-2\n",
    "df['homestudy'] = df['studytime'] >= 3  # 3-2. 列'homestudy'を追加\n",
    "df['homestudy']  # df['homestudy'] を表示"
   ]
  },
  {
   "cell_type": "markdown",
   "metadata": {},
   "source": [
    "### 課題4 量的変数vs量的変数（散布図や回帰）\n",
    "\n",
    "列 G1, G2, G3 はいずれも量的変数（量的データ）である．平均値などの統計量，ヒストグラムや散布図の表示，回帰分析を行ってみる．\n",
    "\n",
    "課題4-1. G1の平均値，分散と標準偏差（nで割る方），中央値，ヒストグラムを表示せよ．\n",
    "\n",
    "- 分散と標準偏差では ddof=0 を引数に与えること．\n",
    "\n",
    "課題4-2. G1とG3の共分散行列（nで割る方），相関係数，およびG1を横軸，G3を縦軸とする散布図を表示せよ．\n",
    "\n",
    "- 共分散行列では numpy の cov() 用いるものとし，ddof=0 を引数に与えること．\n",
    "- 相関係数では scipy の stats.pearsonr を用い，その第一要素を取り出して表示する．\n",
    "- 散布図は課題4-4でも使うので，自作の関数にする．\n",
    "\n",
    "課題4-3. G1, G2, G3 の散布図行列を表示せよ．\n",
    "\n",
    "- `sns.pairplot(データフレーム)` を用いる．引数で渡すデータフレームは，G1, G2, G3列だけ取り出したものとする．\n",
    "\n",
    "課題4-4. G1を説明変数，G3を目的変数とする回帰分析を行い，切片，傾き，決定係数を表示せよ．\n",
    "\n",
    "- scikit learn の LinearRegression を利用する．\n",
    "- 説明変数は行列の形で（一般には重回帰のように複数の変数を与えるため．今回は1列だけなので $n \\times 1$ の行列になる）．\n",
    "    - `df[['G1']]` とすればよい（`データフレーム名[列のリスト]` だとデータフレームの一部が再び DataFrame として取り出せるため）\n",
    "- 目的変数はベクトルの形で．\n",
    "    - df['G3'].values のように `.values` を付けると numpy の ndarray として取り出せるが，付けなくてもよい．説明変数の方も `.values`はなくてもよい\n",
    "\n",
    "課題4-5. 課題4-2と同様の散布図を表示し，その上に課題4-4の結果を使って回帰直線を表示せよ．"
   ]
  },
  {
   "cell_type": "code",
   "execution_count": 18,
   "metadata": {},
   "outputs": [
    {
     "name": "stdout",
     "output_type": "stream",
     "text": [
      "G1の平均値 =  10.90886075949367\n",
      "G1の分散(nで割る方) =  10.989161993270304\n",
      "G1の標準偏差(標本分散の平方根) =  3.314990496708898\n",
      "G1の中央値 =  11.0\n"
     ]
    },
    {
     "data": {
      "text/plain": [
       "Text(0, 0.5, 'Frequency')"
      ]
     },
     "execution_count": 18,
     "metadata": {},
     "output_type": "execute_result"
    },
    {
     "data": {
      "image/png": "[encoded data removed]",
      "text/plain": [
       "<Figure size 432x288 with 1 Axes>"
      ]
     },
     "metadata": {
      "needs_background": "light"
     },
     "output_type": "display_data"
    }
   ],
   "source": [
    "# 課題4-1\n",
    "print('G1の平均値 = ', df['G1'].mean())  # 平均値\n",
    "print('G1の分散(nで割る方) = ', df['G1'].var(ddof=0))  # 標本分散 (ddofを設定すること)\n",
    "print('G1の標準偏差(標本分散の平方根) = ', df['G1'].std(ddof=0))  # 標準偏差 (ddofを設定すること)\n",
    "print('G1の中央値 = ', df['G1'].median())  # 中央値\n",
    "plt.hist(df['G1'])  # G1のヒストグラムを表示\n",
    "plt.xlabel('G1')  # 横軸ラベルに 'G1' を設定\n",
    "plt.ylabel('Frequency')  # 縦軸ラベルに 'Frequency' を設定"
   ]
  },
  {
   "cell_type": "code",
   "execution_count": 19,
   "metadata": {},
   "outputs": [
    {
     "name": "stdout",
     "output_type": "stream",
     "text": [
      "G1とG3の共分散行列:\n",
      " [[10.989 12.157]\n",
      " [12.157 20.936]]\n",
      "G1とG3の相関係数:  0.801467932017414\n"
     ]
    },
    {
     "data": {
      "image/png": "[encoded data removed]",
      "text/plain": [
       "<Figure size 360x360 with 1 Axes>"
      ]
     },
     "metadata": {
      "needs_background": "light"
     },
     "output_type": "display_data"
    }
   ],
   "source": [
    "# 課題4-2\n",
    "print('G1とG3の共分散行列:\\n', np.cov(df['G1'], df['G3'], ddof=0))  # 共分散行列 (ddofを設定すること)\n",
    "print('G1とG3の相関係数: ', sp.stats.pearsonr(df['G1'], df['G3'])[0])  # ピアソンの積率相関係数\n",
    "\n",
    "# 散布図プロットを関数にしておく（再利用するので）\n",
    "def scatterplot(df):\n",
    "    \"\"\" 散布図をプロットする関数 \"\"\"\n",
    "    plt.figure(figsize=(5, 5))  # サイズを指定（縦横比を1:1に）\n",
    "    plt.plot(df['G1'], df['G3'], 'o')  # 散布図をプロット\n",
    "    plt.xlabel('G1')  # 横軸ラベルに 'G1' を設定\n",
    "    plt.ylabel('G3')  # 縦軸ラベルに 'G3' を設定\n",
    "    \n",
    "scatterplot(df)  # 関数を呼び出す"
   ]
  },
  {
   "cell_type": "code",
   "execution_count": 20,
   "metadata": {},
   "outputs": [
    {
     "data": {
      "text/plain": [
       "<seaborn.axisgrid.PairGrid at 0x7f8cba4fad50>"
      ]
     },
     "execution_count": 20,
     "metadata": {},
     "output_type": "execute_result"
    },
    {
     "data": {
      "image/png": "[encoded data removed]",
      "text/plain": [
       "<Figure size 540x540 with 12 Axes>"
      ]
     },
     "metadata": {
      "needs_background": "light"
     },
     "output_type": "display_data"
    }
   ],
   "source": [
    "# 課題4-3\n",
    "lst = ['G1', 'G2', 'G3']  # リストを変数lstへ\n",
    "sns.pairplot(df[lst])  # リストlstを指定して散布図行列を表示"
   ]
  },
  {
   "cell_type": "code",
   "execution_count": 21,
   "metadata": {},
   "outputs": [
    {
     "name": "stdout",
     "output_type": "stream",
     "text": [
      "切片:  -1.6528038288004616\n",
      "回帰係数 [1.106]\n",
      "決定係数 0.64235084605227\n"
     ]
    }
   ],
   "source": [
    "# 課題4-4\n",
    "X = df[['G1']]  # こちらは行列の形にする必要がある\n",
    "y = df['G3']  # こちらはベクトルなので分かりやすく小文字yにする\n",
    "reg = linear_model.LinearRegression()  # 線形モデルを準備\n",
    "reg.fit(X, y)  # 線形モデルをデータにfitさせる（パラメタを推定する）\n",
    "print('切片: ', reg.intercept_)\n",
    "print('回帰係数', reg.coef_)\n",
    "print('決定係数', reg.score(X, y))"
   ]
  },
  {
   "cell_type": "code",
   "execution_count": 22,
   "metadata": {},
   "outputs": [
    {
     "data": {
      "text/plain": [
       "[<matplotlib.lines.Line2D at 0x7f8cba90d290>]"
      ]
     },
     "execution_count": 22,
     "metadata": {},
     "output_type": "execute_result"
    },
    {
     "data": {
      "image/png": "[encoded data removed]",
      "text/plain": [
       "<Figure size 360x360 with 1 Axes>"
      ]
     },
     "metadata": {
      "needs_background": "light"
     },
     "output_type": "display_data"
    }
   ],
   "source": [
    "# 課題4-5\n",
    "scatterplot(df)  # 課題4-2で作成した自作関数を呼び出して散布図をプロット\n",
    "plt.plot(X, reg.predict(X))  # 課題4-4の結果を用いて回帰直線を引く"
   ]
  },
  {
   "cell_type": "markdown",
   "metadata": {},
   "source": [
    "### 課題5 質的 vs 量的データ（箱ひげ図）\n",
    "\n",
    "以下は，isfar を横軸，G3 を縦軸とするような箱ひげ図をプロットするコードである．\n",
    "このコードを参考に，以下の課題を行う．\n",
    "\n",
    "課題5-1. homestudy を横軸，G3 を縦軸とするような箱ひげ図をプロットせよ．\n",
    "\n",
    "課題5-2. studytime を横軸，G3 を縦軸とするような箱ひげ図をプロットせよ．"
   ]
  },
  {
   "cell_type": "code",
   "execution_count": 23,
   "metadata": {},
   "outputs": [
    {
     "name": "stdout",
     "output_type": "stream",
     "text": [
      "is far  の mean = 9.129,\tmedian = 10.000\n",
      "not far の mean = 10.525,\tmedian = 11.000\n"
     ]
    },
    {
     "data": {
      "image/png": "[encoded data removed]",
      "text/plain": [
       "<Figure size 432x288 with 1 Axes>"
      ]
     },
     "metadata": {
      "needs_background": "light"
     },
     "output_type": "display_data"
    }
   ],
   "source": [
    "# 参考コード\n",
    "x1 = df.loc[df['isfar']==True, 'G3']  # 列'G3'にてisfar が True の行だけ取り出す\n",
    "x2 = df.loc[df['isfar']==False, 'G3']  # 列'G3'にてisfar が False の行だけ取り出す\n",
    "# 次の書き方はchained indexing といって推奨されない \n",
    "# df['G3'][df['isfar']==True]\n",
    "# df['G3'][df['isfar']==False]\n",
    "# https://note.nkmk.me/python-pandas-index-row-column/\n",
    "\n",
    "plt.boxplot([x1, x2], labels=['True', 'False'])\n",
    "plt.xlabel('isfar')\n",
    "plt.ylabel('G3')\n",
    "# それぞれのグループの平均と中央値\n",
    "print('is far  の mean = {:.3f},\\tmedian = {:.3f}'.format(x1.mean(), x1.median()))\n",
    "print('not far の mean = {:.3f},\\tmedian = {:.3f}'.format(x2.mean(), x2.median()))"
   ]
  },
  {
   "cell_type": "code",
   "execution_count": 24,
   "metadata": {},
   "outputs": [
    {
     "data": {
      "text/plain": [
       "Text(0, 0.5, 'G3')"
      ]
     },
     "execution_count": 24,
     "metadata": {},
     "output_type": "execute_result"
    },
    {
     "data": {
      "image/png": "[encoded data removed]",
      "text/plain": [
       "<Figure size 432x288 with 1 Axes>"
      ]
     },
     "metadata": {
      "needs_background": "light"
     },
     "output_type": "display_data"
    }
   ],
   "source": [
    "# 課題5-1\n",
    "x1 = df.loc[df['homestudy']==False, 'G3']  # 列'G3'にて homestudy が False の行を取り出す\n",
    "x2 = df.loc[df['homestudy']==True, 'G3']  # 列'G3'にて homestudy が True の行を取り出す\n",
    "plt.boxplot([x1, x2], labels=['<5h', '>=5h'])  # 左が5時間未満，右が5時間以上\n",
    "plt.xlabel('Study time at home per week')\n",
    "plt.ylabel('G3')"
   ]
  },
  {
   "cell_type": "code",
   "execution_count": 25,
   "metadata": {},
   "outputs": [
    {
     "data": {
      "text/plain": [
       "Text(0, 0.5, 'G3')"
      ]
     },
     "execution_count": 25,
     "metadata": {},
     "output_type": "execute_result"
    },
    {
     "data": {
      "image/png": "[encoded data removed]",
      "text/plain": [
       "<Figure size 432x288 with 1 Axes>"
      ]
     },
     "metadata": {
      "needs_background": "light"
     },
     "output_type": "display_data"
    }
   ],
   "source": [
    "# 課題5-2\n",
    "\n",
    "studytime_levels = [1, 2, 3, 4]  # list(range(1, 5)) でもよい\n",
    "\n",
    "# df.loc[df['studytime']==i, 'G3']  (i=1,2,3,4) を要素とするリスト x1_4 を用意し，boxplotの第一引数に渡す\n",
    "# 内包表記を使ってもよい\n",
    "x1_4 = [df.loc[df['studytime']==i, 'G3'] for i in studytime_levels]\n",
    "\n",
    "plt.boxplot(x1_4, labels=[str(i) for i in studytime_levels])\n",
    "plt.xlabel('studytime')\n",
    "plt.ylabel('G3')"
   ]
  },
  {
   "cell_type": "markdown",
   "metadata": {},
   "source": [
    "**（参考）以下も実行してみてください**\n",
    "\n",
    "「うーん，Rよりややこしいなあ，いちいちデータをグループに分けないといけないのか～」と思われるかもしれませんが，seaborn という可視化ライブラリを使うともっと簡単に（しかもいい感じに）プロットできます．\n",
    "\n",
    "`import seaborn as sns` のようにモジュールをインポートしておく必要がありますが，これは実は今回の最初の方で既に行っています．\n",
    "\n",
    "使い方は R の `boxplot(y ~ x, data=df)` っぽい感じです．`x` と `y` も明示的に指定するので，xとyの順序を間違える心配もないですね．"
   ]
  },
  {
   "cell_type": "code",
   "execution_count": 26,
   "metadata": {},
   "outputs": [
    {
     "data": {
      "image/png": "[encoded data removed]",
      "text/plain": [
       "<Figure size 432x288 with 1 Axes>"
      ]
     },
     "metadata": {
      "needs_background": "light"
     },
     "output_type": "display_data"
    },
    {
     "data": {
      "text/plain": [
       "<matplotlib.axes._subplots.AxesSubplot at 0x7f8cbb98ef90>"
      ]
     },
     "execution_count": 26,
     "metadata": {},
     "output_type": "execute_result"
    },
    {
     "data": {
      "image/png": "[encoded data removed]",
      "text/plain": [
       "<Figure size 432x288 with 1 Axes>"
      ]
     },
     "metadata": {
      "needs_background": "light"
     },
     "output_type": "display_data"
    }
   ],
   "source": [
    "# 参考\n",
    "sns.boxplot(x='homestudy', y='G3', data=df)\n",
    "plt.show()  # 重ならないようにいったん描画\n",
    "sns.boxplot(x='studytime', y='G3', data=df)"
   ]
  },
  {
   "cell_type": "markdown",
   "metadata": {},
   "source": [
    "（参考2）実は，pandas の DataFrame にも boxplot があります．"
   ]
  },
  {
   "cell_type": "code",
   "execution_count": 27,
   "metadata": {},
   "outputs": [
    {
     "data": {
      "text/plain": [
       "<matplotlib.axes._subplots.AxesSubplot at 0x7f8cbb8a9990>"
      ]
     },
     "execution_count": 27,
     "metadata": {},
     "output_type": "execute_result"
    },
    {
     "data": {
      "image/png": "[encoded data removed]",
      "text/plain": [
       "<Figure size 432x288 with 1 Axes>"
      ]
     },
     "metadata": {
      "needs_background": "light"
     },
     "output_type": "display_data"
    }
   ],
   "source": [
    "df.boxplot('G3', 'studytime')  # df.boxplot(by='studytime', column='G3') のように なんとか= を明記すると順序変えてもよい"
   ]
  },
  {
   "cell_type": "markdown",
   "metadata": {},
   "source": [
    "以上で今回の演習は終わりです．今回はほとんど記述統計でしたが，Rのときのように推測統計（検定や推定）を行うには，`scipy.stats` が使えますし，さらに `statmodels` というのも使うと，かなりRっぽいことができるようになります．必要な時にまた調べてみてください．\n",
    "\n",
    "boxplot の例のように，Python も R も，同じことをするのに複数の書き方があることが多いです．実際には好みや実行環境の制約などもあるので，自分に合った方法を見つけていきましょう．なお，この演習ではできるだけ基本的な方法を使うようにしています（可視化も `matplotlib` を使うなど）．まずは基本を試しておきましょう．"
   ]
  }
 ],
 "metadata": {
  "kernelspec": {
   "display_name": "Python 3",
   "language": "python",
   "name": "python3"
  },
  "language_info": {
   "codemirror_mode": {
    "name": "ipython",
    "version": 3
   },
   "file_extension": ".py",
   "mimetype": "text/x-python",
   "name": "python",
   "nbconvert_exporter": "python",
   "pygments_lexer": "ipython3",
   "version": "3.7.6"
  }
 },
 "nbformat": 4,
 "nbformat_minor": 4
}
