{
 "cells": [
  {
   "cell_type": "markdown",
   "metadata": {},
   "source": [
    "# データ分析演習 week08 演習課題\n",
    "- 氏名： 氏名に置き換えてください\n",
    "- 学生番号： 学生番号に置き換えてください"
   ]
  },
  {
   "cell_type": "markdown",
   "metadata": {},
   "source": [
    "## はじめに\n",
    "1. このファイルの名前の(JBxxxxxx)を自分の学生番号にしてください．\n",
    "2. 上記の氏名と学生番号を忘れずに記入してください．"
   ]
  },
  {
   "cell_type": "markdown",
   "metadata": {},
   "source": [
    "## 提出方法\n",
    "- GitHub Desktopを通じてGitHubへ提出\n",
    "- 締切: **6月25日（木）**"
   ]
  },
  {
   "cell_type": "markdown",
   "metadata": {},
   "source": [
    "## この演習資料の進め方\n",
    "1. これまでの復習（特に，pandasとmatplotlib）+ $\\alpha$ の内容となっています．　ところどころ`[ここにコードを書く]`と書いていますので，上から実行しながら，コードを修正しセルを完成していってください．教科書の2章も参照してください．\n",
    "2. 早く終わった人は， report3 に取り組んでください．\n",
    "\n",
    "## この演習資料の目的\n",
    "- 実際のデータに対して，これまで習ったpandasの機能を用いることで，各種統計量の確認や年や月といったグループごとの統計量の確認が簡単にできることを知る\n",
    "- pandasとmatplotlibを組みあわせてデータを可視化することで， いろいろな観点からの可視化が簡単にできることを知る\n",
    "---"
   ]
  },
  {
   "cell_type": "markdown",
   "metadata": {},
   "source": [
    "はじめに，本日の演習で使うモジュールをインポートしておきます．以下のセルを実行してください．"
   ]
  },
  {
   "cell_type": "code",
   "execution_count": null,
   "metadata": {
    "scrolled": true
   },
   "outputs": [],
   "source": [
    "# pandas の読み込み\n",
    "import pandas as pd\n",
    "\n",
    "# Matplotlib と Seabornの読み込み\n",
    "import matplotlib as mpl\n",
    "import seaborn as sns\n",
    "sns.set()\n",
    "\n",
    "# pyplotにはpltの別名で実行できるようにする\n",
    "import matplotlib.pyplot as plt\n",
    "\n",
    "# Jupyter Notebook上でグラフを表示させるために必要なマジックコマンド\n",
    "%matplotlib inline"
   ]
  },
  {
   "cell_type": "code",
   "execution_count": null,
   "metadata": {},
   "outputs": [],
   "source": [
    "pd.set_option(\"display.precision\", 3) # pandasのDataFrameやSeries中の値を表示するときに小数点第3位までの表示にする"
   ]
  },
  {
   "cell_type": "code",
   "execution_count": null,
   "metadata": {},
   "outputs": [],
   "source": [
    "# numpyなどの出力を小数第3位まで表示\n",
    "%precision 3"
   ]
  },
  {
   "cell_type": "markdown",
   "metadata": {},
   "source": [
    "# csvファイルをDataFrameとして読み込む\n",
    "\n",
    "これまでの演習では，DataFrameを作成する際に，データを辞書（dict）としてコード中に記述することでDataFrameの作成を行っていましたが，実際の分析ではそのようにコード中にデータを記述することはあまりません． pandasにはcsvやExcelなどのファイルからデータを読み込んでDataFrameを作成してくれる関数が用意されています． \n",
    "\n",
    "今週の演習課題のリポジトリの中に，今回使うデータが`week08data.csv`というファイル名のCSVファイルとして入っています．これを読み込んでみます． csvファイルを読み込みには，`pd.read_csv()`関数を使用します．"
   ]
  },
  {
   "cell_type": "code",
   "execution_count": null,
   "metadata": {
    "scrolled": true
   },
   "outputs": [],
   "source": [
    "df = pd.read_csv(\"week08data.csv\", parse_dates=[0], index_col=0) # csvファイルを読み込みDataFrameを作成し， df に代入する\n",
    "df # df の中身を表示する．"
   ]
  },
  {
   "cell_type": "markdown",
   "metadata": {},
   "source": [
    "`pd.read_csv(\"week08data.csv\", parse_dates=[0], )` は `week08data.csv` をDataFrameとして読み込む，という意味です． `index_col=0` はcsvの0列目をインデックス名として使用する，という意味で，  `parse_dates=[0]` は 0列目のデータを時系列情報として読み込む，という意味です．\n",
    "\n",
    "これで csv ファイルを読みこむことができました．データ自体の出典は講義資料を参考にしてください． 二人以上の世帯を対象にした，2010年〜2019年の10年間のさまざまな品目における毎月の支出金額（円）に関するデータとなっています．`year`と`month`の列はそれぞれデータの年と月を表します．\n",
    "- なお，実は`year`や`month`という列を用意する必要はなく，インデックス列の情報を使えば本演習で行っているような特定の年や月ごとに値を集計することはできるのですが，今回は話を単純にするため，年や月を表す列を明示的に加えています． \n",
    "\n",
    "`rice`以降の列は各品目を表します． ラベル名を英語に修正しています．英語ともとの日本語のラベル名の対応は下記のようになっています．"
   ]
  },
  {
   "cell_type": "code",
   "execution_count": null,
   "metadata": {
    "scrolled": true
   },
   "outputs": [],
   "source": [
    "pd.read_excel(\"label_info.xlsx\") # 対応表を表示"
   ]
  },
  {
   "cell_type": "markdown",
   "metadata": {},
   "source": [
    "たとえば，　`df` の `0`行`rice`列の値`1815`は，2010年1月における，二人以上の世帯の米の支出金額が1,980円である，ということを表しています．"
   ]
  },
  {
   "cell_type": "markdown",
   "metadata": {},
   "source": [
    "---"
   ]
  },
  {
   "cell_type": "markdown",
   "metadata": {},
   "source": [
    "さて，ここからは実際にpandasやmatplotlibを使ってデータを分析していきます． ところどころ穴抜けになっていますので，修正しながらセルを実行していってください．"
   ]
  },
  {
   "cell_type": "markdown",
   "metadata": {},
   "source": [
    "# パート1: pandasでデータを分析する"
   ]
  },
  {
   "cell_type": "markdown",
   "metadata": {},
   "source": [
    "## 1-1 平均を調べる"
   ]
  },
  {
   "cell_type": "markdown",
   "metadata": {},
   "source": [
    "まずは，10年間の120ヶ月分全てのデータにおける，各品目の支出金額の平均について計算してみましょう．"
   ]
  },
  {
   "cell_type": "markdown",
   "metadata": {},
   "source": [
    "たとえば， 米（`rice`）の10年間の支出金額の平均を計算したければ"
   ]
  },
  {
   "cell_type": "code",
   "execution_count": null,
   "metadata": {},
   "outputs": [],
   "source": [
    "[ここにコードを書く] # rice 列の平均を求める"
   ]
  },
  {
   "cell_type": "markdown",
   "metadata": {},
   "source": [
    "として求められます． 一方， DataFrameでは列を指定せず `df.mean()`とするだけで，全ての量的データに対して平均を求めることができました．"
   ]
  },
  {
   "cell_type": "code",
   "execution_count": null,
   "metadata": {
    "scrolled": false
   },
   "outputs": [],
   "source": [
    "[ここにコードを書く] #全ての量的データに対して平均を求める"
   ]
  },
  {
   "cell_type": "markdown",
   "metadata": {},
   "source": [
    "これで各品目の平均支出金額が求められたのですが， `year` や `month` の列についても平均が求められていることが分かります．これは，データの読み込み時に `year` や `month` についても pandasが量的データであると認識しているからです． \n",
    "\n",
    "次週の先取りになりますが，現在のDataFrameのインデックスや各列がどのような型として認識されているかを確認するには， `info()`という関数を使います．"
   ]
  },
  {
   "cell_type": "code",
   "execution_count": null,
   "metadata": {
    "scrolled": true
   },
   "outputs": [],
   "source": [
    "df.info() # 変数 df に入っているDataFrameの情報を表示する "
   ]
  },
  {
   "cell_type": "markdown",
   "metadata": {},
   "source": [
    "たとえば ` 0   year         120 non-null    int64  ` という情報は，  `year` の列は `int64`型 のデータ（すなわち，整数のデータ）であり， 欠損値ではない120個のデータがある，ということを表しています． 実際，10年間のデータですので， 10 x 12ヶ月 = 120ヶ月分のデータがあります．"
   ]
  },
  {
   "cell_type": "markdown",
   "metadata": {},
   "source": [
    "さて， `df.mean()` としてしまうと， `year` や `month` まで平均を求められてしまうので， 各品目だけに絞って平均を求めてみます．"
   ]
  },
  {
   "cell_type": "code",
   "execution_count": null,
   "metadata": {
    "scrolled": true
   },
   "outputs": [],
   "source": [
    "df[['rice',  'bread',  'noodle',  'fish_faw',  'fish_salt',  'fish_processed',  'beef',  'pork',  'chiken',  \n",
    " 'ham',  'sausage',  'bacon',  'milk',  'dairy',  'egg',  'cabbage',  'spinach',  'chinese_cabbage',  \n",
    " 'green_onion',  'broccoli',  'bean_sprouts',  'potato',  'radish',  'carrot',  'onion',  'bambooshot', \n",
    " 'eggplant',  'tomato',  'green_pepper',  'apple',  'mikan',  'orange',  'pear',  'yokan',  'manju',  'castella',  \n",
    " 'cake',  'jelly',  'pudding',  'senbei',  'biscuit',  'snack',  'candy',  'chocolate',  'icecream']].mean() # 品目だけ平均を計算する"
   ]
  },
  {
   "cell_type": "markdown",
   "metadata": {},
   "source": [
    "なお，  year と month を省いて平均を求める別の方法としては `drop()` を使う方法もあります． `df.drop([\"year\", \"month\"], axis=1)` とすると， `year`列と`month`列を削除したDataFrameを作ることができますので，そのDataFrameに対して全ての量的データに対して平均を求めてやれば，先ほどと同じ結果になります．"
   ]
  },
  {
   "cell_type": "code",
   "execution_count": null,
   "metadata": {
    "scrolled": false
   },
   "outputs": [],
   "source": [
    "df.drop([\"year\", \"month\"], axis=1).mean() # year列とmonth列を削除したDataFrameに対して各列の平均を求める"
   ]
  },
  {
   "cell_type": "markdown",
   "metadata": {},
   "source": [
    "さて，　"
   ]
  },
  {
   "cell_type": "raw",
   "metadata": {},
   "source": [
    "df[['rice',  'bread',  'noodle',  'fish_faw',  'fish_salt',  'fish_processed',  'beef',  'pork',  'chiken',  \n",
    " 'ham',  'sausage',  'bacon',  'milk',  'dairy',  'egg',  'cabbage',  'spinach',  'chinese_cabbage',  \n",
    " 'green_onion',  'broccoli',  'bean_sprouts',  'potato',  'radish',  'carrot',  'onion',  'bambooshot', \n",
    " 'eggplant',  'tomato',  'green_pepper',  'apple',  'mikan',  'orange',  'pear',  'yokan',  'manju',  'castella',  \n",
    " 'cake',  'jelly',  'pudding',  'senbei',  'biscuit',  'snack',  'candy',  'chocolate',  'icecream']].mean()"
   ]
  },
  {
   "cell_type": "markdown",
   "metadata": {},
   "source": [
    "の用に，毎回こんなに大量のカラムをコードとして書くのは面倒なので，品目を表した配列を定義しておきました．"
   ]
  },
  {
   "cell_type": "code",
   "execution_count": null,
   "metadata": {},
   "outputs": [],
   "source": [
    "products = ['rice',  'bread',  'noodle',  'fish_faw',  'fish_salt',  'fish_processed',  'beef',  'pork',  'chiken',  \n",
    " 'ham',  'sausage',  'bacon',  'milk',  'dairy',  'egg',  'cabbage',  'spinach',  'chinese_cabbage',  \n",
    " 'green_onion',  'broccoli',  'bean_sprouts',  'potato',  'radish',  'carrot',  'onion',  'bambooshot', \n",
    " 'eggplant',  'tomato',  'green_pepper',  'apple',  'mikan',  'orange',  'pear',  'yokan',  'manju',  'castella',  \n",
    " 'cake',  'jelly',  'pudding',  'senbei',  'biscuit',  'snack',  'candy',  'chocolate',  'icecream']"
   ]
  },
  {
   "cell_type": "markdown",
   "metadata": {},
   "source": [
    "この変数を用いれば，全ての品目の平均を求めるのは下記のコードで書けます．"
   ]
  },
  {
   "cell_type": "code",
   "execution_count": null,
   "metadata": {
    "scrolled": false
   },
   "outputs": [],
   "source": [
    "df[products].mean() # 品目についてだけ平均を計算する"
   ]
  },
  {
   "cell_type": "markdown",
   "metadata": {},
   "source": [
    "（参考） なお，  配列 `products` を定義するのに今は全てのラベル名を直接コードに書きましたが，本来はそのようにコード中に，今後変わるかもしれないデータを記載するのは好ましくありません．例えば，データに新しく品目を追加したら，上記の `products`の定義のコードを修正する必要がでてしまいます．\n",
    "\n",
    "より良い方法として，下記のように， ラベル一覧を記したファイル`label_info.xlsx`から全ラベル名を読みこむことでも `products`　を作ることができます．"
   ]
  },
  {
   "cell_type": "code",
   "execution_count": null,
   "metadata": {},
   "outputs": [],
   "source": [
    "df_labels = pd.read_excel(\"label_info.xlsx\") # ラベルの対応表を読み込む\n",
    "products = df_labels[\"English\"].values.tolist() # English列の全文字列を配列として products に代入する\n",
    "products # products の中身を表示"
   ]
  },
  {
   "cell_type": "markdown",
   "metadata": {},
   "source": [
    "## 1-2 平均以外の統計量を調べる"
   ]
  },
  {
   "cell_type": "markdown",
   "metadata": {},
   "source": [
    "これも次週の先取りになりますが， 平均以外の統計量（最大値，中央値，標準偏差など・・・）を手軽に知る方法として， `describe()`という関数があります．"
   ]
  },
  {
   "cell_type": "code",
   "execution_count": null,
   "metadata": {
    "scrolled": true
   },
   "outputs": [],
   "source": [
    "df[products].describe()"
   ]
  },
  {
   "cell_type": "markdown",
   "metadata": {},
   "source": [
    "簡単に項目をかいつまんで説明すると，\n",
    "- **count**: データの個数\n",
    "- **mean**: 平均\n",
    "- **std**: （不偏）標準偏差 （$n-1$で割る方の分散の平方根）\n",
    "- **25%**: 第1四分位数\n",
    "- **50%**: 中央値\n",
    "\n",
    "です． 各変数のいろいろな統計量を知りたいときに便利な関数です．"
   ]
  },
  {
   "cell_type": "markdown",
   "metadata": {},
   "source": [
    "たとえば， 米（`rice`）とパン（`bread`）と麺類（`noodle`）の各種統計量だけ知りたければ，"
   ]
  },
  {
   "cell_type": "code",
   "execution_count": null,
   "metadata": {},
   "outputs": [],
   "source": [
    "[ここにコードを書く]"
   ]
  },
  {
   "cell_type": "markdown",
   "metadata": {},
   "source": [
    "とすれば求まりますね． 10年間の各月の支出金額の平均をみると，この3つのなかで最も支出金額が多い品目はパンであることが分かりますね．"
   ]
  },
  {
   "cell_type": "markdown",
   "metadata": {},
   "source": [
    "##  1-3 いろいろな条件で支出金額を調べる"
   ]
  },
  {
   "cell_type": "markdown",
   "metadata": {},
   "source": [
    "### 1-3-1 特定の年（2010年）における各品目の毎月の支出金額の平均を計算する"
   ]
  },
  {
   "cell_type": "markdown",
   "metadata": {},
   "source": [
    "week06（教科書ch.2.4）で見たように，pandasでは特定の条件にマッチした行だけを抽出することが簡単にできます．\n",
    "\n",
    "先ほどは10年間全てのデータに対して平均を求めましたが，ここでは，2010年のデータだけを対象に平均を見てみましょう． まず， 変数 `df` から 2010年のデータだけを抽出し， `df_2010`という変数に代入してみます．  `year`列にデータの年が入っていますので，この列に対して条件を書けば良いですね．教科書 ch2.4.5も参照してください．"
   ]
  },
  {
   "cell_type": "code",
   "execution_count": null,
   "metadata": {
    "scrolled": true
   },
   "outputs": [],
   "source": [
    "df_2010 = [ここにコードを書く] # yearが2010の行だけ抽出し df_2010 に格納する\n",
    "df_2010 # df_2010 の中身を表示"
   ]
  },
  {
   "cell_type": "markdown",
   "metadata": {},
   "source": [
    "2010年のデータだけを取得できましたので，あとはこのデータに対して平均を求めるだけですね． やはり `year` と `month` の列まで含まれてしまってますので， 変数 `products`　を使って列を絞り込んでから平均を求めましょう．"
   ]
  },
  {
   "cell_type": "code",
   "execution_count": null,
   "metadata": {
    "scrolled": false
   },
   "outputs": [],
   "source": [
    "[ここにコードを書く] # 全ての品目に対して2010年の平均を求める"
   ]
  },
  {
   "cell_type": "markdown",
   "metadata": {},
   "source": [
    "正しく計算できていれば， 米の2010年の月ごとの支出金額の平均は2384.250 円，パンの支出金額は2348.000 円ということが分かります．"
   ]
  },
  {
   "cell_type": "markdown",
   "metadata": {},
   "source": [
    "### 1-3-2 年ごとの支出金額の推移を調べる\n",
    "さて，いまは2010年の平均を求めましたが，それぞれの年ごとの平均を求めてみましょう．pandasの便利な機能の1つに，`groupby()`によるグループ化がありました．これを用いれば，年や月ごとの平均や合計などを求めることもできます．\n",
    "\n",
    "ここでは， 各年ごとの総支出金額を求め，その推移を見ることにしましょう．すなわち， 米の2010年の総支出金額とは， 2010年1月・・・2010年12月までの支出金額を合計したものになります．"
   ]
  },
  {
   "cell_type": "markdown",
   "metadata": {},
   "source": [
    "平均を求めるのは`mean()`ですが，ここで求めたいのは平均ではなく合計です．合計を求めるのは `sum()`を用います．  groupby()とsum()を用いて，全品目について，各年の支出金額の合計を求めてみましょう． `groupby()`については教科書 ch2.4.7も参照してください．"
   ]
  },
  {
   "cell_type": "code",
   "execution_count": null,
   "metadata": {
    "scrolled": false
   },
   "outputs": [],
   "source": [
    "df_by_year = [ここにコードを書く] # 各年ごとに全ての品目で総支出金額を計算し， df_by_yearに代入せよ\n",
    "df_by_year # df_by_year を表示"
   ]
  },
  {
   "cell_type": "markdown",
   "metadata": {},
   "source": [
    "正しく求められていれば，こんな感じの出力になると思います．　（始めの数行数列だけ表示しています）"
   ]
  },
  {
   "cell_type": "raw",
   "metadata": {},
   "source": [
    "\trice\tbread\tnoodle\n",
    "year\t\t\t\n",
    "2010\t28611\t28176\t18047\n",
    "2011\t27425\t28322\t18236\n",
    "2012\t28730\t28281\t17563"
   ]
  },
  {
   "cell_type": "markdown",
   "metadata": {},
   "source": [
    "さて，これで全ての品目の毎年の総支出金額を見ることができました．たとえば， 米（`rice`）の値動きだけに着目すると"
   ]
  },
  {
   "cell_type": "code",
   "execution_count": null,
   "metadata": {
    "scrolled": false
   },
   "outputs": [],
   "source": [
    "[ここにコードを書く] # rice列だけ表示する"
   ]
  },
  {
   "cell_type": "markdown",
   "metadata": {},
   "source": [
    "としてやれば良いですね．  米の支出金額が2014年と2015年あたりに減っている，ということがこのデータから分かります．すぐ後でこのようなデータを可視化してみます．"
   ]
  },
  {
   "cell_type": "markdown",
   "metadata": {},
   "source": [
    "### 1-3-2 月ごとの10年間の平均を求める"
   ]
  },
  {
   "cell_type": "markdown",
   "metadata": {},
   "source": [
    "先ほどは年ごとの総支出金額を求めました．今度は月ごとの10年間の平均について見てみましょう．ここでの月ごとの10年間の平均とは，米の1月支出金額の平均であれば，\n",
    "- 2010年1月の支出金額，2011年1月の支出金額，$\\cdots$, 2019年1月の支出金額 \n",
    "\n",
    "について平均をとる，という意味です． このようにデータを集約することで，支出金額の月単位でのパターンが見えるようになります．\n",
    "\n",
    "さて， 全ての品目に対して，月ごとの10年間の平均を求めてみます． 先ほどとは違い平均なので， `sum()`ではなく`mean()`を用いれば良いですね．"
   ]
  },
  {
   "cell_type": "code",
   "execution_count": null,
   "metadata": {
    "scrolled": false
   },
   "outputs": [],
   "source": [
    "df_by_month = [ここにコードを書く] # 全ての品目について月ごとの平均を求め df_by_monthに代入する\n",
    "df_by_month # df_by_monthの中身を表示する"
   ]
  },
  {
   "cell_type": "markdown",
   "metadata": {},
   "source": [
    "では， `df_by_month` から チョコレート（`chocolate`）とアイスクリーム・シャーベット（`icecream`）の列だけ抽出して表示してみましょう．"
   ]
  },
  {
   "cell_type": "code",
   "execution_count": null,
   "metadata": {
    "scrolled": false
   },
   "outputs": [],
   "source": [
    "[ここにコードを書く] # df_by_monthのchocolateとicecreamの列だけ抽出する"
   ]
  },
  {
   "cell_type": "markdown",
   "metadata": {},
   "source": [
    "これで，チョコレートとアイスクリーム・シャーベットの各月の支出金額の平均が分かりましたね．　チョコレートの支出金額が最も多くなる月は2月で1,271.0円， アイスクリームについては8月で1379.6円，ということが分かります．"
   ]
  },
  {
   "cell_type": "markdown",
   "metadata": {},
   "source": [
    "---"
   ]
  },
  {
   "cell_type": "markdown",
   "metadata": {},
   "source": [
    "# パート2: matplotlib（とpandas）を用いた可視化"
   ]
  },
  {
   "cell_type": "markdown",
   "metadata": {},
   "source": [
    "さて， データ分析では数値を眺めるだけでなく可視化した方が分かりやすいことが多々あります． \n",
    "\n",
    "## 2-1 支出金額のヒストグラムを見る\n",
    "\n",
    "まずは，ヒストグラムについて見てみましょう．\n",
    "ここでは，米の毎月の支出金額のヒストグラムを見てみます．　ビンの数は10としてみましょう．"
   ]
  },
  {
   "cell_type": "code",
   "execution_count": null,
   "metadata": {
    "scrolled": true
   },
   "outputs": [],
   "source": [
    "plt.figure(figsize=(20,6))\n",
    "plt.hist(df[\"rice\"], bins=10)\n",
    "plt.grid(True)"
   ]
  },
  {
   "cell_type": "markdown",
   "metadata": {},
   "source": [
    "これでもなんとなく分布は分かりますが， ヒストグラムに用いる階級幅（`hist()`関数における`bins`）を自分で設定した方が分かりやすいこともあります． matplotlibのデフォルトの`hist()`関数はbinsに値の配列を入れることで，自分で階級幅を定義することもできますので，ここでは自分で階級幅を設定してみましょう． まず， そもそも米の支出金額の分布がどのようになっているのかを`describe()`で確認してみます．"
   ]
  },
  {
   "cell_type": "code",
   "execution_count": null,
   "metadata": {
    "scrolled": true
   },
   "outputs": [],
   "source": [
    "df[\"rice\"].describe()"
   ]
  },
  {
   "cell_type": "markdown",
   "metadata": {},
   "source": [
    "最小値が1,349円，最大値が3,859円でしたので，250円ずつくらいで区切ってみます．"
   ]
  },
  {
   "cell_type": "code",
   "execution_count": null,
   "metadata": {
    "scrolled": false
   },
   "outputs": [],
   "source": [
    "bins = [1250, 1500, 1750, 2000, 2250, 2500, 2750, 3000, 3250, 3500, 3750, 4000] \n",
    "plt.figure(figsize=(20,6))\n",
    "plt.hist(df[\"rice\"], bins=bins)\n",
    "plt.show()"
   ]
  },
  {
   "cell_type": "markdown",
   "metadata": {},
   "source": [
    "1,750円以上2,000円未満の範囲に入る月が最も多いことが分かりますね．"
   ]
  },
  {
   "cell_type": "markdown",
   "metadata": {},
   "source": [
    "## 2-2 米とパンの10年間の支出金額の推移を見てみる"
   ]
  },
  {
   "cell_type": "markdown",
   "metadata": {},
   "source": [
    "さて，次に支出金額が10年間でどのように変わっていったのかをみてみましょう．ここでは，米（`rice`），パン（`bread`），麺類（`noodle`）の主食系に絞って見てみましょう．\n",
    "\n",
    "先ほどと同様にして，年ごとの総支出金額をこの3つの品目について求めてみましょう．"
   ]
  },
  {
   "cell_type": "code",
   "execution_count": null,
   "metadata": {
    "scrolled": false
   },
   "outputs": [],
   "source": [
    "df_carb = df.groupby(\"year\")[[\"rice\", \"bread\", \"noodle\"]].sum()\n",
    "df_carb # df_carb を表示． ちなみに， carb は炭水化物(carbohydrate)の略"
   ]
  },
  {
   "cell_type": "markdown",
   "metadata": {},
   "source": [
    "このデータを折れ線グラフで表示してみましょう． 前回同様，matplotlibの`plot()`を用います．\n",
    "\n",
    "まずは米の支出金額の推移を見てみます． `plot()`を使えば良いですね． 教科書 ch.2.5.2も参照してください．"
   ]
  },
  {
   "cell_type": "code",
   "execution_count": 1,
   "metadata": {
    "scrolled": false
   },
   "outputs": [
    {
     "ename": "NameError",
     "evalue": "name 'plt' is not defined",
     "output_type": "error",
     "traceback": [
      "\u001b[0;31m---------------------------------------------------------------------------\u001b[0m",
      "\u001b[0;31mNameError\u001b[0m                                 Traceback (most recent call last)",
      "\u001b[0;32m<ipython-input-1-4d647088f180>\u001b[0m in \u001b[0;36m<module>\u001b[0;34m\u001b[0m\n\u001b[0;32m----> 1\u001b[0;31m \u001b[0mplt\u001b[0m\u001b[0;34m.\u001b[0m\u001b[0mfigure\u001b[0m\u001b[0;34m(\u001b[0m\u001b[0mfigsize\u001b[0m\u001b[0;34m=\u001b[0m\u001b[0;34m(\u001b[0m\u001b[0;36m20\u001b[0m\u001b[0;34m,\u001b[0m\u001b[0;36m6\u001b[0m\u001b[0;34m)\u001b[0m\u001b[0;34m)\u001b[0m\u001b[0;34m\u001b[0m\u001b[0;34m\u001b[0m\u001b[0m\n\u001b[0m\u001b[1;32m      2\u001b[0m \u001b[0mplt\u001b[0m\u001b[0;34m.\u001b[0m\u001b[0mplot\u001b[0m\u001b[0;34m(\u001b[0m\u001b[0mdf_carb\u001b[0m\u001b[0;34m[\u001b[0m\u001b[0;34m\"rice\"\u001b[0m\u001b[0;34m]\u001b[0m\u001b[0;34m,\u001b[0m \u001b[0mlabel\u001b[0m\u001b[0;34m=\u001b[0m\u001b[0;34m\"rice\"\u001b[0m\u001b[0;34m)\u001b[0m \u001b[0;31m# 米の支出金額の折れ線グラフを書く ．ラベル名はriceとせよ．\u001b[0m\u001b[0;34m\u001b[0m\u001b[0;34m\u001b[0m\u001b[0m\n\u001b[1;32m      3\u001b[0m \u001b[0mplt\u001b[0m\u001b[0;34m.\u001b[0m\u001b[0mxlabel\u001b[0m\u001b[0;34m(\u001b[0m\u001b[0;34m\"year\"\u001b[0m\u001b[0;34m)\u001b[0m \u001b[0;31m# x軸の座標名を year とする\u001b[0m\u001b[0;34m\u001b[0m\u001b[0;34m\u001b[0m\u001b[0m\n\u001b[1;32m      4\u001b[0m \u001b[0mplt\u001b[0m\u001b[0;34m.\u001b[0m\u001b[0mylabel\u001b[0m\u001b[0;34m(\u001b[0m\u001b[0;34m\"Amount (yen)\"\u001b[0m\u001b[0;34m)\u001b[0m \u001b[0;31m# y軸の座標名を Amount (yen) とする\u001b[0m\u001b[0;34m\u001b[0m\u001b[0;34m\u001b[0m\u001b[0m\n\u001b[1;32m      5\u001b[0m \u001b[0mplt\u001b[0m\u001b[0;34m.\u001b[0m\u001b[0mxticks\u001b[0m\u001b[0;34m(\u001b[0m\u001b[0mdf_carb\u001b[0m\u001b[0;34m.\u001b[0m\u001b[0mindex\u001b[0m\u001b[0;34m)\u001b[0m \u001b[0;31m# x軸の各目盛りに 2010, 2011, 2012... と書く\u001b[0m\u001b[0;34m\u001b[0m\u001b[0;34m\u001b[0m\u001b[0m\n",
      "\u001b[0;31mNameError\u001b[0m: name 'plt' is not defined"
     ]
    }
   ],
   "source": [
    "plt.figure(figsize=(20,6))\n",
    "plt.plot(df_carb[\"rice\"], label=\"rice\") # 米の支出金額の折れ線グラフを書く ．ラベル名はriceとせよ．\n",
    "plt.xlabel(\"year\") # x軸の座標名を year とする\n",
    "plt.ylabel(\"Amount (yen)\") # y軸の座標名を Amount (yen) とする\n",
    "plt.xticks(df_carb.index) # x軸の各目盛りに 2010, 2011, 2012... と書く\n",
    "plt.legend() # 凡例を表示\n",
    "plt.grid(True)"
   ]
  },
  {
   "cell_type": "markdown",
   "metadata": {},
   "source": [
    "米だけでなくパンと麺類のグラフも重ねて書いてみましょう．"
   ]
  },
  {
   "cell_type": "code",
   "execution_count": null,
   "metadata": {
    "scrolled": true
   },
   "outputs": [],
   "source": [
    "plt.figure(figsize=(20,6))\n",
    "[ここにコードを書く] # 米の支出金額の折れ線グラフを書く ．ラベル名はriceとせよ．\n",
    "[ここにコードを書く] # パンの支出金額のグラフを書く．ラベル名はbreadとせよ．\n",
    "[ここにコードを書く] # 麺類の支出金額のグラフを書く．ラベル名はnoodleとせよ．\n",
    "plt.xlabel(\"year\")\n",
    "plt.ylabel(\"Amount (yen)\")\n",
    "plt.xticks(df_carb.index)\n",
    "plt.legend()\n",
    "plt.grid(True)"
   ]
  },
  {
   "cell_type": "markdown",
   "metadata": {},
   "source": [
    "さて，いま作成した2つの折れ線グラフですが，よく見るとY軸の最小値は0ではないですね．皆さんは気づきましたでしょうか． matplotlibは入力データの範囲に合わせてX軸やY軸の最小値と最大値を設定してくれます．基本的には便利な機能なのですが， 最小値を0に合わせないとデータの解釈を間違える可能性もあります． X軸やY軸の最小値や最大値を設定するには，`xlim()`や`ylim()`を使います．たとえば， Y軸の範囲を [0, 40000] にするには `plt.ylim(0, 40000)` のようにします． 以下のコードを実行してください．"
   ]
  },
  {
   "cell_type": "code",
   "execution_count": null,
   "metadata": {
    "scrolled": false
   },
   "outputs": [],
   "source": [
    "plt.figure(figsize=(20,6))\n",
    "plt.plot(df_carb[\"rice\"], label=\"rice\") # 米の支出金額の折れ線グラフを書く \n",
    "plt.plot(df_carb[\"bread\"], label=\"bread\") # パンの支出金額のグラフを書く\n",
    "plt.plot(df_carb[\"noodle\"], label=\"noodle\") # 麺類の支出金額のグラフを書く\n",
    "plt.xlabel(\"year\")\n",
    "plt.ylabel(\"Amount (yen)\")\n",
    "plt.ylim(0, 40000) # Y軸の範囲を 0　から 40,000 にする\n",
    "plt.xticks(df_carb.index)\n",
    "plt.legend()\n",
    "plt.grid(True)"
   ]
  },
  {
   "cell_type": "markdown",
   "metadata": {},
   "source": [
    "`plt.ylim(0, 40000)` のようにコードに範囲を直接設定してしまうと，データを変えるとまたコードを修正する必要があります． `df_curb.max()` で各品目の最大値がとれ，更に `df_curb.max().max()` とすることで， 各列の最大値の最大値を求めることができます．"
   ]
  },
  {
   "cell_type": "code",
   "execution_count": null,
   "metadata": {
    "scrolled": true
   },
   "outputs": [],
   "source": [
    "df_carb.max() # 各列の最大値を求める"
   ]
  },
  {
   "cell_type": "code",
   "execution_count": null,
   "metadata": {
    "scrolled": true
   },
   "outputs": [],
   "source": [
    "df_carb.max().max() # 各列の最大値の最大値をとる（つまり，全要素の最大値）"
   ]
  },
  {
   "cell_type": "markdown",
   "metadata": {},
   "source": [
    "これを用いると， データから自動的にY軸の最大値を設定できますね．"
   ]
  },
  {
   "cell_type": "code",
   "execution_count": null,
   "metadata": {},
   "outputs": [],
   "source": [
    "plt.figure(figsize=(20,6))\n",
    "plt.plot(df_carb[\"rice\"], label=\"rice\") # 米の支出金額の折れ線グラフを書く \n",
    "plt.plot(df_carb[\"bread\"], label=\"bread\") # パンの支出金額のグラフを書く\n",
    "plt.plot(df_carb[\"noodle\"], label=\"noodle\") # 麺類の支出金額のグラフを書く\n",
    "plt.xlabel(\"year\")\n",
    "plt.ylabel(\"Amount (yen)\")\n",
    "plt.ylim(0, df_carb.max().max()* 1.1) # Y軸の範囲を 0　からデータの最大値の1.1倍にする\n",
    "plt.xticks(df_carb.index)\n",
    "plt.legend()\n",
    "plt.grid(True)"
   ]
  },
  {
   "cell_type": "markdown",
   "metadata": {},
   "source": [
    "さて，グラフを見ると，ここ10年でパンの支出金額は増加している一方，米の支出金額は減少していることがわかりますね． 日本人の米離れという話をよく聞きますが，このように支出金額のデータからもその傾向が読み取れます． また，麺類については10年間での変化はあまりなさそうです．\n",
    " - 2014年と2015年の米の支出金額の落ち込みの原因はなんなのでしょうか？考えてみると面白そうですね．"
   ]
  },
  {
   "cell_type": "markdown",
   "metadata": {},
   "source": [
    "なお，いまはこのグラフを書くために matplotlibの`plot()`関数を利用しましたが， pandasのDataFrameにも`plot()`関数があり，そちらを利用することもできます． 今一度 df_carb の中身を表示してみます．"
   ]
  },
  {
   "cell_type": "code",
   "execution_count": null,
   "metadata": {
    "scrolled": false
   },
   "outputs": [],
   "source": [
    "df_carb"
   ]
  },
  {
   "cell_type": "markdown",
   "metadata": {},
   "source": [
    "pandasのDataFrameの`plot()`関数を呼ぶのは以下の様にします．"
   ]
  },
  {
   "cell_type": "code",
   "execution_count": null,
   "metadata": {
    "scrolled": false
   },
   "outputs": [],
   "source": [
    "df_carb.plot(figsize=(20,6)) # figsize=(20,6) はなくても描画できる． いままでと同様グラフの大きさの設定をするための引数"
   ]
  },
  {
   "cell_type": "markdown",
   "metadata": {},
   "source": [
    "何も設定していなくとも， 各系列の凡例（`rice`，`bread`，`noodle`）が付いていたり，x軸に座標名（`year`）が設定されているのが分かるかと思います．pandasの`plot()`関数も中身はmatplotlibを使っています．pandasの方の`plot()`関数を使うと，色々と必要そうな初期設定をDataFrameの中身に応じてデフォルトでやってくれるので，matplotlibを直接使うよりもコードが簡潔に書けます\n",
    "- このような感じで，pandasやmatplotlibを使った分析は，同じことをするための方法がさまざまあります．自分にとって分かりやすい方法で書くことができれば十分です．この演習資料では，教科書に合わせて，できる限りmatplotlibを直接用いるコードを書きます．"
   ]
  },
  {
   "cell_type": "markdown",
   "metadata": {},
   "source": [
    " いま表示した図を少し見た目を整形して，ファイルに保存してみます． 見た目の整形に関しては参考程度にみておけば十分です．重要な関数としては`savefig()`で，  `savefig(ファイル名) ` で画像をマシン上に保存することができます． 画像の種類は拡張子（`.png`，`.pdf`，`.jpg`など）を変えると自動的にその拡張子の形式で保存してくれます．"
   ]
  },
  {
   "cell_type": "code",
   "execution_count": null,
   "metadata": {
    "scrolled": true
   },
   "outputs": [],
   "source": [
    "plt.figure(figsize=(10,6))\n",
    "plt.plot(df_carb[\"rice\"], \"o-\", label=\"rice\") #oで点を○で表示する． - で点間を直線で結ぶ\n",
    "plt.plot(df_carb[\"bread\"], \"o-\", label=\"bread\")\n",
    "plt.plot(df_carb[\"noodle\"], \"o-\", label=\"noodle\")\n",
    "plt.xlabel(\"year\", fontsize=20) # fontsizeで文字の大きさを設定する\n",
    "plt.ylabel(\"Amount (yen)\", fontsize=20)\n",
    "plt.yticks(fontsize=14)\n",
    "plt.xticks(df_carb.index, fontsize=14, rotation=20) #ラベルを全て表示する．ラベルを20度傾けて表示してみる\n",
    "plt.ylim(0, df_carb.max().max()* 1.1) # Y軸の範囲を 0　からデータの最大値の1.1倍にする\n",
    "plt.title(\"10 Years Changes in Spending Amounts (yen) \", fontsize=20) # 図のタイトル\n",
    "plt.legend(fontsize=20)\n",
    "plt.savefig(\"10years.png\") # PNG形式で画像を10year.pngというファイル名で保存する\n",
    "plt.grid(True)"
   ]
  },
  {
   "cell_type": "markdown",
   "metadata": {},
   "source": [
    "上記セルの実行後，みなさんの手元のPCにある演習課題のリポジトリのフォルダに `10year.png`というファイルが作成されているはずです．"
   ]
  },
  {
   "cell_type": "markdown",
   "metadata": {},
   "source": [
    "補足:  今回は1つのグラフに複数の折れ線を重ねて描画しました． `df_carb`のそれぞれの品目ごとに1つのグラフを書く方法として， for 文でぐるぐる回す方法もあります． `plt.show()` は　図を明示的に表示するためのコマンドです（今まではJupyerがセルの最後にある `plt.grid(True)` の結果を解釈して勝手に図を表示してくれていた）"
   ]
  },
  {
   "cell_type": "code",
   "execution_count": null,
   "metadata": {},
   "outputs": [],
   "source": [
    "carbs = [\"rice\", \"bread\", \"noodle\"]\n",
    "for item in carbs:\n",
    "    plt.plot(df_carb[item], label=item)\n",
    "    plt.xlabel(\"year\")\n",
    "    plt.ylabel(\"Amount (yen)\")\n",
    "    plt.ylim(0, df_carb[item].max() * 1.1)\n",
    "    plt.xticks(df_carb.index)\n",
    "    plt.legend()\n",
    "    plt.grid(True)\n",
    "    plt.show() #明示的に図を描画する"
   ]
  },
  {
   "cell_type": "markdown",
   "metadata": {},
   "source": [
    "## 2-3 品目間の支出金額の相関を確認する"
   ]
  },
  {
   "cell_type": "markdown",
   "metadata": {},
   "source": [
    "最後に，散布図についても使ってみましょう． ここでは キャンデーとアイスクリーム・シャーベットの毎月の支出金額の散布図を作成してみます．直感的には，アイスクリームは暑い時期の方が売れますし，キャンデーは暑い時期はあまり売れなさそうで，この2つの品目の毎月の支出金額には`負の相関`がありそうです． 実際に散布図を描いて確認してみましょう．\n",
    "\n",
    "変数 `df` に何が入っているのかを今一度表示しておきます．"
   ]
  },
  {
   "cell_type": "code",
   "execution_count": null,
   "metadata": {},
   "outputs": [],
   "source": [
    "df"
   ]
  },
  {
   "cell_type": "markdown",
   "metadata": {},
   "source": [
    "それでは，この　`df`　を使って，キャンデーとアイスクリームの毎月の支出金額の散布図を作成しましょう．最後はセルを全部空にしますので，各自で考えて散布図を書いてみましょう．そのとき，散布図が以下の仕様を満たすようにしてください．\n",
    "\n",
    "- x軸をキャンデーの毎月の支出金額とせよ\n",
    "- y軸をアイスクリームの毎月の支出金額とせよ\n",
    "- x軸の座標名を `candy` とせよ\n",
    "- y軸の座標名を `icecream` とせよ\n",
    "- 作成した図を `scatter.png`　というファイル名で演習課題のリポジトリのフォルダに保存せよ．\n",
    "\n",
    "ヒント: 散布図も `plt.plot()` を使って書けるのでしたね．"
   ]
  },
  {
   "cell_type": "code",
   "execution_count": null,
   "metadata": {
    "scrolled": false
   },
   "outputs": [],
   "source": [
    "[このセルにコードをいろいろ書く]"
   ]
  },
  {
   "cell_type": "markdown",
   "metadata": {},
   "source": [
    "細部の見え方は違うかもしれませんが，下記の様な図が表示され，それが`scatter.png`というファイル名で演習課題のリポジトリのフォルダに作成されていればOKです．"
   ]
  },
  {
   "attachments": {
    "scatter.png": {
     "image/png": "[encoded data removed]"
    }
   },
   "cell_type": "markdown",
   "metadata": {},
   "source": [
    "![scatter.png](attachment:scatter.png)"
   ]
  },
  {
   "cell_type": "markdown",
   "metadata": {},
   "source": [
    "やはり負の相関が散布図から見えますね．念のための相関係数についても計算してみると，"
   ]
  },
  {
   "cell_type": "code",
   "execution_count": null,
   "metadata": {},
   "outputs": [],
   "source": [
    "import scipy as sp\n",
    "sp.stats.pearsonr(df[\"candy\"], df[\"icecream\"])[0] # キャンデーとアイスクリームの支出金額のピアソンの積率相関係数を計算する"
   ]
  },
  {
   "cell_type": "markdown",
   "metadata": {},
   "source": [
    "となり， 負となっていることが分かります．"
   ]
  },
  {
   "cell_type": "markdown",
   "metadata": {},
   "source": [
    "これで今週の演習課題は終わりです． 実際のデータでpandasやmatplotlibを用いてみました． こうしたライブラリを使って分析する雰囲気が分かってもらえれば十分です．レポートその3では今回のデータに対して各自でいろいろと分析してもらいます． この演習資料の内容や教科書を何度も見返すと思いますが，ちょっとづつ慣れていきましょう．"
   ]
  }
 ],
 "metadata": {
  "kernelspec": {
   "display_name": "Python 3",
   "language": "python",
   "name": "python3"
  },
  "language_info": {
   "codemirror_mode": {
    "name": "ipython",
    "version": 3
   },
   "file_extension": ".py",
   "mimetype": "text/x-python",
   "name": "python",
   "nbconvert_exporter": "python",
   "pygments_lexer": "ipython3",
   "version": "3.7.6"
  }
 },
 "nbformat": 4,
 "nbformat_minor": 2
}
