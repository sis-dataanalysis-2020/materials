{
 "cells": [
  {
   "cell_type": "markdown",
   "metadata": {},
   "source": [
    "# データ分析演習 report3 pandasとmatplotlibの練習\n",
    "- 氏名： 氏名に置き換えてください\n",
    "- 学生番号： 学生番号に置き換えてください"
   ]
  },
  {
   "cell_type": "markdown",
   "metadata": {},
   "source": [
    "## はじめに\n",
    "1. このファイルの名前の(JBxxxxxx)を自分の学生番号にしてください．\n",
    "2. 上記の氏名と学生番号を忘れずに記入してください．\n",
    "3. **提出する前に， Kernel -> Restart & Run All を実行し，エラーなく最後のセルまで実行できるか確認してください**．"
   ]
  },
  {
   "cell_type": "markdown",
   "metadata": {},
   "source": [
    "## 提出方法\n",
    "- GitHub Desktopを通じてGitHubへ提出\n",
    "- 締切: **7月2日（木）**"
   ]
  },
  {
   "cell_type": "markdown",
   "metadata": {},
   "source": [
    "# レポート課題\n",
    "week08と同じデータ（`week08data.csv`）を用いる． すなわち， 2010年〜2019年の10年間における，二人以上の世帯の毎月の支出金額をさまざまな品目について求めたデータである． このデータを用いて， **課題1**　と **課題2** に取り組むこと．　また， **課題3** は任意課題であり，余裕がある人のみ取り組むこと（加点します）．"
   ]
  },
  {
   "cell_type": "markdown",
   "metadata": {},
   "source": [
    "# レポート課題のための準備"
   ]
  },
  {
   "cell_type": "markdown",
   "metadata": {},
   "source": [
    "各種モジュールをインポートし， week08data.csvを変数 `df` にDataFrameとして読み込んでおきます．  matplotlibで日本語を用いるなど，モジュールのインポート方法を自由に修正してもらって構いません．"
   ]
  },
  {
   "cell_type": "code",
   "execution_count": null,
   "metadata": {
    "scrolled": true
   },
   "outputs": [],
   "source": [
    "# pandas の読み込み\n",
    "import pandas as pd\n",
    "\n",
    "# Matplotlib と Seabornの読み込み\n",
    "import matplotlib as mpl\n",
    "import seaborn as sns\n",
    "sns.set()\n",
    "\n",
    "# pyplotにはpltの別名で実行できるようにする\n",
    "import matplotlib.pyplot as plt\n",
    "\n",
    "# Jupyter Notebook上でグラフを表示させるために必要なマジックコマンド\n",
    "%matplotlib inline"
   ]
  },
  {
   "cell_type": "code",
   "execution_count": null,
   "metadata": {},
   "outputs": [],
   "source": [
    "pd.set_option(\"display.precision\", 3) # pandasのDataFrameやSeries中の値を表示するときに小数点第3位までの表示にする"
   ]
  },
  {
   "cell_type": "code",
   "execution_count": null,
   "metadata": {},
   "outputs": [],
   "source": [
    "# numpyなどの出力を小数第3位まで表示\n",
    "%precision 3"
   ]
  },
  {
   "cell_type": "code",
   "execution_count": null,
   "metadata": {
    "scrolled": true
   },
   "outputs": [],
   "source": [
    "df = pd.read_csv(\"week08data.csv\", parse_dates=[0], index_col=0) # csvファイルを読み込みDataFrameを作成し， df に代入する\n",
    "df # df の中身を表示する．"
   ]
  },
  {
   "cell_type": "code",
   "execution_count": null,
   "metadata": {},
   "outputs": [],
   "source": [
    "pd.read_excel(\"label_info.xlsx\") #列名と実際の品目の対応表を表示"
   ]
  },
  {
   "cell_type": "code",
   "execution_count": null,
   "metadata": {},
   "outputs": [],
   "source": [
    "# 品目一覧を配列にしたもの\n",
    "products = ['rice',  'bread',  'noodle',  'fish_faw',  'fish_salt',  'fish_processed',  'beef',  'pork',  'chiken',  \n",
    " 'ham',  'sausage',  'bacon',  'milk',  'dairy',  'egg',  'cabbage',  'spinach',  'chinese_cabbage',  \n",
    " 'green_onion',  'broccoli',  'bean_sprouts',  'potato',  'radish',  'carrot',  'onion',  'bambooshot', \n",
    " 'eggplant',  'tomato',  'green_pepper',  'apple',  'mikan',  'orange',  'pear',  'yokan',  'manju',  'castella',  \n",
    " 'cake',  'jelly',  'pudding',  'senbei',  'biscuit',  'snack',  'candy',  'chocolate',  'icecream']"
   ]
  },
  {
   "cell_type": "markdown",
   "metadata": {},
   "source": [
    "この `df` からスタートして， 以下の課題に取り組んでください．"
   ]
  },
  {
   "cell_type": "markdown",
   "metadata": {},
   "source": [
    "# 課題1 10年間の支出金額の推移"
   ]
  },
  {
   "cell_type": "markdown",
   "metadata": {},
   "source": [
    "## 課題内容\n",
    "\n",
    "データを自由に分析することで，米（`rice`），パン（`bread`），麺類（`noodle`）以外の品目について，\n",
    "\n",
    "\n",
    "\n",
    "- 10年間で支出金額が増加傾向にある品目\n",
    "\n",
    "あるいは\n",
    "\n",
    "- 10年間で支出金額が減少傾向にある品目\n",
    "\n",
    "あるいは\n",
    "\n",
    "- ある特定の年（あるいは特定の複数の年）だけ他の年と支出金額が異なっている品目\n",
    "\n",
    "を1つ以上見つけ報告せよ． 報告は以下の5点を行うこと．\n",
    "必要があれば，自由にセルを追加し，コードとMarkdownを併用してよい．\n",
    "\n",
    "1. 見つけた品目（複数でも良い）\n",
    "2. 傾向を示した図（つまり，その図を表示するためのコード）\n",
    " - 無理に1枚の図で全ての品目の傾向を表示する必要はありません．必要があれば複数のセルで複数の図を表示してください．\n",
    "3. その図から読み取れる傾向\n",
    "4. なぜそのような傾向になっているのか，あなたなりの考察\n",
    "5. 報告に用いた品目を見つけるまでに行った他の分析があれば自由に"
   ]
  },
  {
   "cell_type": "markdown",
   "metadata": {},
   "source": [
    "補足: week08の演習資料「2-2 米とパンの10年間の支出金額の推移を見てみる」を参考に課題に取り組んでください． もちろん，演習資料で示した図が唯一の図ではありません．演習では年単位での平均を求めましたが，各月ごとの変化を見る方が，より詳細なデータを確認できます．いろいろ自由にデータを分析して可視化をしてみてください．"
   ]
  },
  {
   "cell_type": "markdown",
   "metadata": {},
   "source": [
    "### 1. 見つけた品目"
   ]
  },
  {
   "cell_type": "markdown",
   "metadata": {},
   "source": [
    "- 品目（例: 米）"
   ]
  },
  {
   "cell_type": "markdown",
   "metadata": {},
   "source": [
    "### 2. 傾向を示した図（コードとして記述すること）"
   ]
  },
  {
   "cell_type": "code",
   "execution_count": null,
   "metadata": {},
   "outputs": [],
   "source": [
    "# ここに自由にコードを記述してください． Markdownのセルも自由に追加してください．"
   ]
  },
  {
   "cell_type": "markdown",
   "metadata": {},
   "source": [
    "### 3. その図から読み取れる傾向"
   ]
  },
  {
   "cell_type": "markdown",
   "metadata": {},
   "source": [
    "**ここをダブルクリックしてこのセルを修正して回答を記述してください**． 必要があればコードのセルも自由に追加してください．"
   ]
  },
  {
   "cell_type": "markdown",
   "metadata": {},
   "source": [
    "### 4. なぜそのような傾向になっているのか，あなたなりの考察"
   ]
  },
  {
   "cell_type": "markdown",
   "metadata": {},
   "source": [
    "**ここをダブルクリックしてこのセルを修正して回答を記述してください**． 必要があればコードのセルも自由に追加してください．"
   ]
  },
  {
   "cell_type": "markdown",
   "metadata": {},
   "source": [
    "### 5. 報告に用いた品目を見つけるまでに行った他の分析があれば自由に"
   ]
  },
  {
   "cell_type": "markdown",
   "metadata": {},
   "source": [
    "**ここをダブルクリックしてこのセルを修正して回答を記述してください**． 必要があればコードのセルも自由に追加してください．"
   ]
  },
  {
   "cell_type": "markdown",
   "metadata": {},
   "source": [
    "---"
   ]
  },
  {
   "cell_type": "markdown",
   "metadata": {},
   "source": [
    "## 課題2 月ごとの支出金額に特徴的なパターンが現れる品目の発見"
   ]
  },
  {
   "cell_type": "markdown",
   "metadata": {},
   "source": [
    "## 課題内容\n",
    "\n",
    "演習資料ではチョコレート（`chocolate`）とアイスクリーム・シャーベット（`icecream`）の品目について，月ごとの支出金額の違いを見た．\n",
    "そこで，チョコレート（`chocolate`）とアイスクリーム・シャーベット（`icecream`）以外の品目について，月ごとの支出金額に特徴的なパターンが現れる品目を1つ以上見つけ報告せよ． 報告は以下の5点を行うこと\n",
    "\n",
    "1. 見つけた品目（複数でも良い）\n",
    "2. 傾向を示した図（つまり，その図を表示するためのコード）\n",
    " -  無理に1枚の図で全ての品目の傾向を表示する必要はありません．必要があれば複数のセルで複数の図を表示してください．\n",
    "3. その図から読み取れる傾向\n",
    "4. なぜそのような傾向になっているのか，あなたなりの考察\n",
    "5. 報告に用いた品目を見つけるまでに行った他の分析があれば自由に"
   ]
  },
  {
   "cell_type": "markdown",
   "metadata": {},
   "source": [
    "- 補足: week08の演習資料「1-3-2 月ごとの10年間の平均を求める」を参考に課題に取り組んでください． 「1-3-2 月ごとの10年間の平均を求める」 ではDataFrameを作るだけでmatplotlibでの可視化を行ってませんでしたが， 　「2-2 米とパンの10年間の支出金額の推移を見てみる」が折れ線グラフを作る参考になると思います．もちろん，それ以外の図を作成しても構いません．"
   ]
  },
  {
   "cell_type": "markdown",
   "metadata": {},
   "source": [
    "### 1. 見つけた品目"
   ]
  },
  {
   "cell_type": "markdown",
   "metadata": {},
   "source": [
    "- 品目（例: チョコレート）"
   ]
  },
  {
   "cell_type": "markdown",
   "metadata": {},
   "source": [
    "### 2. 傾向を示した図（コードとして記述すること）"
   ]
  },
  {
   "cell_type": "code",
   "execution_count": null,
   "metadata": {},
   "outputs": [],
   "source": [
    "# ここに自由にコードを記述してください． Markdownのセルも自由に追加してください．"
   ]
  },
  {
   "cell_type": "markdown",
   "metadata": {},
   "source": [
    "### 3. その図から読み取れる傾向"
   ]
  },
  {
   "cell_type": "markdown",
   "metadata": {},
   "source": [
    "---**ここをダブルクリックしてこのセルを修正して回答を記述してください**---． 必要があればコードのセルも自由に追加してください．"
   ]
  },
  {
   "cell_type": "markdown",
   "metadata": {},
   "source": [
    "### 4. なぜそのような傾向になっているのか，あなたなりの考察"
   ]
  },
  {
   "cell_type": "markdown",
   "metadata": {},
   "source": [
    "---**ここをダブルクリックしてこのセルを修正して回答を記述してください**---． 必要があればコードのセルも自由に追加してください．"
   ]
  },
  {
   "cell_type": "markdown",
   "metadata": {},
   "source": [
    "### 5. 報告に用いた品目を見つけるまでに行った他の分析があれば自由に"
   ]
  },
  {
   "cell_type": "markdown",
   "metadata": {},
   "source": [
    "---**ここをダブルクリックしてこのセルを修正して回答を記述してください**---． 必要があればコードのセルも自由に追加してください．"
   ]
  },
  {
   "cell_type": "markdown",
   "metadata": {},
   "source": [
    "---"
   ]
  },
  {
   "cell_type": "markdown",
   "metadata": {},
   "source": [
    "## 課題3 自由課題（余裕がある人だけ）"
   ]
  },
  {
   "cell_type": "markdown",
   "metadata": {},
   "source": [
    "各自，自由にデータに対してなんでも良いので仮説を立てて分析を行え．必要があれば，他のデータと組み合わせてもよい．\n",
    "\n",
    "分析の例:\n",
    "- あの年のあのブームがあったので，この品目のあの年の支出金額だけ他の年と違うはず．\n",
    "- 贅沢品の支出金額は景気に左右される．\n",
    "- 「○○離れ」は実は本当ではないのでは"
   ]
  },
  {
   "cell_type": "markdown",
   "metadata": {},
   "source": [
    "### 1. 立てた仮説"
   ]
  },
  {
   "cell_type": "markdown",
   "metadata": {},
   "source": [
    "---**ここをダブルクリックしてこのセルを修正して回答を記述してください**---． 必要があればコードのセルも自由に追加してください．"
   ]
  },
  {
   "cell_type": "markdown",
   "metadata": {},
   "source": [
    "### 2. 仮説を検証するために行った分析"
   ]
  },
  {
   "cell_type": "code",
   "execution_count": null,
   "metadata": {},
   "outputs": [],
   "source": [
    "# ここに自由にコードを記述してください． Markdownのセルも自由に追加してください．"
   ]
  },
  {
   "cell_type": "markdown",
   "metadata": {},
   "source": [
    "### 3. 分析した結果仮説は正しそうかか自分なりの考察"
   ]
  },
  {
   "cell_type": "markdown",
   "metadata": {},
   "source": [
    "---**ここをダブルクリックしてこのセルを修正して回答を記述してください**---． 必要があればコードのセルも自由に追加してください．"
   ]
  },
  {
   "cell_type": "markdown",
   "metadata": {},
   "source": [
    "レポート課題3は以上です．提出する前に，  Kernel -> Restart & Run All を実行し，**エラーなく最後のセルまで実行できるか確認**してください．"
   ]
  }
 ],
 "metadata": {
  "kernelspec": {
   "display_name": "Python 3",
   "language": "python",
   "name": "python3"
  },
  "language_info": {
   "codemirror_mode": {
    "name": "ipython",
    "version": 3
   },
   "file_extension": ".py",
   "mimetype": "text/x-python",
   "name": "python",
   "nbconvert_exporter": "python",
   "pygments_lexer": "ipython3",
   "version": "3.7.6"
  }
 },
 "nbformat": 4,
 "nbformat_minor": 2
}
