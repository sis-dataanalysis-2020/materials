{
 "cells": [
  {
   "cell_type": "markdown",
   "metadata": {},
   "source": [
    "# データ分析演習 準備課題その1\n",
    "- 講義ページ: https://sis-dataanalysis-2020.github.io/syllabus/\n",
    "- 主担当: 山本 (t.yamamoto@sis.u-hyogo.ac.jp)\n",
    "\n",
    "## この資料の目的\n",
    "1. GitHubとGitHub Desktopを用いた演習課題の取得，演習課題の提出ができる\n",
    "2. Jupyter notebookのMarkdown記法に慣れる\n",
    "\n",
    "「データ分析演習」では GitHub と GitHub Desktop を用いて演習課題の取得・提出を行います．いままでのメールや紙によるレポート課題の提出方法とはちょっと違いますので，この資料の手順に沿って，課題の提出まで行ってください．はじめは戸惑うかもしれませんが，一回覚えればあとは同じことの繰り返しです． 「データ分析演習」ではこの資料にあるやり方が課題の提出を行いますので，あらかじめこの方法を経験しておいてもらう，というのが本準備課題の目的です．\n",
    "\n",
    "また，この講義に限らず，今後もJupyter Notebookでプログラムとレポートを作成する課題がでるかもしれませんので，Markdownにも少し慣れておく，というのもこの準備課題の目的です．\n",
    "\n",
    "分からないことは遠慮なく Slack で質問してください．自分が分からないことは他の人も分からないことである可能性が高いです．みなさんの質問が他の人のためにもなります． もちろんダイレクトメッセージやメールで質問してもらっても構いません．\n",
    "\n",
    "## 準備課題その1（本課題は成績評価に用いません）\n",
    "- 本資料にある手順1から手順5まで行い，pre1-XXXXXX.ipynbを 事前課題その1提出用リポジトリに提出せよ．（XXXXXXは自分の学生番号）\n",
    "- 締切: 4月30日（木） 14:30\n",
    "  - **成績評価には用いません**が，詰まっている人のサポートなどしたいと考えていますので，この締め切りまでに終えるように作業してみてください．"
   ]
  },
  {
   "cell_type": "markdown",
   "metadata": {},
   "source": [
    "# GitHubを使う"
   ]
  },
  {
   "cell_type": "markdown",
   "metadata": {},
   "source": [
    "## GitHubとは\n",
    "\n",
    "簡単に言えば，他の人とプログラムのコードを共有するためのプラットフォームです．世の中で広く用いられているソフトウェアの中には，**オープンソース**と呼ばれる， 世界中の人々が協働して開発を行っているソフトウェアがあります．たとえば，本演習でこれから使うmatplotlibやscikit-learnといったライブラリもGitHub上で世界中の開発者が開発・メンテナンスしています．最近では，東京都が[新型コロナウイルス対策サイト](https://headlines.yahoo.co.jp/hl?a=20200305-00000048-zdn_n-sci)をGitHub上で開発したことが話題となり，NHKでも[取り上げられました](https://www3.nhk.or.jp/news/html/20200317/k10012335721000.html)． 多くのプログラム開発者がGitHubやそれに類する仕組みを利用してプログラムのコードを管理を行っています．\n",
    "\n",
    "## なぜ本演習でGitHubを使うか\n",
    "\n",
    "理由は大きく2点あります．\n",
    "\n",
    "1点目は，バージョン管理の仕組みに少しでも触れるためです.GitHubはGitと呼ばれる，ソースコードのバージョン管理の仕組みを利用しています．ソースコードのバージョン管理とは，いつ，誰が，何の修正を行ったのかを記録することであり，特に複数人や大規模なソフトウェア開発において極めて重要な仕組みです．本演習では複数人で1つのソフトウェアを作成する，ということまではできませんが，GitHubの機能を表面的でも体験しておくことで，今後GitHubや類するサービスに出会ったときに，何も知らずに出会うよりはるかに理解が進むと思います．\n",
    "\n",
    "2点目は，単純にGitHubが多くの組織で利用されているからです．2019年9月の時点で，210万以上の組織がGitHubを利用していると言われています．データ分析や情報に関連した分野に進むのであれば，GitやGitHub，それらに類するサービスに触れる可能性はかなり高いと思います．\n",
    "\n",
    "## 本演習におけるGitHubの役割\n",
    "\n",
    "データ分析演習では，GitHubおよびGitHubが提供する教育向けのサービスであるGitHub Classroomを用いて\n",
    "- 演習課題の受け取り\n",
    "- 演習課題の提出\n",
    "\n",
    "を行います． また，GitHubの操作は，GitHubが提供する GitHub Desktop を用いて行います． GitやGitHubの概念は（山本の個人的意見ですが）かなり複雑で，一度に全て理解するのは難しいと思います．データ分析演習では，GitHubの仕組みついて理解することを目的とするのではなく，よく分からないけどとにかく一度使ってみる，ということを目的としています．ですので，この資料の演習を一通りやって，自分が何をやったのかよく分からなくても全く問題ありません．今後，GitHubに触れる機会は何度も訪れると思います．そのときに少しずつ概念を理解していけば十分です．もちろん，この講義でも折を見て少しずつ仕組みについて説明する予定です．\n",
    "\n",
    "GitHubにはpull requestという，他者が行った変更を取り組むための仕組みがあり，これが実はGitHubの最も特徴的な機能なのですが，本演習ではそこまでは触れません．GitHubについてより詳しく知りたい方は，以下の書籍があります．ウェブにも多くの解説ページがありますので参考にしてみてください．\n",
    "- 大塚 弘記 GitHub実践入門 ~Pull Requestによる開発の変革, 技術評論社, 2014."
   ]
  },
  {
   "cell_type": "markdown",
   "metadata": {},
   "source": [
    "---"
   ]
  },
  {
   "cell_type": "markdown",
   "metadata": {},
   "source": [
    "# GitHub Desktopを使用して演習課題を受け取り，演習課題を提出する\n",
    "\n",
    "さて，ここからは皆さんの環境でGitHubを利用するための設定について説明します．チュートリアル資料となっていますので，この資料に従って手順1から手順5まで進めてください．手順1から手順5まで終われば，今週の演習課題は提出したことになります．\n",
    "- 説明画像をインターネットから読み込んでいますので，画像が表示されない場合はPCがインターネットに繋がっているかを確認してください．\n",
    "\n",
    "なお，すでにGitやGitHubに慣れ親しんでいる人は，GitHub Desktopを用いずに直接gitコマンドで課題を提出してもらってかまいません．その場合は，commit時のメッセージにその旨書いておいてもらえると我々の参考になります．"
   ]
  },
  {
   "cell_type": "markdown",
   "metadata": {},
   "source": [
    "## 手順1. BYOD端末へのGitHub Desktopのインストール\n",
    "まず，GitHubを操作するためのGitHub Desktopをインストールします．[GitHub Desktopのサイト](https://desktop.github.com/) からインストールしてください．WindowsでもMacでもインストール可能です．無事インストールが終われば，WindowsであればデスクトップにGitHub Desktopのショートカットが配置されていると思います．インストールが終われば，手順2に進みましょう．"
   ]
  },
  {
   "cell_type": "markdown",
   "metadata": {},
   "source": [
    "## 手順2. GitHubアカウントの作成 \n",
    "GitHubのアカウントを作成します．すでにGitHubのアカウントを持っている人は，本演習でそのアカウントを使用してかまいません．その場合は手順3に進んでください．\n",
    "\n",
    "アカウント作成の手順は下記の通りです．\n",
    "\n",
    "1. GitHub Desktopを起動する\n",
    "\n",
    "2. 起動画面にある**Create your free account**をクリックし，GitHubのアカウント作成ページへ飛ぶ\n",
    "\n",
    "<img src=\"https://rerank-lab.org/lectures/dataanalysis-2020/figures/account.png\" width=\"400px\">\n",
    "\n",
    "3. アカウント情報は下記を入力してください\n",
    "  - **Username**: 好きなユーザ名を決めて入力してください．英数字とハイフン-のみ使用可能です．  ユーザ名は何でも良いです（例: take-yamamoto）．ユーザ名は後でも変更可能なので，この演習後，いざGitHubを本格的に使用することになったときに使いたいユーザ名に変更することもできます．\n",
    "  - **Email**: 県大の自分のメールアドレス\n",
    "  - **Password**: 自分でパスワードを設定（忘れないように）\n",
    "  - Email Preferece: オフにして構いません．（オンにするといろいろとメールがやってきます）\n",
    "  \n",
    "<img src=\"https://rerank-lab.org/lectures/dataanalysis-2020/figures/create.png\" width=\"400px\">\n",
    "  \n",
    "4. スパム防止のVerify your accountを解いて select a planをクリック\n",
    "\n",
    "5. choose a plan と出るので， individualの「**Choose Free**」をクリック（無料アカウントです）\n",
    "\n",
    "<img src=\"https://rerank-lab.org/lectures/dataanalysis-2020/figures/free.png\"  width=\"400px\">\n",
    "\n",
    "6. 最後に，アンケートがでるので任意で答えて「Complete setup」を押す\n",
    "\n",
    "7. アカウント登録時に入力したメールアドレスに**Please verify your email address.**というタイトルの確認メールが届くので，そのメール中のverify email addressをクリックする．すると，GitHubのログインページがでるので，登録したユーザ名とパスワードでログインする．成功すると， **Your email was verified.** というメッセージを含んだ画面がでる．\n",
    "\n",
    "これでGitHubアカウントの作成は終わりです．ブラウザは閉じてもらってかまいません．作成したユーザ名とパスワードは忘れないようにしましょう．それでは次の手順に進んでください．"
   ]
  },
  {
   "cell_type": "markdown",
   "metadata": {},
   "source": [
    "## 手順3. 事前課題その1提出用リポジトリにアクセスし課題を受け取る\n",
    "\n",
    "GitHubのアカウントが作成できたら，ここからが本番です． データ分析演習では，課題を毎週 GitHub経由で受け取り，提出してもらうことになります． 課題の提出は，GitHub Classroomと呼ばれる，GitHubが講義用に提供する機能を使用して行います． \n",
    "\n",
    "1.  まず，事前課題その1用リポジトリを作成します． 課題演習用リポジトリを作成するためには，専用のURLにアクセスする必要があります．事前課題その1用リポジトリを作成するためのURLは下記になります．これをクリックしてください．\n",
    "  - 事前課題その1用リポジトリURL:https://classroom.github.com/a/buBlWJvC\n",
    "  - **<span style=\"color:red\">このURLは，演習課題ごとに異なります（つまり，毎週変わります）</span>**毎週，その週の講義資料やSlack等で伝達する予定です．\n",
    "\n",
    "2. GitHubのログイン画面が出てくる（すでにブラウザでログインしていれば出てこない場合もあります）のでログインする．\n",
    "  - 確認コードの入力を求められる場合もあります．その場合は確認コードがメールとして届くので，それを入力してログインする\n",
    "\n",
    "3. Authorize Github Classroom というメッセージがでるので，Authortize githubをクリック\n",
    "  - 次週以降はこの画面は出ません.この画面は，Github ClassroomがGitHub上のアカウントを操作する権限を許可しています．\n",
    "\n",
    "<img src=\"https://rerank-lab.org/lectures/dataanalysis-2020/figures/authorize.png\" width=\"400px\">\n",
    "\n",
    "4. GitHub Classroomのページに行き，　「Accept this assignment」をクリック．完了すると「You're ready to go」という画面が出てくる．この画面がでればブラウザは閉じて構いません．\n",
    "\n",
    "<img src=\"https://rerank-lab.org/lectures/dataanalysis-2020/figures/accept.png\" width=\"400px\">\n",
    "<img src=\"https://rerank-lab.org/lectures/dataanalysis-2020/figures/ready.png\" width=\"400px\">\n",
    "\n",
    "5. GitHub Desktopを起動し，GitHubにサインインする． GitHub Desktop起動時の画面にある，「Sign in to GitHub.com」をクリックし，先ほど登録したユーザ名とパスワードを入力してログインする．\n",
    "\n",
    "<img src=\"https://rerank-lab.org/lectures/dataanalysis-2020/figures/signin.png\" width=\"400px\">\n",
    "<img src=\"https://rerank-lab.org/lectures/dataanalysis-2020/figures/login.png\"  width=\"400px\">\n",
    "\n",
    "6. Configure Gitという画面がでるので，Nameに自分の名前（注: ここは実名を入力してください．例: Takehiro Yamamoto），Emailは登録時に入力したメールアドレスを入力してContinueをクリックする．\n",
    "  - この画面は初回起動時の設定で，次回以降はこの画面はでません．\n",
    "  \n",
    "<img src=\"https://rerank-lab.org/lectures/dataanalysis-2020/figures/config.png\" width=\"400px\">\n",
    "\n",
    "7. Clone a repository from the Internet... をクリック\n",
    "\n",
    "<img src=\"https://rerank-lab.org/lectures/dataanalysis-2020/figures/clone1.png\"  width=\"400px\">\n",
    "\n",
    "8. GitHub.comタブに， **sis-dataanalysis-2020/pre1-ユーザ名** というリポジトリがあるので，それを選択する．また，また， Local Pathには保存先のフォルダを指定する．\n",
    "  - 保存先はどこでも構いませんが，`C:\\Users\\自分のユーザ\\Documents\\GitHub\\DataAnalysis\\week1-ユーザ名` のように，本演習用のフォルダ（DataAnalysis)を指定しておくと後々分かりやすいと思います．\n",
    "  - もし.GitHub.comタブに， sis-dataanalysis-2020/pre1-ユーザ名 というリポジトリ表示されていなければ，その画面の「URL」タブの「URL or username/repository」と書かれたテキストボックスに，**sis-dataanalysis-2020/pre1-ユーザ名** と入力し，cloneを押してみてください．ここが一番ハマりポイントだと思いますので，よく分からなかったら教員・友人に聞いてください．\n",
    "\n",
    "<img src=\"https://rerank-lab.org/lectures/dataanalysis-2020/figures/clone2.png\"  width=\"400px\">\n",
    "\n",
    "9. 8.の操作で，GitHub上にある課題提出用のファイルが手元のマシンにコピーされました．その場所を確認してみます．エクスプローラから先ほど保存先に指定したフォルダ（上記の例では，C:\\Users\\自分のユーザ\\Documents\\GitHub\\DataAnalysis\\pre1-ユーザ名）に行ってみると，pre1-ユーザ名というフォルダの中に， **pre1_XXXXXXX.ipynb** という名前のファイルがあるかと思います．このファイルが演習課題ファイルです．\n",
    "  - 環境によっては，.gitという名前のフォルダや.gitignoreというファイルが見えたり見てなかったりしますが，気にしないでください．手元のマシンの設定で，隠しファイルを表示する設定になっているかどうかで表示されたりされなかったりします．\n",
    "\n",
    "<img src=\"https://rerank-lab.org/lectures/dataanalysis-2020/figures/folder.png\"  width=\"400px\">\n",
    "\n",
    "さて，これでGitHub上にあなた専用の，事前課題提出用のリポジトリが作成され，さらに手元のマシンにそのリポジトリのコピーが作成されました． 手順4.に進んでみましょう．\n"
   ]
  },
  {
   "cell_type": "markdown",
   "metadata": {},
   "source": [
    "## 手順4. 課題を提出する\n",
    "\n",
    "それでは，実際に演習課題を提出してみます．  本当は演習課題を解いたファイルを提出するのですが，ここでは練習として，演習課題を解く前の演習ファイルを，とりあえずファイル名を変更して，演習ファイルに氏名と学生番号を記載して提出してみます．\n",
    "\n",
    "1. pre1-ユーザ名のフォルダにある，pre1_XXXXXXX.ipynb  を pre1_自分の学生番号.ipynb に変更する． たとえば，pre1_JB19S999.ipynb のようなファイル名になる．\n",
    "\n",
    "2. AnacondaからJupyter notebookを起動し pre1_自分の学生番号.ipynb を開き，氏名と学生番号だけとりあえず修正して，保存する．\n",
    "- 修正したら保存するのを忘れないように．\n",
    "\n",
    "3. GitHub Desktopを起動する．\n",
    "\n",
    "4. 起動すると，下図の様な画面が表示される．Summaryと書かれたところに，「名前を変更」と記載する．そして， 画面左下の**commit to master**というボタンをクリックする．\n",
    "- この欄は，リポジトリを更新した際に，どのような修正を行ったのかを端的に表すメッセージを書きます．省略すると，デフォルトのメッセージが勝手に入力されるので，空欄のままでも大丈夫です．\n",
    "\n",
    "<img src=\"https://rerank-lab.org/lectures/dataanalysis-2020/figures/commit.png\"  width=\"400px\">\n",
    "\n",
    "6. commit to masterをクリックすると画面が変わるので, publish your branshの**publish branch**をクリック．この操作によりデータがGitHubに送られる．\n",
    "\n",
    "<img src=\"https://rerank-lab.org/lectures/dataanalysis-2020/figures/push.png\" width=\"400px\">\n",
    "\n",
    "これで， あなたの  pre1_assignment.ipynb がGitHub上（インターネット上）にあるあなたのリポジトリに追加されました． このように修正点をリポジトリに追加することをcommitといいます．また，commitした内容をリモート（GitHub）のリポジトリに反映することをpushといいます．これらの操作により，教員が，あなたが提出した課題ファイルにアクセスすることができます．"
   ]
  },
  {
   "cell_type": "markdown",
   "metadata": {},
   "source": [
    "## 手順5. 演習課題を修正して提出する"
   ]
  },
  {
   "cell_type": "markdown",
   "metadata": {},
   "source": [
    "いま追加した pre1_自分の学生番号.ipynb は，単にファイル名を変更して氏名と学生番号を記載しただけですので演習課題を解いてません．今週の課題は， そのノートブックに記載されてある課題1，課題2を解いて，修正されたファイルを提出することです．具体的には，以下の流れで行います． Markdownの書き方については，本ノートブックの後半をみてください．\n",
    "\n",
    "1.  pre1_自分の学生番号.ipynb をJupyter notebookで開く\n",
    "\n",
    "2. 課題1，課題2を解く．\n",
    "  - ファイルを修正した後は保存するのを忘れずに．\n",
    "\n",
    "3. 演習課題が完成したら， GitHub Desktopを起動する．\n",
    "　\n",
    "4. 画面上部のcurrent repositoryが， pre1-ユーザ名 となっているか確認する．\n",
    "\n",
    "5. Summaryに「演習課題の提出」と書く．（何も入力しないと Update  pre1_自分の学生番号.ipynb　と入力されます．それでも良いです）\n",
    "\n",
    "5. 「Commit to master」 をクリック→publish your branshの「**publish branch**」をクリックして提出"
   ]
  },
  {
   "cell_type": "markdown",
   "metadata": {},
   "source": [
    "これで，課題の提出が終わりました．事前課題その1はこれで終了です．現段階では何をやっているかよく分からなくて問題ありません．本演習だけでなく今後様々な場所でGitHubについて触れていくことで，徐々に理解が深まっていくと思います．\n",
    "\n",
    "## 次週以降の流れ\n",
    "\n",
    "次週以降は，今日説明した方法で演習課題を提出してもらいます．次週以降の典型的な流れは，以下のようになるでしょう．（講義ページの分かりやすい場所に記載しておきます）\n",
    "\n",
    "1. その週の課題用リポジトリを作成するためのURLを取得する\n",
    "  - その週の講義資料やSlack等で伝達する予定です．\n",
    "  \n",
    "2. URLをクリックして**Accept this assignment**を押して課題提出用のリポジトリを作成する \n",
    " \n",
    "2. GitHub Desktopでその週の演習課題用リポジトリをcloneして，課題を手元のマシンにコピーする\n",
    "\n",
    "3. 演習課題が完成したら，GitHub Desktopを起動し，その週の演習課題用リポジトリを選択し，演習課題ファイルを提出する．\n",
    "\n",
    "4. もし修正があればそのたびにそのファイルを提出する．"
   ]
  },
  {
   "cell_type": "markdown",
   "metadata": {},
   "source": [
    "---"
   ]
  },
  {
   "cell_type": "markdown",
   "metadata": {},
   "source": [
    "# Markdown記法に慣れる"
   ]
  },
  {
   "cell_type": "markdown",
   "metadata": {},
   "source": [
    "この資料の後半は，Markdown記法と呼ばれる記法について説明します．Jupyter notebookでコードを書く過程で（知らず知らずのうちに）すでに使用したことがある人も多いと思いますが，改めて説明しておきます．"
   ]
  },
  {
   "cell_type": "markdown",
   "metadata": {},
   "source": [
    "## Markdownとは"
   ]
  },
  {
   "cell_type": "markdown",
   "metadata": {},
   "source": [
    "簡単に言うと，文書をきれいに簡単に書くための記法のことです．たとえば，"
   ]
  },
  {
   "cell_type": "raw",
   "metadata": {},
   "source": [
    "# Markdownとは\n",
    "\n",
    "## Markdownの概要\n",
    "- 概要その1\n",
    "- 概要その2\n",
    "\n",
    "## Markdownの具体例\n",
    "Markdownとは・・・"
   ]
  },
  {
   "cell_type": "markdown",
   "metadata": {},
   "source": [
    "と書くと，下の様に表示されます．"
   ]
  },
  {
   "cell_type": "markdown",
   "metadata": {},
   "source": [
    "# Markdownとは\n",
    "\n",
    "## Markdownの概要\n",
    "- 概要その1\n",
    "- 概要その2\n",
    "\n",
    "## Markdownの具体例\n",
    "Markdownとは・・・"
   ]
  },
  {
   "cell_type": "markdown",
   "metadata": {},
   "source": [
    "---"
   ]
  },
  {
   "cell_type": "markdown",
   "metadata": {},
   "source": [
    "Jupyter notebookの特徴は，単にコードを書くだけでなく，コードと一緒にテキストによる詳細な説明も書けるという点です．コードが実行可能な文書と考えても良いかもしれません．そして，Jupyter notebookではこのテキストの部分がMarkdown記法と呼ばれる記法に従っています．本資料もほぼ全てMarkdownで書かれています．\n",
    "\n",
    "Jupyter notebookだけでなく，GitHubを始め多くのソフトウェアでMarkdown記法がサポートされています．特に，Jupyter notebookでは後述するように数式も簡単に書けます．\n",
    "\n",
    "- Jupyter notebookを使ってコーディングし，文書を書く上でMarkdownの最低限の知識は必要ですので，ここでざっくりとですが説明しておきます．技術的には，MarkdownとはHTMLを簡易的に書くための記法として位置づけられます． 世の中のウェブページはHTMLと呼ばれる言語で書かれています．HTMLについては，2回生後期の「情報マネジメント」や「プログラミング3」で触れるかもしれません．"
   ]
  },
  {
   "cell_type": "markdown",
   "metadata": {},
   "source": [
    "## Markdownの具体的な書き方\n",
    "ここでは，Markdownを書く上でよく使うであろ機能に絞って説明します． Jupyter notebookでMarkdownを書くには，セルを選択し，セルの種類をMarkdownと変更する必要があります．セルとはJupyter notebookにおけるコードや文章を書く単位のことです．ここをダブルクリックしたら灰色のブロックがでてくると思います．これが1つのセルです．\n",
    "\n",
    "セルの種類の変更は，画面上部メニューのCell -> Cell Type から選択することができます． なお，Jupyter notebookには3つの種類のセルがあります．\n",
    "\n",
    "- プログラムを書くためのCode\n",
    "- Markdownによる文章を書くためのMarkdown\n",
    "- 書いたテキストをそのまま出力するRaw NBConvert\n",
    "\n",
    "セルをMarkdownにするには，Cell TypeからMarkdownを選ぶか，あるいはセルを選択して，キーボードの`m`を押すことでも可能です．"
   ]
  },
  {
   "cell_type": "markdown",
   "metadata": {},
   "source": [
    "## 見出しを書く"
   ]
  },
  {
   "cell_type": "markdown",
   "metadata": {},
   "source": [
    "新しくセルを作成し，↓のように入力してCell typeをMarkdownに変更し，`Shift+Enter`で実行してみてください．."
   ]
  },
  {
   "cell_type": "raw",
   "metadata": {},
   "source": [
    "# 見出し1\n",
    "文章\n",
    "\n",
    "## 見出し2\n",
    "文章\n",
    "\n",
    "### 見出し3\n",
    "文章\n",
    "\n",
    "#### 見出し4\n",
    "文章"
   ]
  },
  {
   "cell_type": "markdown",
   "metadata": {},
   "source": [
    "下記のように表示されると思います．このように，`#`で見出しを作ることができます．"
   ]
  },
  {
   "cell_type": "markdown",
   "metadata": {},
   "source": [
    "# 見出し1\n",
    "文章\n",
    "\n",
    "## 見出し2\n",
    "文章\n",
    "\n",
    "### 見出し3\n",
    "文章\n",
    "\n",
    "#### 見出し4\n",
    "文章"
   ]
  },
  {
   "cell_type": "markdown",
   "metadata": {},
   "source": [
    "### 階層を書く\n",
    "階層についても見てみましょう．"
   ]
  },
  {
   "cell_type": "raw",
   "metadata": {},
   "source": [
    "1. 果物\n",
    "  1. りんご\n",
    "  2. みかん\n",
    "2. 野菜\n",
    "  1. にんじん\n",
    "  2. ピーマン\n",
    "3. 肉"
   ]
  },
  {
   "cell_type": "markdown",
   "metadata": {},
   "source": [
    "上記のように入力すると，下記のように出力されます．"
   ]
  },
  {
   "cell_type": "markdown",
   "metadata": {},
   "source": [
    "1. 果物\n",
    "  1. りんご\n",
    "  2. みかん\n",
    "2. 野菜\n",
    "  1. にんじん\n",
    "  2. ピーマン\n",
    "3. 肉"
   ]
  },
  {
   "cell_type": "markdown",
   "metadata": {},
   "source": [
    "番号付きの階層ではない階層を使いたい場合は，数字の代わりに `+`や`*`，`-` を用います． 記号はどれを用いても一緒です．"
   ]
  },
  {
   "cell_type": "raw",
   "metadata": {},
   "source": [
    "* 果物\n",
    "  - りんご\n",
    "  - みかん\n",
    "* 野菜\n",
    "  - にんじん\n",
    "  - ピーマン\n",
    "* 肉"
   ]
  },
  {
   "cell_type": "markdown",
   "metadata": {},
   "source": [
    "* 果物\n",
    "  - りんご\n",
    "  - みかん\n",
    "* 野菜\n",
    "  - にんじん\n",
    "  - ピーマン\n",
    "* 肉"
   ]
  },
  {
   "cell_type": "raw",
   "metadata": {},
   "source": [
    "文字を**強調**したり，[リンクを張る](https://sis-dataanalysis-2020.github.io/syllabus/)こともできます．"
   ]
  },
  {
   "cell_type": "markdown",
   "metadata": {},
   "source": [
    "文字を**強調**したり，[リンクを張る](https://sis-dataanalysis-2020.github.io/syllabus/)こともできます．"
   ]
  },
  {
   "cell_type": "markdown",
   "metadata": {},
   "source": [
    "## Markdownの記法について参考になるページ\n",
    "Markdownでは他にも表を表示したり画像を表示したりさまざまな記法がサポートされています． 「markdown 記法」「markdown チートシート」のようなキーワードでウェブ検索すれば，役に立つページが多く見つかると思います．なお，Markdownには様々な派生があり，Jupyter notebookではサポートされていない記法もあったりしますので，実際に思い通りに表示されるか試してみると良いでしょう．\n",
    "\n",
    "参考になるウェブサイトの例:\n",
    "-  [Markdown記法 サンプル集 - Qiita](https://qiita.com/tbpgr/items/989c6badefff69377da7)\n",
    "-  [MarkDown記法 - Qiita](https://qiita.com/Blueman81/items/72ca43681d16d44e21ad)"
   ]
  },
  {
   "cell_type": "markdown",
   "metadata": {},
   "source": [
    "## 数式を書く"
   ]
  },
  {
   "cell_type": "markdown",
   "metadata": {},
   "source": [
    "Jupyter notebookのMarkdownでは数式も表示することができます．たとえば， $y = ax^2+bx+c$ のような式を手軽に書けます．"
   ]
  },
  {
   "cell_type": "markdown",
   "metadata": {},
   "source": [
    "### 数式の書き方"
   ]
  },
  {
   "cell_type": "markdown",
   "metadata": {},
   "source": [
    "Jupyter notebookでは，数式を書く方法は大きく分けて2つあります． 1つめは，インライン表示と呼ばれる方法で， $y = ax^2+bx+c$  のように，文の中に数式を含める書き方です．これは，数式を1つの`$` で囲むことで表示することができます．新しくセルを作成し，種類をMarkdownに変えた後，以下のように書いてみましょう．"
   ]
  },
  {
   "cell_type": "raw",
   "metadata": {},
   "source": [
    "$y = ax^2+bx+c$ のように書くと，数式が文の中に表示されます．"
   ]
  },
  {
   "cell_type": "markdown",
   "metadata": {},
   "source": [
    "$y = ax^2+bx+c$ のように書くと，数式が文の中に表示されます．"
   ]
  },
  {
   "cell_type": "markdown",
   "metadata": {},
   "source": [
    "2つめの方法は，数式を2つの`$$` で囲む方法です．このようにして数式を書くと，\n",
    "$$ y = ax^2+bx+c $$ のように，数式が1行全体にわたって表示されます．"
   ]
  },
  {
   "cell_type": "raw",
   "metadata": {},
   "source": [
    "$$y = ax^2+bx+c$$ のように書くと，数式が1行にわたって表示されます．"
   ]
  },
  {
   "cell_type": "markdown",
   "metadata": {},
   "source": [
    "$$y = ax^2+bx+c$$ のように書くと，数式が1行にわたって表示されます．"
   ]
  },
  {
   "cell_type": "markdown",
   "metadata": {},
   "source": [
    "### 数式の基本的な書き方"
   ]
  },
  {
   "cell_type": "markdown",
   "metadata": {},
   "source": [
    "ここでは，いくつか具体例をあげて紹介します．セルをダブルクリックしてセルの中身を見れば，具体的にどのように記述しているのかを確認できます．数式は山のようにコマンドがあるので，その都度調べながら書ければ十分です．"
   ]
  },
  {
   "cell_type": "markdown",
   "metadata": {},
   "source": [
    "### 上付き文字，下付き文字\n",
    "上付き文字は`^`，下付文字は`_`で書きます． \n",
    "\n",
    "- 下付き文字の例: $x_{i}$, $y_{i,j}$\n",
    "- 上付き文字の例:$a^{2}$, $(a+b)^2$\n",
    "- 組み合わせ: $x_{i}^{2}$\n",
    "\n",
    "文字が1文字だけであれば，`{}`は$x_i$ $a^2$のように省略可能です．"
   ]
  },
  {
   "cell_type": "markdown",
   "metadata": {},
   "source": [
    "### 総和 $\\sum$ の書き方\n",
    "`\\sum_{}^{}` で書きます．\n",
    "$$\n",
    "\\sum_{i=1}^{n} k = \\frac{1}{2}n(n+1)\n",
    "$$"
   ]
  },
  {
   "cell_type": "markdown",
   "metadata": {},
   "source": [
    "### 分数の書き方\n",
    "`\\frac{分子}{分母}` のように書きます．\n",
    "$$\n",
    "a = \\frac{1}{b}\n",
    "$$"
   ]
  },
  {
   "cell_type": "markdown",
   "metadata": {},
   "source": [
    "### 数式あれこれ"
   ]
  },
  {
   "cell_type": "markdown",
   "metadata": {},
   "source": [
    "たとえば，$n$ 個のデータ$x_{1} \\ldots x_{n}$ の総和を求める式は，\n",
    "$$\n",
    "\\sum_{i=1}^{n}x_i\n",
    "$$\n",
    "平均 $\\bar{x}$ を求める式は，\n",
    "$$\n",
    "\\bar{x} = \\frac{1}{n}\\sum_{i=1}^{n}x_i\n",
    "$$"
   ]
  },
  {
   "cell_type": "markdown",
   "metadata": {},
   "source": [
    "正規分布 $N(\\mu, \\sigma^2)$ の確率密度関数 $f(x)$ は，\n",
    "$$\n",
    "f(x) = \\frac{1}{\\sqrt{2\\pi\\sigma^2}}\\exp\\left(\\frac{-(x-\\mu)^2}{2\\sigma^2}\\right)\n",
    "$$\n",
    "と書けます．"
   ]
  },
  {
   "cell_type": "markdown",
   "metadata": {},
   "source": [
    "### Markdownでの数式について参考になるウェブサイト\n",
    "JupyterにおけるMarkdownでの数式は，MathJax記法という記法に従っています． \n",
    "さらに詳しく言えば，LaTexと呼ばれる文書作成ソフトウェアで用いられる数式の記法に従っています．みなさんの中には卒業研究で論文を書く際にLaTeXに触れる人もいるかと思いますので，今の時点でMarkdownで数式が書けるようになっておくと後々役に立つでしょう．\n",
    "\n",
    "「MathJax 記法」「Markdown 数式」「LaTeX 数式」といったキーワードで検索すれば，有用なページが多く見つかります．\n",
    "\n",
    "\n",
    "参考になるウェブサイトの例:\n",
    "- [Qiitaの数式チートシート - Qiita](https://qiita.com/PlanetMeron/items/63ac58898541cbe81ada)\n",
    "- [LATEXチートシート - 数式記号の読み方・表し方 [SHOYAN BLOG]](https://48n.jp/blog/2016/07/12/sample-of-formula/)"
   ]
  }
 ],
 "metadata": {
  "kernelspec": {
   "display_name": "Python 3",
   "language": "python",
   "name": "python3"
  },
  "language_info": {
   "codemirror_mode": {
    "name": "ipython",
    "version": 3
   },
   "file_extension": ".py",
   "mimetype": "text/x-python",
   "name": "python",
   "nbconvert_exporter": "python",
   "pygments_lexer": "ipython3",
   "version": "3.6.9"
  }
 },
 "nbformat": 4,
 "nbformat_minor": 2
}
