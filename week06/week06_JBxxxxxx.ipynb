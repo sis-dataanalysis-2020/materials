{
 "cells": [
  {
   "cell_type": "markdown",
   "metadata": {},
   "source": [
    "# データ分析演習 week06 演習課題\n",
    "- 氏名：<氏名に置き換えてください>\n",
    "- 学生番号：<学生番号に置き換えてください>"
   ]
  },
  {
   "cell_type": "markdown",
   "metadata": {},
   "source": [
    "## はじめに\n",
    "1. このファイルの名前の(JBxxxxxx)を自分の学生番号にしてください．\n",
    "2. 上記の氏名と学生番号を忘れずに記入してください．"
   ]
  },
  {
   "cell_type": "markdown",
   "metadata": {},
   "source": [
    "## 提出方法\n",
    "- GitHub Desktopを通じてGitHubへ提出\n",
    "- 締切: **6月11日（木）**"
   ]
  },
  {
   "cell_type": "markdown",
   "metadata": {},
   "source": [
    "## この演習資料の進め方\n",
    "1. 教科書「東京大学のデータサインティスト育成講座」 ch2.4，および教科書サポートページからダウンロードしたノートブック（Chapter2.ipynbの2.4）を一通り学習してください\n",
    "2. その後，教科書およびこの資料前半の補足を参考にしながら以下の演習課題を解いてください．\n",
    "---"
   ]
  },
  {
   "cell_type": "markdown",
   "metadata": {},
   "source": [
    "はじめに，本日の演習で使うモジュールをインポートしておきます．以下のセルを実行してください．"
   ]
  },
  {
   "cell_type": "code",
   "execution_count": null,
   "metadata": {},
   "outputs": [],
   "source": [
    "import pandas as pd # pandas モジュールの読み込み．\n",
    "from pandas import DataFrame #  pandasが提供するDataFrame関数を単にDataFrame で呼べるようにする．"
   ]
  },
  {
   "cell_type": "markdown",
   "metadata": {},
   "source": [
    "## 教科書の補足"
   ]
  },
  {
   "cell_type": "markdown",
   "metadata": {},
   "source": [
    "### 補足: データフレームから特定の列や列集合だけ抽出する(ch.2.4.4)"
   ]
  },
  {
   "cell_type": "markdown",
   "metadata": {},
   "source": [
    "DataFrameから特定列のみを取り出す方法がいくつかあるので，補足しておきます．"
   ]
  },
  {
   "cell_type": "code",
   "execution_count": null,
   "metadata": {
    "scrolled": false
   },
   "outputs": [],
   "source": [
    "data = {'ID':['100','101','102','103','104'],\n",
    "               'City':['Tokyo','Osaka','Kyoto','Hokkaido','Tokyo'],\n",
    "               'Birth_year':[1990,1989,1992,1997,1982],\n",
    "               'Name':['Hiroshi','Akiko','Yuki','Satoru','Steve']}\n",
    "\n",
    "df = DataFrame(data) # データフレームを作成し変数 df に代入 \n",
    "df # df の中身を表示"
   ]
  },
  {
   "cell_type": "markdown",
   "metadata": {},
   "source": [
    "まずは，教科書ch2.4.4に書かれている方法です"
   ]
  },
  {
   "cell_type": "code",
   "execution_count": null,
   "metadata": {
    "scrolled": false
   },
   "outputs": [],
   "source": [
    "df.Birth_year  #列名を . の後に書く"
   ]
  },
  {
   "cell_type": "markdown",
   "metadata": {},
   "source": [
    "`df['列名']`　と書くことでも特定の列を抽出できます"
   ]
  },
  {
   "cell_type": "code",
   "execution_count": null,
   "metadata": {
    "scrolled": true
   },
   "outputs": [],
   "source": [
    "df['Birth_year'] # この方法でも特定の列を抽出できます"
   ]
  },
  {
   "cell_type": "markdown",
   "metadata": {},
   "source": [
    "また， 列名の配列を指定すると，複数の列が抽出できます（これは教科書にも書かれている方法です）．今日の演習課題の最後でも使います．"
   ]
  },
  {
   "cell_type": "code",
   "execution_count": null,
   "metadata": {
    "scrolled": false
   },
   "outputs": [],
   "source": [
    "df[['ID', 'Birth_year']] # ID と Birth_year の列だけ抽出 []の数に注意して見てください．"
   ]
  },
  {
   "cell_type": "markdown",
   "metadata": {},
   "source": [
    "最後の方法は参考程度にとどめておいてもらったら大丈夫ですが，1つの列名でも`df[['列名']]`として`df[]`の中身を配列にすると，結果はDataFrame型となります．"
   ]
  },
  {
   "cell_type": "code",
   "execution_count": null,
   "metadata": {
    "scrolled": false
   },
   "outputs": [],
   "source": [
    "df[['Birth_year']]  # df['Birth_year'] と結果の表示のされ方が異なっていることを確認してみてください"
   ]
  },
  {
   "cell_type": "markdown",
   "metadata": {},
   "source": [
    "pandasのデータフレームに対する行や列のへアクセスは非常に複雑ですので，徐々に慣れていけば十分です．"
   ]
  },
  {
   "cell_type": "markdown",
   "metadata": {},
   "source": [
    "### 補足: DataFrameのソート(ch.2.4.8)"
   ]
  },
  {
   "cell_type": "markdown",
   "metadata": {},
   "source": [
    "データを並び替える方法として， 教科書の方法以外にも， `sort_values()` という関数を使う方法がありよく使用します．"
   ]
  },
  {
   "cell_type": "code",
   "execution_count": null,
   "metadata": {
    "scrolled": false
   },
   "outputs": [],
   "source": [
    "data = {'ID':['100','101','102','103','104'],\n",
    "               'City':['Tokyo','Osaka','Kyoto','Hokkaido','Tokyo'],\n",
    "               'Birth_year':[1990,1989,1992,1997,1982],\n",
    "               'Name':['Hiroshi','Akiko','Yuki','Satoru','Steve']}\n",
    "\n",
    "df = DataFrame(data) # データフレームを作成し変数 df に代入 \n",
    "df # df の中身を表示"
   ]
  },
  {
   "cell_type": "markdown",
   "metadata": {},
   "source": [
    "`sort_values('ソートしたい列名')` のように使います．"
   ]
  },
  {
   "cell_type": "code",
   "execution_count": null,
   "metadata": {
    "scrolled": true
   },
   "outputs": [],
   "source": [
    "df.sort_values('Birth_year') #Birth_year の昇順でデータフレーム内のデータをソート"
   ]
  },
  {
   "cell_type": "markdown",
   "metadata": {},
   "source": [
    "また，`ascending=False`を引数として与えると，降順で並び替えることができます．"
   ]
  },
  {
   "cell_type": "code",
   "execution_count": null,
   "metadata": {
    "scrolled": true
   },
   "outputs": [],
   "source": [
    "df.sort_values('Birth_year', ascending=False) #Birth_year の降順でデータフレーム内のデータをソート"
   ]
  },
  {
   "cell_type": "markdown",
   "metadata": {},
   "source": [
    "数値以外の列でもソートできます．"
   ]
  },
  {
   "cell_type": "code",
   "execution_count": null,
   "metadata": {
    "scrolled": true
   },
   "outputs": [],
   "source": [
    "df.sort_values('Name') #文字列に対しては辞書順に並びます"
   ]
  },
  {
   "cell_type": "markdown",
   "metadata": {},
   "source": [
    "---"
   ]
  },
  {
   "cell_type": "markdown",
   "metadata": {},
   "source": [
    "## ここから演習課題"
   ]
  },
  {
   "cell_type": "markdown",
   "metadata": {},
   "source": [
    "- 教科書の練習問題 2-7 - 2-9を 一部改変して作成しています．\n",
    "- [ここにコードを書く] の箇所を修正してセルを完成していってください．\n",
    "- 出力がなんか変だな，と思ったら メニューの Kernel -> Restart & Clean outputをしてノートブックの一番上からセルを順次実行していってみてください．"
   ]
  },
  {
   "cell_type": "markdown",
   "metadata": {},
   "source": [
    "学生5名に対して性別（`Sex`），小遣い（`Money`），名前（`Name`）を調査し，結果をpandasのDataFrameとして変数 df に代入した．"
   ]
  },
  {
   "cell_type": "code",
   "execution_count": null,
   "metadata": {
    "scrolled": false
   },
   "outputs": [],
   "source": [
    "data = {'ID':['1','2','3','4','5'],\n",
    "               'Sex':['F','F','M','M','F'], #F = female（女性）， M= man（男性）です\n",
    "               'Money':[1000,2000,500,300,700],\n",
    "               'Name':['Saito','Horie','Kondo','Kawada','Matsubara']}  # このように辞書（dict）からデータフレームを作ることができます\n",
    "\n",
    "df = DataFrame(data) #データフレームを作成． 変数 df は DataFrameの略でよく変数名として用いられます．\n",
    "df # dfの中身を表示"
   ]
  },
  {
   "cell_type": "markdown",
   "metadata": {},
   "source": [
    "### 課題1. 変数 df から `Money` が1,000以上の人を絞り込み，df_rich という変数に代入し，df_rich を表示せよ\n",
    "- 教科書 ch2.4.5"
   ]
  },
  {
   "cell_type": "code",
   "execution_count": null,
   "metadata": {
    "scrolled": true
   },
   "outputs": [],
   "source": [
    "df_rich = [ここにコードを書く] # ch.2.4.5 のデータの抽出参照． df[df['...'] >= 1000]  の ... に入れるべき文字を考える\n",
    "df_rich # df_rich を表示"
   ]
  },
  {
   "cell_type": "markdown",
   "metadata": {},
   "source": [
    "正しく書けていれば，以下の様な出力が得られるはずです．"
   ]
  },
  {
   "cell_type": "raw",
   "metadata": {},
   "source": [
    "\tID\tSex\tMoney\tName\n",
    "a\t1\tF\t1000\tSaito\n",
    "b\t2\tF\t2000\tHorie"
   ]
  },
  {
   "cell_type": "markdown",
   "metadata": {},
   "source": [
    "### 課題2. 変数 df に対して，性別（`M`, `F`）ごとの `Money` の平均を求めよ\n",
    "- 教科書 ch2.4.7\n",
    "\n",
    "`groupby()`を使います． いま，性別ごとに `Money` の平均を求めたいわけですので， `groupby()`は`groupby('Sex')`としてやれば良いですね．"
   ]
  },
  {
   "cell_type": "code",
   "execution_count": null,
   "metadata": {
    "scrolled": true
   },
   "outputs": [],
   "source": [
    "df.[ここにコードを書く].mean() #ch.2.4.7 データの集計参照"
   ]
  },
  {
   "cell_type": "markdown",
   "metadata": {},
   "source": [
    "正しく求められていれば，下記のような出力が表示されるはずです． "
   ]
  },
  {
   "cell_type": "raw",
   "metadata": {},
   "source": [
    "Sex\n",
    "F    1233.333\n",
    "M     400.000\n",
    "Name: Money, dtype: float64"
   ]
  },
  {
   "cell_type": "markdown",
   "metadata": {},
   "source": [
    "`M`よりも`F`の方が，小遣いの平均が多いことが分かります．このように，`groupby('列名')`を用いることで，その列の変数の値ごとに，別の列の平均や最大値といった統計量を求めることができます．Excelの課題で行ったピボットテーブルのような分析だと思えば理解がすすむと思います．"
   ]
  },
  {
   "cell_type": "markdown",
   "metadata": {},
   "source": [
    "`mean()`の代わりに， `max()`や`min()`， `median()` などで各種統計量を求めることができます. たとえば，それぞれの性別ごとのお小遣いの最大値を求める場合は，以下の様にすれば求めることができます．"
   ]
  },
  {
   "cell_type": "code",
   "execution_count": null,
   "metadata": {
    "scrolled": true
   },
   "outputs": [],
   "source": [
    "df.groupby('Sex')['Money'].max() # 性別ごとに，Moneyの最大値を求める"
   ]
  },
  {
   "cell_type": "markdown",
   "metadata": {},
   "source": [
    "### 課題3. df と df_add を `pd.merge()`で結合し，結合した結果を変数 df_merged に代入せよ\n",
    "- 教科書 ch.2.4.6\n",
    "\n",
    "df.merge() に2つのデータフレームを入れてあげることで，2つのデータフレームを結合することができます．"
   ]
  },
  {
   "cell_type": "markdown",
   "metadata": {},
   "source": [
    "いま，この学生5名のうち4名に対して，数学と英語の成績データを得た．その結果をDataFrameとして変数 df_add に代入した．"
   ]
  },
  {
   "cell_type": "code",
   "execution_count": null,
   "metadata": {
    "scrolled": false
   },
   "outputs": [],
   "source": [
    "additional_data = {'ID':['1','2','3','4'],\n",
    "               'Math':[50,43,33,76],\n",
    "               'English':[90,30,20,50]\n",
    "                  }\n",
    "\n",
    "df_add = DataFrame(additional_data) # データフレームを作成\n",
    "df_add #df_addの中身を表示"
   ]
  },
  {
   "cell_type": "markdown",
   "metadata": {},
   "source": [
    "さて，変数 df と df_add を pd.merge() で結合し，結合した結果を変数 df_merged に代入してみましょう．"
   ]
  },
  {
   "cell_type": "code",
   "execution_count": null,
   "metadata": {
    "scrolled": false
   },
   "outputs": [],
   "source": [
    "df_merged = [ここにコードを書く] # pd.mergeを使って2つのデータフレームを結合する (ch.2.4.6)\n",
    "df_merged # df_mergedを表示"
   ]
  },
  {
   "cell_type": "markdown",
   "metadata": {},
   "source": [
    "正しく結合できていれば，以下の様な表示になります．  IDが同じ人のデータが結合されていることが分かります．データの結合方法については様々な種類があり，詳しくは教科書6章で扱います．"
   ]
  },
  {
   "cell_type": "raw",
   "metadata": {},
   "source": [
    "    ID\tSex\tMoney\tName\tMath\tEnglish\n",
    "0\t1\tF\t1000\tSaito\t50\t90\n",
    "1\t2\tF\t2000\tHorie\t43\t30\n",
    "2\t3\tM\t500\tKondo\t33\t20\n",
    "3\t4\tM\t300\tKawada\t76\t50"
   ]
  },
  {
   "cell_type": "markdown",
   "metadata": {},
   "source": [
    "### 課題4. 変数 df_merged に対して，性別（`M`, `F`）ごとに`Math`と`English`の平均を求めよ\n",
    "\n",
    "さて， 最後に，結合したデータを用いて，性別ごとに数学と英語の平均点を求めてみます．\n",
    "いろいろ方法はあるのですが， ここではまず，結合後のデータの全ての量的データに対して，性別ごとの平均を求めてみます．\n",
    "\n",
    "課題2. と同様に `groupby()` を用います． `df_merged.grouby('Sex')`のあとに列名を指定せず，直接 `df_merged.groupby('Sex').mean()` とすると，df_mergedの全ての量的データに対して，性別ごとに平均を求めることができます．"
   ]
  },
  {
   "cell_type": "code",
   "execution_count": null,
   "metadata": {
    "scrolled": true
   },
   "outputs": [],
   "source": [
    "df_merged.groupby('Sex').mean()  # 全ての量的データに対して，性別ごとに平均を求める"
   ]
  },
  {
   "cell_type": "markdown",
   "metadata": {},
   "source": [
    "以下の様な出力になるはずです"
   ]
  },
  {
   "cell_type": "raw",
   "metadata": {},
   "source": [
    "\tMoney\tMath\tEnglish\n",
    "Sex\t\t\t\n",
    "F\t1500.0\t46.5\t60.0\n",
    "M\t400.0\t54.5\t35.0"
   ]
  },
  {
   "cell_type": "markdown",
   "metadata": {},
   "source": [
    "今回扱ったデータは `Money`, `Math`, `English` という3つの列が量的データですので，それぞれについて，性別ごとの平均が求められていることが分かります．"
   ]
  },
  {
   "cell_type": "markdown",
   "metadata": {},
   "source": [
    "さて，課題は `Math`と`English`の平均点を求めることでしたので，  `df_merged.groupby('Sex').mean()` の結果から `Math`と`English`の列だけ抽出します．  `df_merged.groupby('Sex').mean()` の結果もデータフレームですので，その結果から `Math`と`English`の列を抽出します． 2つの列を抽出する方法は 教科書ch.2.4.4 や本資料の前半に書いてあります．"
   ]
  },
  {
   "cell_type": "code",
   "execution_count": null,
   "metadata": {
    "scrolled": true
   },
   "outputs": [],
   "source": [
    "df_merged.groupby('Sex').mean()[ここにコードを書く] # ラベル名がMathとEnglishの列だけ抽出する"
   ]
  },
  {
   "cell_type": "markdown",
   "metadata": {},
   "source": [
    "正しく求められていれば，下記のような結果が得られます．"
   ]
  },
  {
   "cell_type": "raw",
   "metadata": {},
   "source": [
    "\tMath\tEnglish\n",
    "Sex\t\t\n",
    "F\t46.5\t60.0\n",
    "M\t54.5\t35.0"
   ]
  },
  {
   "cell_type": "markdown",
   "metadata": {},
   "source": [
    "なお，  `[['Math', 'English']]`とすべきところを `['Math', 'English']` 　と書いた人は，セルを実行した際に `FutureWarning`という警告メッセージが出たと思います．これは，「現在はそのコードで動いているけど将来的にこのコードで動く保証はないよ」という警告メッセージです． つまり，ライブラリとしては望ましくない書き方ですので， `[['Math', 'English']]`と書き換えて再度実行してください．"
   ]
  },
  {
   "cell_type": "markdown",
   "metadata": {},
   "source": [
    "演習課題は以上です．"
   ]
  },
  {
   "cell_type": "markdown",
   "metadata": {},
   "source": [
    "今週の課題ではpandasによるデータフレームの扱いについて，機能のごく一部ですが触ってみました． 本講義のExcelで行った，VLOOKUPを用いた複数のデータの結合や，ピボットテーブルによる集約などがpandasでもできる，ということが分かれば本演習としては十分です．"
   ]
  },
  {
   "cell_type": "markdown",
   "metadata": {},
   "source": [
    "ノートブックに氏名や学生番号が記載されていなかったり，ファイル名がJBxxxxxxのままだったり，という人が見受けられます．今一度確認してからGitHub Desktopから提出してください．また，提出できているかどうかについては， [GitHub](http://github.com/)にログインして確認してみてください．"
   ]
  }
 ],
 "metadata": {
  "kernelspec": {
   "display_name": "Python 3",
   "language": "python",
   "name": "python3"
  },
  "language_info": {
   "codemirror_mode": {
    "name": "ipython",
    "version": 3
   },
   "file_extension": ".py",
   "mimetype": "text/x-python",
   "name": "python",
   "nbconvert_exporter": "python",
   "pygments_lexer": "ipython3",
   "version": "3.7.0"
  }
 },
 "nbformat": 4,
 "nbformat_minor": 2
}
