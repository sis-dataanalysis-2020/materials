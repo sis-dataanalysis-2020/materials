{
 "cells": [
  {
   "cell_type": "markdown",
   "metadata": {},
   "source": [
    "# データ分析演習 week05 演習課題\n",
    "- 氏名：<氏名に置き換えてください>\n",
    "- 学生番号：<学生番号に置き換えてください>"
   ]
  },
  {
   "cell_type": "markdown",
   "metadata": {},
   "source": [
    "## はじめに\n",
    "1. このファイルの名前の(JBxxxxxx)を自分の学生番号にしてください．\n",
    "2. 上記の氏名と学生番号を忘れずに記入してください．"
   ]
  },
  {
   "cell_type": "markdown",
   "metadata": {},
   "source": [
    "## 提出方法\n",
    "- GitHub Desktopを通じてGitHubへ提出\n",
    "- 締切: **6月4日（木）**\n",
    "  - 教科書が準備できていない人もいるかもしれませんので，6月11日（木） 14:30までの提出は減点しませんが，できる限り早い段階で提出してください．締め切りに間に合わなかった人も諦めずに提出してください．"
   ]
  },
  {
   "cell_type": "markdown",
   "metadata": {},
   "source": [
    "## この演習資料の進め方\n",
    "1. 教科書「東京大学のデータサインティスト育成講座」 ch2.1（2章1節）〜ch2.3（2章3節），および教科書サポートページからダウンロードしたノートブック（Chapter2.ipynbの2.1から2.3）を一通り学習してください\n",
    " - サポートサイト: https://book.mynavi.jp/supportsite/detail/9784839965259.html\n",
    " - パスワードは書籍に記載してあります．\n",
    "2. その後，教科書およびこの資料前半の補足を参考にしながら以下の演習課題を解いてください\n",
    " - なんかよく分からないエラーが起こったら，一旦Jupyter notebookのメニューの Kernel -> Restart & Clear Outputを実行し一回初期化して，再度上からセルを実行すると解決することもあります．\n",
    "---"
   ]
  },
  {
   "cell_type": "markdown",
   "metadata": {},
   "source": [
    "まずは，この演習で使うモジュールをインポートしておきます．インポートについては，教科書ch2.1〜を参照してください．"
   ]
  },
  {
   "cell_type": "code",
   "execution_count": 1,
   "metadata": {},
   "outputs": [],
   "source": [
    "import numpy as np # numpyモジュールを np という識別名でインポート\n",
    "from scipy import linalg # scipyのなかの線形代数用のモジュールをインポート\n",
    "from numpy import random # numpyが提供する random というモジュールを， random.choice みたいな形でアクセスできるようにする"
   ]
  },
  {
   "cell_type": "code",
   "execution_count": 2,
   "metadata": {},
   "outputs": [
    {
     "data": {
      "text/plain": [
       "'%.3f'"
      ]
     },
     "execution_count": 2,
     "metadata": {},
     "output_type": "execute_result"
    }
   ],
   "source": [
    "# numpyなどの出力を小数第3位まで表示\n",
    "%precision 3"
   ]
  },
  {
   "cell_type": "markdown",
   "metadata": {},
   "source": [
    "# 教科書の補足\n",
    "本演習と関連するところを補足しておきます．"
   ]
  },
  {
   "cell_type": "markdown",
   "metadata": {},
   "source": [
    "## np.array (ndarray) に対する各種統計量の計算（ch.2.2.2)\n",
    "教科書に記載されている `max`, `min`, `sum`, `cumsum`などの他にも 以下の関数などがあります\n",
    "- `mean` 平均\n",
    "- `var` 分散\n",
    "  - ただし，標準で（不偏分散ではない）標本分散が求まります\n",
    "  - 標本不偏分散を求める場合は `var(ddof=1)` と指定する必要があります"
   ]
  },
  {
   "cell_type": "code",
   "execution_count": 3,
   "metadata": {},
   "outputs": [
    {
     "name": "stdout",
     "output_type": "stream",
     "text": [
      "平均 = 4.0\n",
      "標本分散 = 10.0\n",
      "不偏分散 = 12.5\n"
     ]
    }
   ],
   "source": [
    "x = np.array([1, 2, 3, 4, 10]) # numpyの配列を作成 （要素を5つ持つベクトルと考えても良いです）\n",
    "print('平均 =',x.mean()) # x の平均を表示\n",
    "print('標本分散 =', x.var())\n",
    "print('不偏分散 =', x.var(ddof=1))"
   ]
  },
  {
   "cell_type": "markdown",
   "metadata": {},
   "source": [
    "（参考・興味のある人むけ）なお， np.array で作成した配列は`ndarray`という型になっています． Pythonでは `type()` と打つことで変数の型を知ることができます．\n",
    " - ndarray という名前は多次元配列（n-dimensional array) から来ています． $n=1$のとき1次元配列（つまり，ベクトルと思えば良い）， $n=2$のとき2次元配列（つまり，行列と思えば良い）になります．"
   ]
  },
  {
   "cell_type": "code",
   "execution_count": 30,
   "metadata": {},
   "outputs": [
    {
     "name": "stdout",
     "output_type": "stream",
     "text": [
      "<class 'float'>\n",
      "<class 'int'>\n",
      "<class 'float'>\n",
      "<class 'str'>\n"
     ]
    }
   ],
   "source": [
    "print(type(x)) # x の型はなに？\n",
    "print(type(10)) # 10 の型はなに？\n",
    "print(type(10.0)) # 10.0 の型はなに？\n",
    "print(type('10')) # '10' の型はなに？"
   ]
  },
  {
   "cell_type": "markdown",
   "metadata": {},
   "source": [
    "### 行列の作成方法 (ch.2.2.4)\n",
    "教科書に書いてある，`np.arange`や`np.zeros`, `np.ones` のように関数を用いて行列を作成するほかに，数値の配列（正確には， 行列の場合は配列の配列）を直接 `np.array` に渡すことで行列やベクトルを作成することもできます．たとえば，\n",
    " \n",
    "$$\n",
    "  \\mathbf{A} = \\left(\n",
    "    \\begin{array}{rrr}\n",
    "     1 & 2 & 3 \\\\\n",
    "      4 & 5 & 6 \\\\\n",
    "      7 & 8 & 9\n",
    "    \\end{array}\n",
    "  \\right) ,\n",
    "    \\mathbf{B} = \\left(\n",
    "    \\begin{array}{rr}\n",
    "      1 & 2  \\\\\n",
    "      3 & 4  \\\\\n",
    "      5 & 6 \n",
    "    \\end{array}\n",
    "  \\right) , \n",
    "    \\mathbf{c} = \\left(\n",
    "    \\begin{array}{rrr}\n",
    "      2 \\\\\n",
    "      2 \\\\\n",
    "      2\n",
    "    \\end{array}\n",
    "  \\right)\n",
    "$$\n",
    "といった行列・ベクトルはそれぞれ，以下の様にして作成できます．"
   ]
  },
  {
   "cell_type": "code",
   "execution_count": 5,
   "metadata": {},
   "outputs": [
    {
     "data": {
      "text/plain": [
       "array([[1, 2, 3],\n",
       "       [4, 5, 6],\n",
       "       [7, 8, 9]])"
      ]
     },
     "execution_count": 5,
     "metadata": {},
     "output_type": "execute_result"
    }
   ],
   "source": [
    "# 行列Aを作成（[]の数に注意しながらみてください）\n",
    "A = np.array(\n",
    "    [[1, 2, 3],\n",
    "    [4, 5, 6],\n",
    "    [7, 8, 9]]\n",
    ")\n",
    "A # 変数 A を表示"
   ]
  },
  {
   "cell_type": "code",
   "execution_count": 6,
   "metadata": {},
   "outputs": [
    {
     "data": {
      "text/plain": [
       "array([[1, 2],\n",
       "       [3, 4],\n",
       "       [5, 6]])"
      ]
     },
     "execution_count": 6,
     "metadata": {},
     "output_type": "execute_result"
    }
   ],
   "source": [
    "# 行列Bを作成（[]の数に注意しながらみてください）\n",
    "B = np.array(\n",
    "    [[1, 2],\n",
    "    [3, 4],\n",
    "    [5, 6]]\n",
    ")\n",
    "B # 変数 B を表示"
   ]
  },
  {
   "cell_type": "code",
   "execution_count": 7,
   "metadata": {
    "scrolled": true
   },
   "outputs": [
    {
     "data": {
      "text/plain": [
       "array([2, 2, 2])"
      ]
     },
     "execution_count": 7,
     "metadata": {},
     "output_type": "execute_result"
    }
   ],
   "source": [
    "# ベクトルcを作成\n",
    "c = np.array(\n",
    "    [2,2,2]\n",
    ")\n",
    "c # 変数 c を表示"
   ]
  },
  {
   "cell_type": "markdown",
   "metadata": {},
   "source": [
    "なお，これらの行列 $\\mathbf{A}, \\mathbf{B}$， ベクトル $\\mathbf{c}$ は `np.arange`や`np.ones`を用いても作成できます（ch.2.2.4)．"
   ]
  },
  {
   "cell_type": "code",
   "execution_count": 8,
   "metadata": {
    "scrolled": true
   },
   "outputs": [
    {
     "name": "stdout",
     "output_type": "stream",
     "text": [
      "A = [[1 2 3]\n",
      " [4 5 6]\n",
      " [7 8 9]]\n",
      "B = [[1 2]\n",
      " [3 4]\n",
      " [5 6]]\n",
      "c = [2. 2. 2.]\n"
     ]
    }
   ],
   "source": [
    "print('A =', np.arange(9).reshape(3,3)+1) # +1 がないとき結果がどうなるか確認してみてください\n",
    "print('B =', np.arange(6).reshape(3,2)+1)\n",
    "print('c =', np.ones(3)*2)  #*2 を *3 や *4 にかえるとどうなるか確認してみてください．"
   ]
  },
  {
   "cell_type": "markdown",
   "metadata": {},
   "source": [
    " numpyでのnp.arrayに対する要素や行のアクセスについて触れておきます (ch.2.2.4にもありますが，大事なところなので繰り返しておきます）"
   ]
  },
  {
   "cell_type": "code",
   "execution_count": 9,
   "metadata": {
    "scrolled": true
   },
   "outputs": [
    {
     "data": {
      "text/plain": [
       "1"
      ]
     },
     "execution_count": 9,
     "metadata": {},
     "output_type": "execute_result"
    }
   ],
   "source": [
    "A[0,0] # Aの1行1列目の要素 （Pythonは添え字は0始まり）"
   ]
  },
  {
   "cell_type": "code",
   "execution_count": 10,
   "metadata": {},
   "outputs": [
    {
     "data": {
      "text/plain": [
       "array([4, 5, 6])"
      ]
     },
     "execution_count": 10,
     "metadata": {},
     "output_type": "execute_result"
    }
   ],
   "source": [
    "A[1] # Aの2行目 A[1, : ] でも同じ結果"
   ]
  },
  {
   "cell_type": "code",
   "execution_count": 11,
   "metadata": {},
   "outputs": [
    {
     "data": {
      "text/plain": [
       "array([2, 5, 8])"
      ]
     },
     "execution_count": 11,
     "metadata": {},
     "output_type": "execute_result"
    }
   ],
   "source": [
    "A[:, 1] # Aの2列目"
   ]
  },
  {
   "cell_type": "code",
   "execution_count": 12,
   "metadata": {},
   "outputs": [
    {
     "data": {
      "text/plain": [
       "array([[1, 2, 3],\n",
       "       [4, 5, 6]])"
      ]
     },
     "execution_count": 12,
     "metadata": {},
     "output_type": "execute_result"
    }
   ],
   "source": [
    "A[0:2] # A の1行目〜2行目"
   ]
  },
  {
   "cell_type": "code",
   "execution_count": 13,
   "metadata": {},
   "outputs": [
    {
     "data": {
      "text/plain": [
       "array([1, 4])"
      ]
     },
     "execution_count": 13,
     "metadata": {},
     "output_type": "execute_result"
    }
   ],
   "source": [
    "A[0:2, 0] # A の1行目〜2行目 の　さらに1列目"
   ]
  },
  {
   "cell_type": "code",
   "execution_count": 14,
   "metadata": {},
   "outputs": [
    {
     "data": {
      "text/plain": [
       "array([[2, 3],\n",
       "       [5, 6]])"
      ]
     },
     "execution_count": 14,
     "metadata": {},
     "output_type": "execute_result"
    }
   ],
   "source": [
    "A[0:2, 1:3] # A の1行目〜2行目 の　さらに2列目〜3列目"
   ]
  },
  {
   "cell_type": "markdown",
   "metadata": {},
   "source": [
    "### 行列の形の確認(ch.2.2.2)\n",
    "`ndim`でndarrayの次元数，`size`で要素数が分かりますが，他にもよく使う関数として`shape`があります．これは，ndarrayのかたち（ざっくりいうと，何行何列か）を表します．"
   ]
  },
  {
   "cell_type": "code",
   "execution_count": 15,
   "metadata": {
    "scrolled": true
   },
   "outputs": [
    {
     "name": "stdout",
     "output_type": "stream",
     "text": [
      "2\n",
      "9\n",
      "(3, 3)\n"
     ]
    }
   ],
   "source": [
    "print(A.ndim) #次元数　（Aは行列なので2）\n",
    "print(A.size) #要素数\n",
    "print(A.shape) #形状（行, 列）"
   ]
  },
  {
   "cell_type": "code",
   "execution_count": 16,
   "metadata": {},
   "outputs": [
    {
     "name": "stdout",
     "output_type": "stream",
     "text": [
      "2\n",
      "6\n",
      "(3, 2)\n"
     ]
    }
   ],
   "source": [
    "print(B.ndim) #次元数\n",
    "print(B.size) #要素数\n",
    "print(B.shape) #形状（行, 列）"
   ]
  },
  {
   "cell_type": "code",
   "execution_count": 17,
   "metadata": {},
   "outputs": [
    {
     "name": "stdout",
     "output_type": "stream",
     "text": [
      "1\n",
      "3\n",
      "(3,)\n"
     ]
    }
   ],
   "source": [
    "print(c.ndim) #次元数\n",
    "print(c.size) #要素数\n",
    "print(c.shape) #形状（行, 列） #ベクトルなので，行のところだけ値をもつ"
   ]
  },
  {
   "cell_type": "markdown",
   "metadata": {},
   "source": [
    "## ここから演習課題"
   ]
  },
  {
   "cell_type": "markdown",
   "metadata": {},
   "source": [
    "### 課題1 (乱数） 教科書 ch.2.2.2-2.2.3"
   ]
  },
  {
   "cell_type": "markdown",
   "metadata": {},
   "source": [
    "課題 1-1. 標準正規分布（平均0，分散1の正規分布）に従う乱数を100個作成し 変数 x に代入し， x を表示せよ"
   ]
  },
  {
   "cell_type": "code",
   "execution_count": 18,
   "metadata": {
    "scrolled": false
   },
   "outputs": [
    {
     "data": {
      "text/plain": [
       "array([-0.031, -0.144, -0.021,  1.948, -0.894, -0.356, -2.038,  0.341,\n",
       "       -0.348, -0.817, -0.872,  0.58 , -0.033,  1.626, -0.407, -0.643,\n",
       "        0.518, -0.635, -2.048, -1.239,  0.135, -0.842, -1.197, -0.19 ,\n",
       "       -0.407,  0.445,  0.542, -0.264, -1.115,  0.651, -0.341,  0.571,\n",
       "       -0.515,  0.05 , -1.816,  1.676,  0.969,  1.242, -0.257, -0.671,\n",
       "        0.845, -0.972,  0.967,  1.257, -1.086,  0.033, -0.847, -1.316,\n",
       "       -0.47 , -0.805,  0.351,  0.521,  0.193,  0.142,  0.937,  1.938,\n",
       "       -0.927, -1.828, -1.185, -0.818, -0.255, -0.377, -1.163,  1.062,\n",
       "       -1.071, -0.433,  2.219, -1.313, -1.595, -0.074, -1.579, -2.132,\n",
       "        0.443, -0.06 , -0.068,  0.87 ,  1.201, -1.049,  0.17 ,  0.048,\n",
       "        0.815, -0.88 ,  0.751, -1.048,  0.243,  1.797, -0.955, -0.155,\n",
       "        1.187, -1.835, -0.133,  2.646,  0.987, -0.05 ,  1.024,  0.662,\n",
       "        0.214,  0.748, -0.88 , -0.75 ])"
      ]
     },
     "execution_count": 18,
     "metadata": {},
     "output_type": "execute_result"
    }
   ],
   "source": [
    "x = random.randn(100) # 標準正規分布（平均0，分散1）に従う乱数を100個作成しxに代入 (ch.2.2.3)\n",
    "x # x を表示 （このセルを実行する度にxの中身が変わることを確認してみてください）"
   ]
  },
  {
   "cell_type": "markdown",
   "metadata": {},
   "source": [
    "課題 1-2. x の最大値，最小値， 平均，標本分散，標本不偏分散を表示せよ"
   ]
  },
  {
   "cell_type": "code",
   "execution_count": 19,
   "metadata": {},
   "outputs": [
    {
     "name": "stdout",
     "output_type": "stream",
     "text": [
      "xの最大値 = 2.645599705714265\n",
      "xの最小値 = -2.1323891546939016\n",
      "xの平均 = -0.10686476068146727\n",
      "xの標本分散 = 1.011392478492086\n",
      "xの標本不偏分散 = 1.0216085641334203\n"
     ]
    }
   ],
   "source": [
    "print('xの最大値 =',x.max()) #最大値を表示 \n",
    "print('xの最小値 =',x.min()) #最小値を表示\n",
    "print('xの平均 =',x.mean()) #平均を表示\n",
    "print('xの標本分散 =',x.var()) #標本分散を表示\n",
    "print('xの標本不偏分散 =',x.var(ddof=1)) #標本不偏分散を表示"
   ]
  },
  {
   "cell_type": "markdown",
   "metadata": {},
   "source": [
    "小数点第3位以降も表示されたと思いますが，正常な動作です．\n",
    "\n",
    "さて，今回の演習課題とは関係ありませんが，xのヒストグラムについても可視化してみます．可視化にはmatplotlibというモジュールを利用します．matplotlibの使い方は再来週以降扱う予定です．\n",
    "\n",
    "以下の2つのセルを実行してみましょう．xのヒストグラムが表示されると思います．"
   ]
  },
  {
   "cell_type": "code",
   "execution_count": 20,
   "metadata": {},
   "outputs": [],
   "source": [
    "import matplotlib.pyplot as plt #matplotlibモジュールのpyplotモジュールを plt という識別名でインポート\n",
    "\n",
    "# ノートブック上に図を表示するためのマジックコマンド\n",
    "%matplotlib inline"
   ]
  },
  {
   "cell_type": "code",
   "execution_count": 21,
   "metadata": {},
   "outputs": [
    {
     "data": {
      "text/plain": [
       "(array([ 6.,  7., 19., 15., 20., 11., 13.,  4.,  3.,  2.]),\n",
       " array([-2.132, -1.655, -1.177, -0.699, -0.221,  0.257,  0.734,  1.212,\n",
       "         1.69 ,  2.168,  2.646]),\n",
       " <a list of 10 Patch objects>)"
      ]
     },
     "execution_count": 21,
     "metadata": {},
     "output_type": "execute_result"
    },
    {
     "data": {
      "image/png": "[encoded data removed]",
      "text/plain": [
       "<Figure size 432x288 with 1 Axes>"
      ]
     },
     "metadata": {
      "needs_background": "light"
     },
     "output_type": "display_data"
    }
   ],
   "source": [
    "plt.hist(x) #xのヒストグラムを表示"
   ]
  },
  {
   "cell_type": "markdown",
   "metadata": {},
   "source": [
    "課題 1-3. 'pen', 'pineapple', 'apple', 'pen' という4つの要素を含んだ np.array の変数 ppap から，復元抽出で4つ要素を無作為に抽出しxに代入せよ"
   ]
  },
  {
   "cell_type": "code",
   "execution_count": 22,
   "metadata": {
    "scrolled": true
   },
   "outputs": [
    {
     "data": {
      "text/plain": [
       "array(['pineapple', 'pen', 'pineapple', 'pineapple'], dtype=object)"
      ]
     },
     "execution_count": 22,
     "metadata": {},
     "output_type": "execute_result"
    }
   ],
   "source": [
    "ppap = np.array(['pen', 'pineapple', 'apple', 'pen'], dtype=np.object) # 配列を作成しppapに代入 dtype=以降は気にしないでください\n",
    "x = random.choice(ppap, 4) # 配列ppapから無作為復元抽出で要素を4個抽出しxに代入  (ch.2.2.3)\n",
    "x #xを表示． このセルを実行するたびに結果が変わることを確認してみてください．"
   ]
  },
  {
   "cell_type": "markdown",
   "metadata": {},
   "source": [
    "課題 1-4. 今度は配列 ppap から非復元抽出で4つ要素を抽出しxに代入せよ"
   ]
  },
  {
   "cell_type": "code",
   "execution_count": 23,
   "metadata": {},
   "outputs": [
    {
     "data": {
      "text/plain": [
       "array(['apple', 'pen', 'pineapple', 'pen'], dtype=object)"
      ]
     },
     "execution_count": 23,
     "metadata": {},
     "output_type": "execute_result"
    }
   ],
   "source": [
    "x = random.choice(ppap, 4, replace=False) # 配列ppapから非復元抽出で要素を4個抽出しxに代入  (ch.2.2.3)\n",
    "x #xを表示． なお，ちょうど pen pineapple apple pen と並ぶ確率は 1/12 だと思います．"
   ]
  },
  {
   "cell_type": "markdown",
   "metadata": {},
   "source": [
    "### 課題2 (行列の各種演算) ch.2.2.4 - 2.3.2"
   ]
  },
  {
   "cell_type": "markdown",
   "metadata": {},
   "source": [
    "以下に示す$3\\times3$の行列 $A$ とベクトル $\\mathbf{b} $について考える\n",
    "$$\n",
    "  \\mathbf{A} = \\left[\n",
    "    \\begin{array}{rrr}\n",
    "      -1 & 2 & -1 \\\\\n",
    "      3 & -4 & 2 \\\\\n",
    "      2 & 5 & -3\n",
    "    \\end{array}\n",
    "  \\right] , \n",
    "  \\mathbf{b} = \\left(\n",
    "    \\begin{array}{c}\n",
    "      1 \\\\\n",
    "      0 \\\\\n",
    "     1\n",
    "    \\end{array}\n",
    "  \\right)\n",
    "$$"
   ]
  },
  {
   "cell_type": "markdown",
   "metadata": {},
   "source": [
    "課題 2-1. 上記行列 $A$ とベクトル $\\mathbf{b} $を`np.array`で作成し，変数`A`と変数`b`にそれぞれ代入せよ"
   ]
  },
  {
   "cell_type": "code",
   "execution_count": 24,
   "metadata": {
    "scrolled": true
   },
   "outputs": [
    {
     "data": {
      "text/plain": [
       "array([[-1,  2, -1],\n",
       "       [ 3, -4,  2],\n",
       "       [ 2,  5, -3]])"
      ]
     },
     "execution_count": 24,
     "metadata": {},
     "output_type": "execute_result"
    }
   ],
   "source": [
    "A = np.array([\n",
    "    [-1, 2, -1],\n",
    "    [3, -4, 2],\n",
    "    [2, 5, -3]\n",
    "])  # Aにnp.arrayで行列を作成し代入  (この資料の補足参照)\n",
    "A # Aを表示"
   ]
  },
  {
   "cell_type": "code",
   "execution_count": 25,
   "metadata": {
    "scrolled": true
   },
   "outputs": [
    {
     "data": {
      "text/plain": [
       "array([1, 0, 1])"
      ]
     },
     "execution_count": 25,
     "metadata": {},
     "output_type": "execute_result"
    }
   ],
   "source": [
    "b = np.array([1, 0, 1]) # b　に np.array でベクトルを作成し代入 (ch.2.2.2)\n",
    "b # bを表示"
   ]
  },
  {
   "cell_type": "markdown",
   "metadata": {},
   "source": [
    "正しく定義できていれば，以下のような出力がそれぞれ得られます．"
   ]
  },
  {
   "cell_type": "raw",
   "metadata": {},
   "source": [
    "array([[-1,  2, -1],\n",
    "       [ 3, -4,  2],\n",
    "       [ 2,  5, -3]])\n",
    "       \n",
    "array([1, 0, 1])"
   ]
  },
  {
   "cell_type": "markdown",
   "metadata": {},
   "source": [
    "課題 2.2 行列$\\mathbf{A}$とベクトル$\\mathbf{b}$の積 $\\mathbf{A}\\mathbf{b}$を表示せよ"
   ]
  },
  {
   "cell_type": "code",
   "execution_count": 26,
   "metadata": {},
   "outputs": [
    {
     "data": {
      "text/plain": [
       "array([-2,  5, -1])"
      ]
     },
     "execution_count": 26,
     "metadata": {},
     "output_type": "execute_result"
    }
   ],
   "source": [
    "x = np.dot(A, b) #変数 x に A と bの積を代入 (ch.2.2.4)\n",
    "x # x を表示"
   ]
  },
  {
   "cell_type": "markdown",
   "metadata": {},
   "source": [
    "課題 2-3. 行列$\\mathbf{A}$の行列式$|\\mathbf{A}|$を表示せよ"
   ]
  },
  {
   "cell_type": "code",
   "execution_count": 27,
   "metadata": {},
   "outputs": [
    {
     "data": {
      "text/plain": [
       "1.000"
      ]
     },
     "execution_count": 27,
     "metadata": {},
     "output_type": "execute_result"
    }
   ],
   "source": [
    "x = linalg.det(A)# 変数xに行列Aの行列式を代入 (ch.2.3.2)\n",
    "x # xの中身を表示"
   ]
  },
  {
   "cell_type": "markdown",
   "metadata": {},
   "source": [
    "課題 2-4. $\\mathbf{A}$の逆行列$\\mathbf{A}^{-1}$をもとめ， 変数`A_inv`に代入せよ"
   ]
  },
  {
   "cell_type": "code",
   "execution_count": 28,
   "metadata": {
    "scrolled": false
   },
   "outputs": [
    {
     "data": {
      "text/plain": [
       "array([[ 2.000e+00,  1.000e+00, -2.776e-17],\n",
       "       [ 1.300e+01,  5.000e+00, -1.000e+00],\n",
       "       [ 2.300e+01,  9.000e+00, -2.000e+00]])"
      ]
     },
     "execution_count": 28,
     "metadata": {},
     "output_type": "execute_result"
    }
   ],
   "source": [
    "A_inv = linalg.inv(A) #行列Aの逆行列を変数A_invに代入 (ch.2.3.2)\n",
    "A_inv #A_invの中身を表示"
   ]
  },
  {
   "cell_type": "markdown",
   "metadata": {},
   "source": [
    "課題 2-5. 行列$\\mathbf{A}$と逆行列$\\mathbf{A}^{-1}$の積が単位行列になること，すなわち$\\mathbf{A}\\mathbf{A}^{-1}=\\mathbf{I}$ となることを確認せよ"
   ]
  },
  {
   "cell_type": "code",
   "execution_count": 29,
   "metadata": {
    "scrolled": true
   },
   "outputs": [
    {
     "data": {
      "text/plain": [
       "array([[ 1.000e+00,  0.000e+00,  0.000e+00],\n",
       "       [ 0.000e+00,  1.000e+00,  0.000e+00],\n",
       "       [-7.105e-15, -1.776e-15,  1.000e+00]])"
      ]
     },
     "execution_count": 29,
     "metadata": {},
     "output_type": "execute_result"
    }
   ],
   "source": [
    "X = np.dot(A, A_inv)# 変数 X に𝐀と𝐀の逆行列の積の結果を代入\n",
    "X # Xを表示"
   ]
  },
  {
   "cell_type": "markdown",
   "metadata": {},
   "source": [
    "正しく計算できていれば，以下の様な出力が得られます．"
   ]
  },
  {
   "cell_type": "raw",
   "metadata": {},
   "source": [
    "array([[ 1.000e+00,  0.000e+00,  0.000e+00],\n",
    "       [ 0.000e+00,  1.000e+00,  0.000e+00],\n",
    "       [-7.105e-15, -1.776e-15,  1.000e+00]])"
   ]
  },
  {
   "cell_type": "markdown",
   "metadata": {},
   "source": [
    "ここで表示される `1.000e+00`や`-7.105e-15`のような数字は， 指数表記とよばれる表記で，主に計算機で非常に大きな数や非常に小さな数を表示するときに用いられます．ここで，`-7.105e-15`とは$-7.105\\times 10^{-15}$を意味しています．\n",
    "\n",
    "行列とその逆行列との積は単位行列となるはずですが，実際に計算機で計算する場合は，浮動小数点の精度の問題で非常に小さな値（たとえば，`-7.105e-15`は$-7.105\\times10^{-15}$なので，限りなく0に近い値）が誤差として残ることが往々にしてあります．\n",
    "\n",
    "なお，`1.000e+00`は$1.000\\times10^0$のことで，つまり1です． Ｘの表示結果から分かるように，対角成分が1になっていることが分かります．ただし，今回は小数点第3位まで表示するようにしているため，実際には$1.0000000000000\\cdots$ではなく，小さな誤差を含んでいる場合があります．興味があれば，`X[0,0]`，`X[1,1]`，`X[2,2]`を表示してみるとよいでしょう．"
   ]
  }
 ],
 "metadata": {
  "kernelspec": {
   "display_name": "Python 3",
   "language": "python",
   "name": "python3"
  },
  "language_info": {
   "codemirror_mode": {
    "name": "ipython",
    "version": 3
   },
   "file_extension": ".py",
   "mimetype": "text/x-python",
   "name": "python",
   "nbconvert_exporter": "python",
   "pygments_lexer": "ipython3",
   "version": "3.7.0"
  }
 },
 "nbformat": 4,
 "nbformat_minor": 4
}
