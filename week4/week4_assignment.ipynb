{
 "cells": [
  {
   "cell_type": "markdown",
   "metadata": {},
   "source": [
    "# データ分析演習 第4週 演習課題\n",
    "- 氏名: ここに氏名を書くこと\n",
    "- 学生番号: ここに学生番号を書くこと"
   ]
  },
  {
   "cell_type": "markdown",
   "metadata": {},
   "source": [
    "## 提出締切\n",
    "- 次週講義開始前まで\n",
    "---"
   ]
  },
  {
   "cell_type": "markdown",
   "metadata": {},
   "source": [
    "## 課題1 Markdown記法でリストを書く\n",
    "\n",
    "次の画像と同じ表示となるように，以下のブロックを修正せよ"
   ]
  },
  {
   "cell_type": "markdown",
   "metadata": {},
   "source": [
    "## 課題1解答（画像のつもり）\n",
    "\n",
    "### 階層の練習\n",
    "\n",
    "1. 階層1\n",
    "  - 階層1-1\n",
    "  - 階層1-2\n",
    "2. 階層2\n",
    "3. 階層3"
   ]
  },
  {
   "cell_type": "markdown",
   "metadata": {},
   "source": [
    "↓のブロックに課題1の内容を書く．"
   ]
  },
  {
   "cell_type": "markdown",
   "metadata": {},
   "source": []
  },
  {
   "cell_type": "markdown",
   "metadata": {},
   "source": [
    "---"
   ]
  },
  {
   "cell_type": "markdown",
   "metadata": {},
   "source": [
    "## 課題2: Markdown記法で数式を書く\n",
    "\n",
    "- 以下のブロックを修正し，正しいブロックにせよ．"
   ]
  },
  {
   "cell_type": "markdown",
   "metadata": {},
   "source": [
    "データ $x_1, \\cdots, x_n$ に対する平均 $\\bar{x}$および分散 $s^2$ は\n",
    "\n",
    "- 平均 $\\bar{x} =$\n",
    "- 分散 $s^2 =$ \n",
    "\n",
    "として定義される．"
   ]
  },
  {
   "cell_type": "markdown",
   "metadata": {},
   "source": [
    "---"
   ]
  },
  {
   "cell_type": "markdown",
   "metadata": {},
   "source": [
    "## 課題3: GitHub Desktopによる課題の提出"
   ]
  },
  {
   "cell_type": "markdown",
   "metadata": {},
   "source": [
    "講義資料に従い，本ノートブックを week4 リポジトリに提出（コミット）せよ．\n",
    "- このノートブックに氏名と学生番号がきちんと記載してあるか確認してくださいね．"
   ]
  }
 ],
 "metadata": {
  "kernelspec": {
   "display_name": "Python 3",
   "language": "python",
   "name": "python3"
  },
  "language_info": {
   "codemirror_mode": {
    "name": "ipython",
    "version": 3
   },
   "file_extension": ".py",
   "mimetype": "text/x-python",
   "name": "python",
   "nbconvert_exporter": "python",
   "pygments_lexer": "ipython3",
   "version": "3.6.9"
  }
 },
 "nbformat": 4,
 "nbformat_minor": 2
}
