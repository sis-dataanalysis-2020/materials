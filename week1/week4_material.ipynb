{
 "cells": [
  {
   "cell_type": "markdown",
   "metadata": {},
   "source": [
    "# データ分析演習 第4週講義資料\n",
    "- 担当: 山本\n",
    "\n",
    "## この週の目的\n",
    "1. GitHubを用いたデータの取得，課題の提出ができる\n",
    "2. Markdown記法に慣れる\n",
    "\n",
    "## 演習課題\n",
    "- この週から課題の提出方法が大きく変わります． 今週を含め以降の週では，今日説明する方法で課題の提出を行います．"
   ]
  },
  {
   "cell_type": "markdown",
   "metadata": {},
   "source": [
    "# GitHubを使う"
   ]
  },
  {
   "cell_type": "markdown",
   "metadata": {},
   "source": [
    "## GitHubとは\n",
    "\n",
    "簡単に言えば，他の人とプログラムを共有するためのプラットフォームです．世の中で広く用いられているソフトウェアの中には，オープンソースと呼ばれる， 世界中の人々が協働してソフトウェアの開発を行っているソフトウェアがあります．たとえば，本演習でこれから使うmatplotlibやscikit-learnといったライブラリもGitHub上で世界中の開発者が開発・メンテナンスしています．最近では，東京都が[新型コロナウイルス対策サイト](https://headlines.yahoo.co.jp/hl?a=20200305-00000048-zdn_n-sci)をGitHub上で公開したことが[話題](https://www3.nhk.or.jp/news/html/20200317/k10012335721000.html)になりました.\n",
    "\n",
    "## なぜ本演習でGitHubを使うか\n",
    "\n",
    "理由は大きく2点あります．\n",
    "\n",
    "1点目は，バージョン管理の仕組みに少しでも触れるためです.GitHubはGitと呼ばれる，ソースコードのバージョン管理の仕組みを利用しています．ソースコードのバージョン管理とは，いつ，誰が，何の修正を行ったのかを記録することであり，特に複数人や大規模なソフトウェア開発において極めて重要な仕組みです．本演習では複数人で1つのソフトウェアを作成する，ということまではできませんが，GitHubの機能を表面的でも使用しておくことで，今後GitHubや類するサービスに出会ったときに，何も知らずに出会うよりはるかに理解が進むと思います．\n",
    "\n",
    "2点目は，単純にGitHubが多くの組織で利用されているからです．2019年9月の時点で，210万以上の組織がGitHubを利用していると言われています．データ分析や情報に関連した分野に進むのであれば，GitHubに触れる可能性はかなり高いと思います．\n",
    "\n",
    "## 本演習におけるGitHubの役割\n",
    "\n",
    "今週を含め以降の演習では，GitHubを用いて\n",
    "- 講義資料や演習課題の配布\n",
    "- 演習課題の提出\n",
    "\n",
    "を行います． また，GitHubの操作は，GitHubが提供する GitHub Desktop を用いて行います． GitHubに慣れている人は，GitHub Desktopを用いずに直接gitコマンドを打ってもらってもかまいません．"
   ]
  },
  {
   "cell_type": "markdown",
   "metadata": {},
   "source": [
    "---"
   ]
  },
  {
   "cell_type": "markdown",
   "metadata": {},
   "source": [
    "# GitHub Desktopを使用してリポジトリをクローンし課題を提出する\n",
    "\n",
    "さて，ここからは皆さんの環境でGitHubを利用するための設定について説明します．チュートリアル資料となっていますので，この資料に従って1から6まで進めてください．手順6まで終われば，今週の演習課題は提出したことになります．"
   ]
  },
  {
   "cell_type": "markdown",
   "metadata": {},
   "source": [
    "## 0. BYOD端末へのGitHub Desktopのインストール\n",
    "- BYOD端末にGitHub Desktopが未インストールの人は，[GitHub Desktopのサイト](https://desktop.github.com/) からインストールしてください．なお， 演習室のPCにはGitHub Desktopがインストールされています．\n",
    "- 注意: この手順は今日はスキップしても良いですが，どこかのタイミングで必ずやってください．演習室PCとBYOD端末の両方で演習を進めることができるようになります．\n"
   ]
  },
  {
   "cell_type": "markdown",
   "metadata": {},
   "source": [
    "これ以降の手順は，BYOD端末（要GitHub Desktop）,演習室PCのどちらで進めても構いません．"
   ]
  },
  {
   "cell_type": "markdown",
   "metadata": {},
   "source": [
    "## 1. GitHubアカウントの作成 \n",
    "GitHubのアカウントを作成します．すでにGitHubアカウントを持っている人は，本演習でそのアカウントを使用してもらっても構いません．その場合は2.に進んでください．\n",
    "\n",
    "アカウント作成の手順は下記の通りです．\n",
    "\n",
    "1. GitHub Desktopを起動する\n",
    "\n",
    "2. 起動画面にある「Create your free account」をクリックし，GitHubのアカウント作成ページへ飛ぶ\n",
    "\n",
    "![carete account](figures/account.png)\n",
    "\n",
    "3. アカウント情報は下記を入力してください\n",
    "  - **Username**: 好きなユーザ名を決めて入力してください．英数字とハイフン-のみ使用可能です．  ユーザ名は何でも良いです（例: take-yamamoto）．ユーザ名は後でも変更可能なので，この演習後，GitHubを本格的に使用することになった時に，使いたいユーザ名に変更することもできます．\n",
    "\n",
    "  - **Email**: 県大の自分のメールアドレス\n",
    "  - **Password**: 自分で設定したパスワード（忘れないように）\n",
    "  - Email Preferece: オフにして構いません．（オンにするといろいろとメールがやってきます）\n",
    "  \n",
    "4. スパム防止のVerify your accountを解いて select a planをクリック\n",
    "\n",
    "5. choose a plan と出るので， individualの「Choose Free」をクリック（無料アカウントです）\n",
    "\n",
    "6. 最後に，アンケートがでるので任意で答えて「Complete setup」を押す\n",
    "\n",
    "7. アカウント登録時に入力したメールアドレスに確認メールが届くので，そのメール中のverify email addressをクリックする．すると，GitHubのログインページがでるので，登録したユーザ名とパスワードでログインする．成功すると， Your email was verified. というメッセージを含んだ画面がでる．\n",
    "\n",
    "これでGitHubアカウントの作成は終わりです．作成したユーザ名とパスワードは忘れないようにしましょう．それでは次の手順に進んでください．"
   ]
  },
  {
   "cell_type": "markdown",
   "metadata": {},
   "source": [
    "## 2. 本演習のリポジトリの取得\n",
    "GitHub Desktopを使って，GitHub上にある本演習のリポジトリのデータをローカルのマシンにコピーすることを行います．これにより，演習課題や講義資料などを取得することができます．\n",
    "\n",
    "1. GitHub DesktopからGitHubにサインインする．GitHub Desktop起動時の画面にある， 「Sign in to GitHub.com」をクリックし，先ほど登録したユーザ名とパスワードを入力してログインする．\n",
    "![login](figures/signin.png)\n",
    "\n",
    "![login](figures/login.png)\n",
    "\n",
    "2. Configure Gitという画面がでるので，Nameに自分の名前（**注: ここは実名を入力してください．例: Takehiro Yamamoto**），Emailは登録時に入力したメールアドレスを入力してContinueをクリック\n",
    "\n",
    "![login](figures/config.png)\n",
    "\n",
    "3. Add Local repositryという画面が出るので，これはCancelをクリック\n",
    "\n",
    "![cancel](figures/cancel.png)\n",
    "\n",
    "4. Clone a repository from the Internet... をクリック\n",
    "\n",
    "![clone](figures/clone1.png)\n",
    "\n",
    "5. でた画面の「URL」タブに移動して，URL or username/repository というテキストボックスに ***sis-dataanalysis-2020/materials*** と入力する．保存先は，演習室PCであれば，Z:\\の中，BYOD端末であれば自分の分かりやすい場所であればどこでも良いです．よく分からなければデフォルトの設定で大丈夫です．準備ができたらCloneをクリック．これにより，GitHub上にある本演習の資料が，手元のマシンにコピーされます．\n",
    "\n",
    "![clone](figures/clone2.png)\n",
    "\n",
    "6. ローカルのマシンのコピーされたファイルを確認します．Clone後のGitHub Desktopの画面に表示されている，View the files of your repository in Explore の Show in Exploreをクリックすると，いまcloneしたリポジトリがあるフォルダが開かれます．エクスプローラで直接先ほど保存先に保存した場所にアクセスしてもOKです．\n",
    "\n",
    "7. materialsというフォルダの中に，week4 というフォルダがあると思います．その中に，README.mdというファイルと，week4_material.ipynbとweek4_assignment.ipynbという二つのノートブックファイルがあることを確認する．\n",
    "\n",
    "8. GitHub Desktopを終了する．\n",
    "\n",
    "これにより，GitHub上にある本演習のデータを手元のマシンにコピーすることができました．\n",
    "\n",
    "Gitの機能の文脈で説明すると，今やったことは，GitHub上にあるリポジトリ（リポジトリとは，データを保存する場所のこと）をローカルにcloneしました． （今は全く意味が分からなくてOK）"
   ]
  },
  {
   "cell_type": "markdown",
   "metadata": {},
   "source": [
    "## 3. 本演習のリポジトリの更新\n",
    "\n",
    "さて，先ほどの操作で，本演習の資料を手元にコピーすることができました．しかし，このコピーは現時点での，GitHub上にあるデータをコピーしているだけですので，GitHub上のデータが更新されても，手元のデータは古いままとなります．次週以降は，必要な講義資料や演習課題はGitHub上のリポジトリを更新し，みなさんが講義を受けるさいにそれぞれ手動で手元の環境を最新にしてもらいます．ここでは， データを最新にするやり方についても説明します．\n",
    "\n",
    "1. GitHub Desktopを起動する\n",
    "\n",
    "2. Curent repositoryが materialsになっていることを確認する．なっていなければCurrent repositoryをクリックして変更する．\n",
    "\n",
    "3. メニューの Repository -> Pull をクリック．すると，更新がある場合は手元のデータが最新のものに更新される．更新の別の方法として，画面上部の Fetch origin をクリックし，更新がある場合はそこがPull originに変わるのでそれを再度クリック　でも更新できます．\n",
    "\n",
    "Gitの文脈で説明すると，これは，GitHub上にあるリポジトリの修正を手元のリポジトリに取り込む，pull という操作を行ったことになります． "
   ]
  },
  {
   "cell_type": "markdown",
   "metadata": {},
   "source": [
    "## 4. 第4週目演習課題提出用リポジトリにアクセス\n",
    "\n",
    "さて，今週からは，課題についてもGitHubに提出してもらうことになります． 課題の提出は，GitHub Classroomと呼ばれる，GitHubが講義用に提供する機能を使用して行います． \n",
    "\n",
    "1.  まず，第4週目演習課題用リポジトリを作成します． 演習用リポジトリのweek4にあるREADME.mdに，GitHub Classroomと書かれた欄がありますので，そこに記載されているURLにアクセスしてください．\n",
    "\n",
    "2. GitHubのログイン画面が出てくる（すでにブラウザでログインしていれば出てこない場合もあります）のでログインする．\n",
    "  - 確認コードの入力を求められる場合もあります．その場合は確認コードがメールとして届くので，それを入力してログインする\n",
    "\n",
    "3. Authorize Github Classroom というメッセージがでるので，Authortize githubをクリック\n",
    "  - 次週以降はこの画面は出ません.Github ClassroomがGitHub上のアカウントを操作する権限を許可しています．\n",
    "\n",
    "4. GitHub Classroomのページに行き，　「accept this assignment」をクリック．\n",
    "\n",
    "5. GitHub Desktopを起動し，起動画面から， Clone a repository from the Internet　をクリック，あるいは，画面上部のメニューから，File -> clone repositoryをクリック\n",
    "\n",
    "6. GitHub.comタブに， sis-dataanalysis-2020/week4-ユーザ名 というリポジトリがあるので，それを選択してclone\n",
    "\n",
    "7. View the files of your repository in Explore の Show in Exploreをクリックすると，いまcloneしたリポジトリがあるフォルダが開かれる．この段階では中身は空のフォルダとなっていることを確認． （正確には，.git　という名前のフォルダだけがあります．人によっては非表示になっているかも）\n",
    "\n",
    "この手順により，GitHub上にあなた専用の演習課題提出用のリポジトリが作成され，さらに手元にそのリポジトリのコピーが作成されました．\n"
   ]
  },
  {
   "cell_type": "markdown",
   "metadata": {},
   "source": [
    "## 5. 課題を提出する\n",
    "\n",
    "それでは，実際に演習課題を提出してみます．  本当は演習課題を解いたファイルを提出するのですが，ここでは練習として，演習課題を解く前の演ファイルを提出してみます．\n",
    "\n",
    "1. エクスプローラで演習用リポジトリが保存されているフォルダにいく\n",
    "\n",
    "2. materials\\week4\\ の中にある week4_assignment.ipynb をコピーし， 先ほどcloneした演習課題提出用リポジトリが保存されているフォルダにペーストする\n",
    "\n",
    "3. GitHub Desktopを起動する．\n",
    "\n",
    "4. 画面上部のcurrent-repositoryがweek4-ユーザ名になっているかを確認．なっていなければ，current repositoryをクリックし， week4-ユーザ名を選択\n",
    "  - これで，現在操作中のリポジトリを演習課題提出用のリポジトリにすることができます\n",
    "  - 正しく設定されていれば，こんな感じの画面になっていると思います．\n",
    "\n",
    "5. 以下に示す欄に「演習課題（未完成）の提出」と書く．この欄はリポジトリを更新した際に，どのような修正点を行ったのかを端的に表すメッセージを書きます．何も書かなければ， create week4_assignment.ipynb がデフォルトで設定されます．メッセージを入力したら，commit to masterをクリックする．\n",
    "\n",
    "![commit](figures/commit.png)\n",
    "\n",
    "6. commit to masterをクリックすると画面が変わるので, publish your branshのpublish branchをクリック．この操作によりデータがGitHubに送られる．\n",
    "\n",
    "![push](figures/push.png)\n",
    "\n",
    "これで， あなたの  week4_assignment.ipynb がGitHub上（インターネット上）にあるあなたのリポジトリに追加されました． このように修正点をリポジトリに追加することをcommitといいます．また，commitした内容をリモート（GitHub）のリポジトリに反映することをpushといいます．これらの操作により，教員やTAが，あなたが提出した課題ファイルにアクセスすることができます．"
   ]
  },
  {
   "cell_type": "markdown",
   "metadata": {},
   "source": [
    "## 6. 課題を修正して提出する"
   ]
  },
  {
   "cell_type": "markdown",
   "metadata": {},
   "source": [
    "いま追加した week4_assignment.ipynb は，単にコピーしただけですので演習課題を解いてません．今週の課題は， week4_assignment.ipynb を修正して，修正されたファイルを提出することです．具体的には，以下の流れで行います． Markdownの書き方については，本ノートブックの後半をみてください．\n",
    "\n",
    "1.  演習課題提出用リポジトリにある，．先ほどコピーした week4_assignment.ipynb をAnacondaで開く\n",
    "\n",
    "2. week4_assignment.ipynb の中身に従ってノートブックを修正する．\n",
    "\n",
    "3. 修正が終わったら（つまり，演習課題が完成したら）， GitHub Desktopを起動する．\n",
    "　\n",
    "4. current repositoryが， week4-ユーザ名 のリポジトリになっているか確認する．\n",
    "\n",
    "5. メッセージに演習課題の提出と書く．（メッセージは何でもいいです．何も入力しないと Update  week4_assignment.ipynb　と入力されます）\n",
    "\n",
    "5. Commit to master をクリック→→publish your branshのpublish branchをクリックして提出\n",
    "\n",
    "\n"
   ]
  },
  {
   "cell_type": "markdown",
   "metadata": {},
   "source": [
    "これで，課題の提出が終わりました．　第4週の演習課題はこれで終了です．　現段階では何をやっているかよく分からくて問題ありません．本演習だけでなく今後様々な場所でGitHubについて触れていくことで，徐々に理解が深まっていくと思います．\n",
    "\n",
    "## 次週以降の流れ\n",
    "\n",
    "次週以降は，今日説明した方法で演習課題を提出してもらいます．次週以降の典型的な流れは，以下のようになるでしょう．（講義ページの分かりやすい場所に記載しておきます）\n",
    "\n",
    "1. GitHub Desktopを起動し，本演習用のリポジトリ（sis-dataanalysis2020\\materials）を選択\n",
    "\n",
    "2. ファイルの更新がないかpullを行う\n",
    "\n",
    "3. 今週の課題用リポジトリを作成するためのURLにアクセスする\n",
    " - 課題作成のためのURLは講義ページ，あるいは 本演習用のリポジトリの今週のところに記載するようにします\n",
    "\n",
    "4. GitHub Desktopで今週の課題用リポジトリをcloneする\n",
    "\n",
    "5. sis-dataanalysis2020\\materials\\weekX に演習課題のファイルがあるので，それを課題提出用のリポジトリにコピー．そのファイルを開いて演習課題を進める\n",
    "\n",
    "7. 演習課題が完成したら，GitHub Desktopで，今週の課題用リポジトリを選択し，その演習課題ファイルを提出する．\n",
    "\n",
    "8. もし修正があればそのたびにそのファイルを提出する．\n"
   ]
  },
  {
   "cell_type": "code",
   "execution_count": null,
   "metadata": {},
   "outputs": [],
   "source": []
  }
 ],
 "metadata": {
  "kernelspec": {
   "display_name": "Python 3",
   "language": "python",
   "name": "python3"
  },
  "language_info": {
   "codemirror_mode": {
    "name": "ipython",
    "version": 3
   },
   "file_extension": ".py",
   "mimetype": "text/x-python",
   "name": "python",
   "nbconvert_exporter": "python",
   "pygments_lexer": "ipython3",
   "version": "3.6.9"
  }
 },
 "nbformat": 4,
 "nbformat_minor": 2
}
