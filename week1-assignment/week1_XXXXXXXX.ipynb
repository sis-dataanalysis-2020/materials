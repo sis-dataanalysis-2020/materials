{
 "cells": [
  {
   "cell_type": "markdown",
   "metadata": {},
   "source": [
    "# データ分析演習 第1週 演習課題\n",
    "- 氏名: ここに氏名を書くこと\n",
    "- 学生番号: ここに学生番号を書くこと"
   ]
  },
  {
   "cell_type": "markdown",
   "metadata": {},
   "source": [
    "## 提出方法\n",
    "- 本ノートブックのファイル名を week1_XXXXXXXX.ipynb　から week1_自分の学生番号.ipynb に変更し，今週の課題のリポジトリに提出すること．\n",
    "- 締め切り: 次週講義開始前まで\n",
    "---"
   ]
  },
  {
   "cell_type": "markdown",
   "metadata": {},
   "source": [
    "## 課題1 Markdown記法でリストを書く\n",
    "\n",
    "下記画像と同じ表示となるように，以下の「このブロックを修正」と書かれたブロックにMarkdownをかけ．"
   ]
  },
  {
   "cell_type": "markdown",
   "metadata": {},
   "source": [
    "# データ分析演習\n",
    "\n",
    "## 第一週課題\n",
    "\n",
    "1. 階層1\n",
    "  - 階層1-1\n",
    "  - 階層1-2\n",
    "2. 階層2\n",
    "3. 階層3"
   ]
  },
  {
   "cell_type": "markdown",
   "metadata": {},
   "source": [
    "このブロックを修正"
   ]
  },
  {
   "cell_type": "markdown",
   "metadata": {},
   "source": [
    "---"
   ]
  },
  {
   "cell_type": "markdown",
   "metadata": {},
   "source": [
    "## 課題2: Markdown記法で数式を書く\n",
    "\n",
    "- 以下のブロックにMarkdownで数式を書くことで正しいブロックにせよ．"
   ]
  },
  {
   "cell_type": "markdown",
   "metadata": {},
   "source": [
    "データ $x_1, \\cdots, x_n$ に対する平均 $\\bar{x}$および分散 $s^2$ は\n",
    "\n",
    "- 平均 $\\bar{x} =$\n",
    "- 分散 $s^2 =$ \n",
    "\n",
    "として定義される．"
   ]
  },
  {
   "cell_type": "markdown",
   "metadata": {},
   "source": [
    "---"
   ]
  },
  {
   "cell_type": "markdown",
   "metadata": {},
   "source": [
    "## 課題3: GitHub Desktopによる課題の提出"
   ]
  },
  {
   "cell_type": "markdown",
   "metadata": {},
   "source": [
    "講義資料に従い，本ノートブックを 今週の課題提出用リポジトリに提出せよ．\n",
    "- このノートブックに氏名と学生番号がきちんと記載してあるか，また，ファイル名がweek1_自分の学生番号.ipynb となっているか確認してください．"
   ]
  }
 ],
 "metadata": {
  "kernelspec": {
   "display_name": "Python 3",
   "language": "python",
   "name": "python3"
  },
  "language_info": {
   "codemirror_mode": {
    "name": "ipython",
    "version": 3
   },
   "file_extension": ".py",
   "mimetype": "text/x-python",
   "name": "python",
   "nbconvert_exporter": "python",
   "pygments_lexer": "ipython3",
   "version": "3.6.9"
  }
 },
 "nbformat": 4,
 "nbformat_minor": 2
}
