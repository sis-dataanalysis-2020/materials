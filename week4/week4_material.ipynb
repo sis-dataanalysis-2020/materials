{
 "cells": [
  {
   "cell_type": "markdown",
   "metadata": {},
   "source": [
    "# データ分析演習 第4週講義資料\n",
    "- 担当: 川嶋，山本，湯本\n",
    "\n",
    "## この週の目的\n",
    "1. GitHubを用いたデータの取得，課題の提出ができる\n",
    "2. Markdown記法に慣れる\n",
    "\n",
    "## 演習課題\n",
    "- この週から課題の提出方法が大きく変わります． 今週を含め以降の週では，今日説明する方法で課題の提出を行います．"
   ]
  },
  {
   "cell_type": "markdown",
   "metadata": {},
   "source": [
    "# 1. GitHubを使う"
   ]
  },
  {
   "cell_type": "markdown",
   "metadata": {},
   "source": [
    "## GitHubとは\n",
    "\n",
    "簡単に言えば，他の人とプログラムを共有するためのプラットフォームです．世の中で広く用いられているソフトウェアの中には，オープンソースと呼ばれる， 世界中の人々が協働してソフトウェアの開発を行っているソフトウェアがあります．たとえば，本演習でこれから使うmatplotlibやscikit-learnといったライブラリもGitHub上で世界中の開発者が開発・メンテナンスしています．最近では，東京都が[新型コロナウイルス対策サイト](https://headlines.yahoo.co.jp/hl?a=20200305-00000048-zdn_n-sci)をGitHub上で公開したことが話題になりました.\n",
    "\n",
    "## なぜ本演習でGitHubを使うか\n",
    "\n",
    "大きく2点あります．1点目は，バージョン管理の仕組みに少しでも慣れることです.GitHubはGitと呼ばれる，ソースコードのバージョン管理の仕組みを利用しています．ソースコードのバージョン管理とは，いつ，誰が，何の修正を行ったのかを記録することであり，特に複数人や大規模でのソフトウェア開発において極めて重要な仕組みです．本演習では複数人で1つのソフトウェアを作成する，ということまではできませんが，GitHubの機能を表面的でも使用しておくことで，今後GitHubや類するサービスに出会ったときに，何も知らずに出会うよりはるかに理解が進むと思います．\n",
    "\n",
    "2点目は，単純にGitHubが多くの組織で利用されているからです．2019年9月の時点で，210万以上の組織がGitHubを利用していると言われています．データ分析や情報に関連した分野に進むのであればGitHubに触れる可能性はかなり高いと思います．"
   ]
  },
  {
   "cell_type": "markdown",
   "metadata": {},
   "source": [
    "# （チュートリアル）GitHub Desktopを使用してリポジトリをクローンし課題を提出する\n",
    "\n",
    "さて，ここからは皆さんの環境でGitHubを利用するための設定について説明します．チュートリアル資料となっていますので，この資料の通り x - x　まで行ってください．手順6まで終われば，今週の演習課題は提出したことになります．[TODO]画像を準備 "
   ]
  },
  {
   "cell_type": "markdown",
   "metadata": {},
   "source": [
    "## 0. GitHub Desktopのインストール（BYODの人で未インストールの人向け）\n",
    "- 演習室のPCにはGitHub Desktopがインストールされています．BYODで GitHub Desktopが未インストールの人は，この説明に従ってGitHub Desktopをインストールしてください．\n"
   ]
  },
  {
   "cell_type": "markdown",
   "metadata": {},
   "source": [
    "## 1. GitHubアカウントの作成 \n",
    "- すでにGitHubアカウントを持っている人は，本演習でそのアカウントを使用してもらっても構いません．その場合は2.に進んでください．\n",
    "\n",
    "\n",
    "1. Github Desktopを起動する\n",
    "\n",
    "2. Create your free account をクリックしてGithubのアカウント作成ページへ飛ぶ\n",
    "\n",
    "3. Usernameに自分で使用したユーザ名を入力する．emailは県大のアドレスを使用する．passwordは自分で設定する．Email prefrencesはオフで問題ないです．\n",
    "  - 英数字とハイフン-のみ使用可能です．\n",
    "  - ユーザ名は何でも良いです．ユーザ名は後でも変更可能なので，この演習後，GitHubを本格的に使用することになった時に，使いたいユーザ名に変更することもできます．\n",
    "  \n",
    "4. verify your accountを解いて select a planをクリック\n",
    "\n",
    "5. choose a plan と出るので， individualのChoose Freeをクリック（無料アカウントです）\n",
    "\n",
    "6. 最後に，アンケートがでるので任意で答えて Complete setupを押す\n",
    "\n",
    "7. アカウント登録時に入力したメールアドレスに確認メールが届くので，そのメール中のverify email addressをクリックする．すると，GitHubのログインページがでるので，登録したユーザ名とパスワードでログインする．成功すると， Your email was verified. というメッセージを含んだ画面がでる．これでアカウントの作成は終わり．"
   ]
  },
  {
   "cell_type": "markdown",
   "metadata": {},
   "source": [
    "## 2. 本演習のリポジトリの取得\n",
    "\n",
    "1. GitHub DesktopからGitHubにサインイン\n",
    "- GitHub Desktop起動時の画面にある， Sign in to GitHub.com をクリックして，ユーザ名とパスワードを入力してログイン\n",
    "\n",
    "2. Configure Gitという画面がでるので，名前は自分の名前（できればここは実名にしてください．例: Takehiro Yamamoto），Emailは登録時に入力したメールアドレスを入力してcontinue\n",
    "\n",
    "3. Add Local repositryという画面が出るので，これはCancelをクリック\n",
    "\n",
    "4. Clone a repository from the Internet... をクリック\n",
    "\n",
    "5. でた画面の「URL」タブに移動して，URL or username/repository というテキストボックスに ***sis-dataanalysis-2020/materials*** と入力し，Cloneをクリック\n",
    "\n",
    "6. View the files of your repository in Explore の Show in Exploreをクリックすると，いまcloneしたリポジトリがあるフォルダが開かれる．\n",
    "\n",
    "7. week4 というフォルダの中に，README.mdというファイルと，week4_material.ipynbとweek4_assignment.ipynbという二つのノートブックファイルがあることを確認する．\n",
    "\n",
    "8. GitHub Desktopを終了する．\n"
   ]
  },
  {
   "cell_type": "markdown",
   "metadata": {},
   "source": [
    "## 3. 本演習のリポジトリの更新\n",
    "\n",
    "次週以降，演習の資料についてはこのリポジトリに更新します．\n",
    "\n",
    "1. GitHub Desktopを起動する\n",
    "\n",
    "2. Curent repositoryが materialsになっていることを確認する．\n",
    "\n",
    "3. メニューの Repository -> Pull をクリック，あるいは，画面上部の Fetch origin をクリック→更新がある場合はPull originに変わるのでそれをクリック　でも良い．"
   ]
  },
  {
   "cell_type": "markdown",
   "metadata": {},
   "source": [
    "## 4. 第4週目演習課題提出用リポジトリにアクセス\n",
    "1. このURLにアクセスしてください．[https://classroom.github.com/a/kNOeMrw5](https://classroom.github.com/a/kNOeMrw5)\n",
    "\n",
    "2. GitHubのログイン画面が出てくる（出てこない場合もあると思います）のでログイン，また，確認コードを求められる場合は，確認コードがメールに届いているので，それを入力してログイン\n",
    "\n",
    "3. Authorize Github Classroom というメッセージがでるので，Authortize githubをクリック\n",
    "\n",
    "4. GitHub Classroomのページに行き，accept this assignmentをクリック．これにより，sis-dataanalysis2020に week4-ユーザ名，という，この課題専用の自分のリポジトリが作成される．\n",
    "\n",
    "5. GitHub Desktopを起動し，起動画面から， Clone a repository from the Internet　をクリック，あるいは，画面上部のメニューから，File -> clone repositoryをクリック\n",
    "\n",
    "6. GitHub.comタブに， sis-dataanalysis-2020/week4-ユーザ名 というリポジトリがあるので，それを選択してclone\n",
    "\n",
    "7. View the files of your repository in Explore の Show in Exploreをクリックすると，いまcloneしたリポジトリがあるフォルダが開かれる．この段階では中身は空のフォルダとなっていることを確認． （正確には，.git　という名前のフォルダだけがあります．人によっては非表示になっているかも）\n",
    "\n",
    "\n"
   ]
  },
  {
   "cell_type": "markdown",
   "metadata": {},
   "source": [
    "## 5. 課題を提出する\n",
    "\n",
    "1. エクスプローラで演習用リポジトリが保存されているフォルダにいく（演習室のPCだと，Z:\\GitHub\\sis-dataanalysis2020\\materials\\week4 ）\n",
    "\n",
    "2. そこにある week4_assignment.ipynb をコピーし， 先ほどcloneした演習課題提出用リポジトリが保存されているフォルダ（演習室のPCだと，Z:\\GitHub\\sis-dataanalysis2020\\week4-ユーザ名）にペースト\n",
    "\n",
    "3. GitHub Desktopを起動する\n",
    "\n",
    "画面上部のcurrent-repositoryがweek4-ユーザ名になっているかを確認．なっていなければ，current repositoryをクリックし， week4-ユーザ名を選択\n",
    "\n",
    "4. こんな感じの画面になっている\n",
    "\n",
    "5. commit to masterをクリック→publish your branshのpublish branchをクリック\n",
    "\n",
    "これで， あなたの  week4_assignment.ipynb がGitHub上（インターネット上）にあるあなたのリポジトリに追加されました． これにより，教員やTAが，あなたが提出した課題ファイルにアクセスすることができます．"
   ]
  },
  {
   "cell_type": "markdown",
   "metadata": {},
   "source": [
    "## 6. 課題を修正して提出する"
   ]
  },
  {
   "cell_type": "markdown",
   "metadata": {},
   "source": [
    "いま追加した，week4_assignment.ipynb はそのままでは不十分です．今週の課題は，このノートブックを修正して，修正されたファイルをcommitすることです．具体的には，以下の流れで行います． MarkDownの書き方については，本ノートブックの後半をみてください．\n",
    "\n",
    "1.  演習課題提出用リポジトリが保存されているフォルダ（演習室のPCだと，Z:\\GitHub\\sis-dataanalysis2020\\week4-ユーザ名）にある，week4_assignment.ipynbをAnacondaで開く\n",
    "\n",
    "2. week4_assignment.ipynbに従ってノートブックを修正する．\n",
    "\n",
    "3. 修正が終わったら（つまり，演習課題が完成したら）， GitHub Desktipを起動し， week4-ユーザ名　のリポジトリになっているか確認\n",
    "\n",
    "4. メッセージに課題4の提出と書く．このメッセージは通常，リポジトリの更新内容を端的に表すメッセージを入力します． たとえば， ○○が間違っていたので修正．　といったメッセージでも何でも良いです．何も入力しないと Update  week4_assignment.ipynb　と入力されます．\n",
    "\n",
    "5. Commit to master をクリック→→publish your branshのpublish branchをクリック\n",
    "\n",
    "\n"
   ]
  },
  {
   "cell_type": "markdown",
   "metadata": {},
   "source": [
    "これで，課題の提出が終わりました．　第4週の演習課題はこれで終了です．次週以降は，この方法で演習課題を提出してもらいます．次週以降の典型的な流れは，以下の様になります．（講義ページの分かりやすい場所に記載しておきます）\n",
    "\n",
    "1. GitHub　Desktopを起動し， 本演習用のリポジトリ（sis-dataanalysis2020\\materials）を選択\n",
    "\n",
    "2. ファイルの更新がないかpullを行う\n",
    "\n",
    "3. 今週の課題用リポジトリを作成するためのURLにアクセスする\n",
    "- 課題作成のためのURLは講義ページ，あるいは 本演習用のリポジトリの今週のところに記載するようにします．\n",
    "\n",
    "5. GitHub Desktopで今週の課題用リポジトリをcloneする．\n",
    "\n",
    "6. sis-dataanalysis2020\\materials\\weekX に演習課題のファイルがあるので，それに従って演習課題を進める．\n",
    "\n",
    "7. 演習課題のファイルを今週の課題提出用リポジトリにコピーする\n",
    "\n",
    "8. GitHub Desktopで，今週の課題用リポジトリを選択し，その演習課題ファイルをcommitする．\n",
    "\n",
    "9. もし修正があればそのたびにそのファイルをcommitする．\n"
   ]
  }
 ],
 "metadata": {
  "kernelspec": {
   "display_name": "Python 3",
   "language": "python",
   "name": "python3"
  },
  "language_info": {
   "codemirror_mode": {
    "name": "ipython",
    "version": 3
   },
   "file_extension": ".py",
   "mimetype": "text/x-python",
   "name": "python",
   "nbconvert_exporter": "python",
   "pygments_lexer": "ipython3",
   "version": "3.6.9"
  }
 },
 "nbformat": 4,
 "nbformat_minor": 2
}
